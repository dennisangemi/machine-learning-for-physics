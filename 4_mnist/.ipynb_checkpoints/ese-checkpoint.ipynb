{
 "cells": [
  {
   "cell_type": "markdown",
   "id": "8dbc54c8",
   "metadata": {},
   "source": [
    "# Lezione del 20 mar 2023\n",
    "Requisiti\n",
    "- tensorflow\n",
    "- keras\n"
   ]
  },
  {
   "cell_type": "code",
   "execution_count": 1,
   "id": "83d08788",
   "metadata": {},
   "outputs": [
    {
     "ename": "ModuleNotFoundError",
     "evalue": "No module named 'tensorflow'",
     "output_type": "error",
     "traceback": [
      "\u001b[0;31m---------------------------------------------------------------------------\u001b[0m",
      "\u001b[0;31mModuleNotFoundError\u001b[0m                       Traceback (most recent call last)",
      "Cell \u001b[0;32mIn[1], line 1\u001b[0m\n\u001b[0;32m----> 1\u001b[0m \u001b[38;5;28;01mimport\u001b[39;00m \u001b[38;5;21;01mtensorflow\u001b[39;00m\u001b[38;5;21;01m.\u001b[39;00m\u001b[38;5;21;01mkeras\u001b[39;00m \u001b[38;5;28;01mas\u001b[39;00m \u001b[38;5;21;01mkeras\u001b[39;00m\n\u001b[1;32m      2\u001b[0m \u001b[38;5;28;01mimport\u001b[39;00m \u001b[38;5;21;01mtensorflow\u001b[39;00m \u001b[38;5;28;01mas\u001b[39;00m \u001b[38;5;21;01mtf\u001b[39;00m\n\u001b[1;32m      3\u001b[0m \u001b[38;5;28;01mimport\u001b[39;00m \u001b[38;5;21;01mmnist\u001b[39;00m\n",
      "\u001b[0;31mModuleNotFoundError\u001b[0m: No module named 'tensorflow'"
     ]
    }
   ],
   "source": [
    "import tensorflow.keras as keras\n",
    "import tensorflow as tf\n",
    "import mnist\n",
    "import numpy as np\n",
    "import matplotlib.pyplot as plt\n",
    "from   tensorflow.keras.models import Sequential\n",
    "from   tensorflow.keras.layers import Dense\n",
    "(x_train,y_train),(x_test,y_test)=tf.keras.datasets.mnist.load_data(path=\"mnist.npz\")\n",
    "print(\"Data dimensions:\\n\")\n",
    "print(\"xlrn=\",x_train.shape)\n",
    "print(\"xtst=\",x_test.shape)\n",
    "print(\"ylrn=\",y_train.shape)\n",
    "print(\"ytst=\",y_test.shape)\n",
    "wait=input(\"Press Enter to continue.\")\n",
    "while True:\n",
    " npat=int(input(\"Give new pattern number or 0 to continue: \"))\n",
    " print(\"Ecco il pattern n.\",npat)\n",
    " image=x_train[npat];\n",
    " plt.imshow(image, cmap='gray')\n",
    " print(\"Il valore atteso e': \",y_train[npat]);\n",
    " plt.show(block=False)\n",
    " plt.pause(0.001) #Per un bug che talvolta capita sull'istruzione sopra\n",
    " input(\"Press any key to continue\")\n",
    " plt.close()\n",
    " if npat==0: break\n",
    " \n",
    " \n",
    "x_train=x_train.reshape(60000,784)\n",
    "x_test=  x_test.reshape(10000,784)\n",
    "print(x_train.shape)\n",
    "x_train=x_train/255\n",
    "x_test =x_test/ 255\n",
    "num_categories=10\n",
    "y_train=keras.utils.to_categorical(y_train,num_categories)\n",
    "y_test =keras.utils.to_categorical(y_test, num_categories)\n",
    "print(\"New data dimensions:\\n\")\n",
    "print(\"ylrn=\",y_train.shape)\n",
    "print(\"ytst=\",y_test.shape)\n",
    "print(\"New categorical output pattern n.\",npat,\"=\",y_train[npat])\n",
    "wait = input(\"Press Enter to continue.\")\n",
    "#creo il modello\n",
    "model=Sequential()\n",
    "#aggiungo layer + input\n",
    "model.add(Dense(units=100,activation='relu',input_shape=(784,)))\n",
    "#aggiungo uno strato nascosto\n",
    "model.add(Dense(units=2,activation='relu'))\n",
    "#output layer\n",
    "model.add(Dense(units=10,activation='softmax'))\n",
    "model.summary()\n",
    "wait = input(\"Press Enter to continue.\")\n",
    "model.compile(loss='categorical_crossentropy', metrics=['accuracy'])\n",
    "# Model is being trained on 1875 batches of 32 images each ... (1875*32=60000)\n",
    "history=model.fit(x_train,y_train,epochs=15,verbose=1,validation_data=(x_test,y_test));\n",
    "             \n",
    "# List all data in history\n",
    "print(history.history.keys())\n",
    "# Summarize history for accuracy\n",
    "plt.plot(history.history['accuracy'])\n",
    "plt.plot(history.history['val_accuracy'])\n",
    "plt.title('model accuracy')\n",
    "plt.ylabel('accuracy')\n",
    "plt.xlabel('epoch')\n",
    "plt.legend(['train', 'test'], loc='upper left')\n",
    "plt.show()\n",
    "# summarize history for loss\n",
    "plt.plot(history.history['loss'])\n",
    "plt.plot(history.history['val_loss'])\n",
    "plt.title('model loss')\n",
    "plt.ylabel('loss')\n",
    "plt.xlabel('epoch')\n",
    "plt.legend(['train', 'test'], loc='upper left')\n",
    "plt.show()\n",
    "# Salvataggio del modello\n",
    "model.save('marco.mnist.model.h5')\n",
    "plt.show()\n",
    "#Clear the Memory\n",
    "#Before moving on, please execute the following cell to clear up the GPU memory.\n",
    "#This is required to move on to the next notebook.\n",
    "#import IPython\n",
    "#app = IPython.Application.instance()\n",
    "#app.kernel.do_shutdown(True)\n",
    "#{​​​​​​​​'status': 'ok', 'restart': True}​​​​​​​​"
   ]
  }
 ],
 "metadata": {
  "kernelspec": {
   "display_name": "Python 3 (ipykernel)",
   "language": "python",
   "name": "python3"
  },
  "language_info": {
   "codemirror_mode": {
    "name": "ipython",
    "version": 3
   },
   "file_extension": ".py",
   "mimetype": "text/x-python",
   "name": "python",
   "nbconvert_exporter": "python",
   "pygments_lexer": "ipython3",
   "version": "3.8.10"
  }
 },
 "nbformat": 4,
 "nbformat_minor": 5
}
