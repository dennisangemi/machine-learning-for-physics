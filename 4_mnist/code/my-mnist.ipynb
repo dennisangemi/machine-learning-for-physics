{
 "cells": [
  {
   "cell_type": "markdown",
   "id": "8dbc54c8",
   "metadata": {},
   "source": [
    "# MNIST\n",
    "\n",
    "Obiettivo: costruire un modello che sia in grado di riconoscere carattere numerico manoscritto.\n",
    "\n",
    "## Step\n",
    "\n",
    "Al fine di diminuire il numero di neuroni della rete e migliorare le prestazioni, si effettua del preprocessing.\n",
    "\n",
    "- Importing data\n",
    "- Preprocessing\n",
    "  1. eliminazione rumore (filtro mediano)\n",
    "  1. uniforming thickness\n",
    "  1. resizing & centering\n",
    "  1. fixing discontinuity (reconstructing ink hole)\n",
    "  1. normalizing\n",
    "- model"
   ]
  },
  {
   "cell_type": "markdown",
   "id": "5dff4826",
   "metadata": {},
   "source": [
    "Cominciamo importando le librerie necessarie per il corretto funzionamento del codice (tensorflow, keras, matplotlib)"
   ]
  },
  {
   "cell_type": "code",
   "execution_count": 1,
   "id": "51279554",
   "metadata": {},
   "outputs": [
    {
     "name": "stderr",
     "output_type": "stream",
     "text": [
      "2023-03-23 14:09:42.225924: I tensorflow/core/platform/cpu_feature_guard.cc:193] This TensorFlow binary is optimized with oneAPI Deep Neural Network Library (oneDNN) to use the following CPU instructions in performance-critical operations:  AVX2 FMA\n",
      "To enable them in other operations, rebuild TensorFlow with the appropriate compiler flags.\n",
      "2023-03-23 14:09:56.025390: W tensorflow/compiler/xla/stream_executor/platform/default/dso_loader.cc:64] Could not load dynamic library 'libcudart.so.11.0'; dlerror: libcudart.so.11.0: cannot open shared object file: No such file or directory; LD_LIBRARY_PATH: /home/dennisangemi/miniconda3/envs/tf/lib/python3.9/site-packages/cv2/../../lib64:\n",
      "2023-03-23 14:09:56.025476: I tensorflow/compiler/xla/stream_executor/cuda/cudart_stub.cc:29] Ignore above cudart dlerror if you do not have a GPU set up on your machine.\n",
      "2023-03-23 14:10:30.687239: W tensorflow/compiler/xla/stream_executor/platform/default/dso_loader.cc:64] Could not load dynamic library 'libnvinfer.so.7'; dlerror: libnvinfer.so.7: cannot open shared object file: No such file or directory; LD_LIBRARY_PATH: /home/dennisangemi/miniconda3/envs/tf/lib/python3.9/site-packages/cv2/../../lib64:\n",
      "2023-03-23 14:10:30.687759: W tensorflow/compiler/xla/stream_executor/platform/default/dso_loader.cc:64] Could not load dynamic library 'libnvinfer_plugin.so.7'; dlerror: libnvinfer_plugin.so.7: cannot open shared object file: No such file or directory; LD_LIBRARY_PATH: /home/dennisangemi/miniconda3/envs/tf/lib/python3.9/site-packages/cv2/../../lib64:\n",
      "2023-03-23 14:10:30.687805: W tensorflow/compiler/tf2tensorrt/utils/py_utils.cc:38] TF-TRT Warning: Cannot dlopen some TensorRT libraries. If you would like to use Nvidia GPU with TensorRT, please make sure the missing libraries mentioned above are installed properly.\n"
     ]
    }
   ],
   "source": [
    "import cv2\n",
    "import tensorflow.keras as keras\n",
    "import tensorflow as tf\n",
    "import mnist\n",
    "import numpy as np\n",
    "import matplotlib.pyplot as plt\n",
    "from   tensorflow.keras.models import Sequential\n",
    "from   tensorflow.keras.layers import Dense"
   ]
  },
  {
   "cell_type": "code",
   "execution_count": 2,
   "id": "019be9f4",
   "metadata": {},
   "outputs": [
    {
     "name": "stdout",
     "output_type": "stream",
     "text": [
      "Data dimensions:\n",
      "\n",
      "x_lrn: (60000, 28, 28)\n",
      "x_tst: (10000, 28, 28)\n",
      "y_lrn: (60000,)\n",
      "y_tst: (10000,)\n"
     ]
    }
   ],
   "source": [
    "# loading data\n",
    "(x_train, y_train), (x_test, y_test) = tf.keras.datasets.mnist.load_data(path = \"mnist.npz\")\n",
    "\n",
    "# undestand data dimensions\n",
    "print(\"Data dimensions:\\n\")\n",
    "print(\"x_lrn:\",x_train.shape)\n",
    "print(\"x_tst:\",x_test.shape)\n",
    "print(\"y_lrn:\",y_train.shape)\n",
    "print(\"y_tst:\",y_test.shape)"
   ]
  },
  {
   "cell_type": "markdown",
   "id": "0d6382d2",
   "metadata": {},
   "source": [
    "Visualizziamo un'immagine del dataset di learning (per modificare il numero dell'immagine, modifica il valore della variabile `npat`)"
   ]
  },
  {
   "cell_type": "code",
   "execution_count": 3,
   "id": "0d3f1fc0",
   "metadata": {},
   "outputs": [
    {
     "name": "stdout",
     "output_type": "stream",
     "text": [
      "Ecco il pattern n. 7\n",
      "Il valore atteso è:  3\n"
     ]
    },
    {
     "data": {
      "image/png": "[encoded data removed]",
      "text/plain": [
       "<Figure size 640x480 with 1 Axes>"
      ]
     },
     "metadata": {},
     "output_type": "display_data"
    }
   ],
   "source": [
    "npat = 7\n",
    "print(\"Ecco il pattern n.\", npat)\n",
    "print(\"Il valore atteso è: \", y_train[npat]);\n",
    "\n",
    "image = x_train[npat];\n",
    "plt.imshow(image, cmap = 'gray')\n",
    "plt.show(block = False)"
   ]
  },
  {
   "cell_type": "markdown",
   "id": "71b5fbb5",
   "metadata": {},
   "source": [
    "## Reducing noise\n",
    "\n",
    "L'idea è quella di applicare un filtro mediano.\n",
    "\n",
    "Utilizzeremo la libreria `OpenCV` (che importeremo con `import cv2`) dopo averla installata da terminale `pip install opencv-python`"
   ]
  },
  {
   "cell_type": "code",
   "execution_count": 7,
   "id": "97a32710",
   "metadata": {},
   "outputs": [
    {
     "data": {
      "image/png": "[encoded data removed]",
      "text/plain": [
       "<Figure size 640x480 with 1 Axes>"
      ]
     },
     "metadata": {},
     "output_type": "display_data"
    }
   ],
   "source": [
    "# add noise in pixel 3,3\n",
    "x_train[npat,3,3] = 100\n",
    "\n",
    "# show img\n",
    "plt.imshow(x_train[npat], cmap = 'gray')\n",
    "plt.show()"
   ]
  },
  {
   "cell_type": "code",
   "execution_count": 38,
   "id": "7c77a7cc",
   "metadata": {},
   "outputs": [
    {
     "data": {
      "image/png": "[encoded data removed]",
      "text/plain": [
       "<Figure size 640x480 with 2 Axes>"
      ]
     },
     "metadata": {},
     "output_type": "display_data"
    }
   ],
   "source": [
    "# using csv2 to remove noise\n",
    "# x_train = cv2.medianBlur(x_train, 1)\n",
    "\n",
    "# bisognerebbe fare un for ma l'operazioe sembra molto lenta\n",
    "# denoised = cv2.fastNlMeansDenoising(x_train[npat], h=60, templateWindowSize=3, searchWindowSize=8)\n",
    "# denoised = cv2.GaussianBlur(x_train[npat], (3, 3), 1)\n",
    "denoised = cv2.bilateralFilter(x_train[npat], 9, 70, 70)\n",
    "\n",
    "# plotting\n",
    "plt.subplot(1,2,1)\n",
    "plt.imshow(x_train[npat], cmap = 'gray')\n",
    "plt.subplot(1,2,2)\n",
    "plt.imshow(denoised, cmap = 'gray')\n",
    "plt.show()"
   ]
  },
  {
   "cell_type": "code",
   "execution_count": 28,
   "id": "45db0ad2",
   "metadata": {},
   "outputs": [
    {
     "data": {
      "text/plain": [
       "8"
      ]
     },
     "execution_count": 28,
     "metadata": {},
     "output_type": "execute_result"
    }
   ],
   "source": [
    "denoised[3,3]"
   ]
  },
  {
   "cell_type": "code",
   "execution_count": null,
   "id": "cb853afb",
   "metadata": {},
   "outputs": [],
   "source": [
    "# provare anche\n",
    "# Applica il filtro Gaussiano per ridurre il rumore\n",
    "# blur = cv2.GaussianBlur(gray, (5, 5), 0)\n",
    "\n",
    "# Applica il filtro bilaterale per ridurre il rumore mantenendo i bordi\n",
    "# bilateral = cv2.bilateralFilter(gray, 9, 75, 75)"
   ]
  },
  {
   "cell_type": "code",
   "execution_count": null,
   "id": "d6a9862c",
   "metadata": {},
   "outputs": [],
   "source": [
    "# uniforming thickness\n",
    "\n",
    "# Chat GPT da provare\n",
    "\n",
    "# Applica il metodo di Otsu per binarizzare l'immagine\n",
    "_, binary = cv2.threshold(gray, 0, 255, cv2.THRESH_BINARY + cv2.THRESH_OTSU)\n",
    "\n",
    "# Trova i contorni nell'immagine binarizzata\n",
    "contours, hierarchy = cv2.findContours(binary, cv2.RETR_EXTERNAL, cv2.CHAIN_APPROX_SIMPLE)\n",
    "\n",
    "# Disegna i contorni trovati sull'immagine originale\n",
    "thicknesses = []\n",
    "for contour in contours:\n",
    "    # Calcola lo spessore del contorno\n",
    "    (x, y, w, h) = cv2.boundingRect(contour)\n",
    "    thickness = min(w, h)\n",
    "    thicknesses.append(thickness)\n",
    "\n",
    "# Calcola lo spessore medio dei contorni\n",
    "avg_thickness = int(np.mean(thicknesses))\n",
    "\n",
    "# Ridimensiona l'immagine per avere uno spessore uniforme dei contorni\n",
    "scale_factor = float(avg_thickness) / max_thickness\n",
    "resized = cv2.resize(gray, (0, 0), fx=scale_factor, fy=scale_factor, interpolation=cv2.INTER_AREA)\n",
    "\n",
    "\n"
   ]
  },
  {
   "cell_type": "code",
   "execution_count": 4,
   "id": "91d2f249",
   "metadata": {},
   "outputs": [
    {
     "name": "stdout",
     "output_type": "stream",
     "text": [
      "New dimensions\n",
      "\n",
      "x_train: (60000, 784)\n",
      "x_test: (10000, 784)\n"
     ]
    }
   ],
   "source": [
    "# flattening\n",
    "x_train = x_train.reshape(x_train.shape[0],x_train.shape[1]*x_train.shape[2])\n",
    "x_test = x_test.reshape(x_test.shape[0],x_test.shape[1]*x_test.shape[2])\n",
    "\n",
    "print(\"New dimensions\\n\")\n",
    "print(\"x_train:\",x_train.shape)\n",
    "print(\"x_test:\",x_test.shape)"
   ]
  },
  {
   "cell_type": "code",
   "execution_count": 5,
   "id": "96ff2bfa",
   "metadata": {},
   "outputs": [],
   "source": [
    "# casting\n",
    "x_train = x_train.astype('float32')\n",
    "x_test = x_test.astype('float32')"
   ]
  },
  {
   "cell_type": "markdown",
   "id": "f6b66505",
   "metadata": {},
   "source": [
    "L'idea è quella di dividere ogni immagine per il max per normalizzare"
   ]
  },
  {
   "cell_type": "code",
   "execution_count": 6,
   "id": "11348961",
   "metadata": {},
   "outputs": [
    {
     "name": "stdout",
     "output_type": "stream",
     "text": [
      "Before normalization\n",
      "I valori univoci dell'array dei massimi (train) sono: [254. 255.]\n",
      "I valori univoci dell'array dei massimi (test) sono: [254. 255.]\n"
     ]
    }
   ],
   "source": [
    "# normalizzo\n",
    "print(\"Before normalization\")\n",
    "\n",
    "x_max = np.amax(x_train, axis = 1, keepdims=True)\n",
    "print(\"I valori univoci dell'array dei massimi (train) sono:\",np.unique(x_max))\n",
    "x_train /= x_max\n",
    "\n",
    "x_max = np.amax(x_test, axis = 1, keepdims=True)\n",
    "print(\"I valori univoci dell'array dei massimi (test) sono:\",np.unique(x_max))\n",
    "x_test /= x_max"
   ]
  },
  {
   "cell_type": "code",
   "execution_count": 7,
   "id": "51b38fd1",
   "metadata": {},
   "outputs": [],
   "source": [
    "# rendo categoriche le variabili di output\n",
    "num_categories = 10\n",
    "y_train = keras.utils.to_categorical(y_train,num_categories)\n",
    "y_test = keras.utils.to_categorical(y_test, num_categories)"
   ]
  },
  {
   "cell_type": "code",
   "execution_count": 8,
   "id": "1d6f092f",
   "metadata": {},
   "outputs": [
    {
     "name": "stdout",
     "output_type": "stream",
     "text": [
      "New categorical output pattern n. 7 = [0. 0. 0. 1. 0. 0. 0. 0. 0. 0.]\n"
     ]
    }
   ],
   "source": [
    "print(\"New categorical output pattern n.\",npat,\"=\",y_train[npat])"
   ]
  },
  {
   "cell_type": "markdown",
   "id": "3b8ae8e5",
   "metadata": {},
   "source": [
    "## Modello\n",
    "Adesso creiamo il modello avente due layer di neuroni con funzione di attivazione relu e l'ultimo (output) softmax"
   ]
  },
  {
   "cell_type": "code",
   "execution_count": 9,
   "id": "eea1295d",
   "metadata": {},
   "outputs": [
    {
     "name": "stderr",
     "output_type": "stream",
     "text": [
      "2023-03-22 23:32:57.256712: W tensorflow/compiler/xla/stream_executor/platform/default/dso_loader.cc:64] Could not load dynamic library 'libcuda.so.1'; dlerror: libcuda.so.1: cannot open shared object file: No such file or directory\n",
      "2023-03-22 23:32:57.264288: W tensorflow/compiler/xla/stream_executor/cuda/cuda_driver.cc:265] failed call to cuInit: UNKNOWN ERROR (303)\n",
      "2023-03-22 23:32:57.264480: I tensorflow/compiler/xla/stream_executor/cuda/cuda_diagnostics.cc:156] kernel driver does not appear to be running on this host (dennisangemi): /proc/driver/nvidia/version does not exist\n",
      "2023-03-22 23:32:57.288985: I tensorflow/core/platform/cpu_feature_guard.cc:193] This TensorFlow binary is optimized with oneAPI Deep Neural Network Library (oneDNN) to use the following CPU instructions in performance-critical operations:  AVX2 FMA\n",
      "To enable them in other operations, rebuild TensorFlow with the appropriate compiler flags.\n"
     ]
    },
    {
     "name": "stdout",
     "output_type": "stream",
     "text": [
      "Model: \"sequential\"\n",
      "_________________________________________________________________\n",
      " Layer (type)                Output Shape              Param #   \n",
      "=================================================================\n",
      " dense (Dense)               (None, 100)               78500     \n",
      "                                                                 \n",
      " dense_1 (Dense)             (None, 2)                 202       \n",
      "                                                                 \n",
      " dense_2 (Dense)             (None, 10)                30        \n",
      "                                                                 \n",
      "=================================================================\n",
      "Total params: 78,732\n",
      "Trainable params: 78,732\n",
      "Non-trainable params: 0\n",
      "_________________________________________________________________\n"
     ]
    }
   ],
   "source": [
    "#creo il modello\n",
    "model=Sequential()\n",
    "#aggiungo layer + input\n",
    "model.add(Dense(units=100,activation='relu',input_shape=(784,)))\n",
    "#aggiungo uno strato nascosto\n",
    "model.add(Dense(units=2,activation='relu'))\n",
    "#output layer\n",
    "model.add(Dense(units=10,activation='softmax'))\n",
    "model.summary()"
   ]
  },
  {
   "cell_type": "code",
   "execution_count": 10,
   "id": "02503ed9",
   "metadata": {},
   "outputs": [
    {
     "name": "stdout",
     "output_type": "stream",
     "text": [
      "Epoch 1/15\n",
      "1875/1875 [==============================] - 8s 3ms/step - loss: 1.2873 - accuracy: 0.5738 - val_loss: 0.9213 - val_accuracy: 0.7332\n",
      "Epoch 2/15\n",
      "1875/1875 [==============================] - 5s 3ms/step - loss: 0.7910 - accuracy: 0.7763 - val_loss: 0.6709 - val_accuracy: 0.8153\n",
      "Epoch 3/15\n",
      "1875/1875 [==============================] - 5s 3ms/step - loss: 0.5769 - accuracy: 0.8434 - val_loss: 0.4989 - val_accuracy: 0.9020\n",
      "Epoch 4/15\n",
      "1875/1875 [==============================] - 5s 3ms/step - loss: 0.4445 - accuracy: 0.9126 - val_loss: 0.4228 - val_accuracy: 0.9173\n",
      "Epoch 5/15\n",
      "1875/1875 [==============================] - 5s 3ms/step - loss: 0.3762 - accuracy: 0.9240 - val_loss: 0.3887 - val_accuracy: 0.9221\n",
      "Epoch 6/15\n",
      "1875/1875 [==============================] - 5s 3ms/step - loss: 0.3354 - accuracy: 0.9312 - val_loss: 0.3796 - val_accuracy: 0.9242\n",
      "Epoch 7/15\n",
      "1875/1875 [==============================] - 6s 3ms/step - loss: 0.3068 - accuracy: 0.9368 - val_loss: 0.3616 - val_accuracy: 0.9262\n",
      "Epoch 8/15\n",
      "1875/1875 [==============================] - 6s 3ms/step - loss: 0.2836 - accuracy: 0.9406 - val_loss: 0.3575 - val_accuracy: 0.9265\n",
      "Epoch 9/15\n",
      "1875/1875 [==============================] - 6s 3ms/step - loss: 0.2648 - accuracy: 0.9447 - val_loss: 0.3542 - val_accuracy: 0.9294\n",
      "Epoch 10/15\n",
      "1875/1875 [==============================] - 5s 3ms/step - loss: 0.2494 - accuracy: 0.9474 - val_loss: 0.3561 - val_accuracy: 0.9317\n",
      "Epoch 11/15\n",
      "1875/1875 [==============================] - 5s 3ms/step - loss: 0.2394 - accuracy: 0.9511 - val_loss: 0.3400 - val_accuracy: 0.9354\n",
      "Epoch 12/15\n",
      "1875/1875 [==============================] - 5s 3ms/step - loss: 0.2259 - accuracy: 0.9519 - val_loss: 0.3869 - val_accuracy: 0.9322\n",
      "Epoch 13/15\n",
      "1875/1875 [==============================] - 5s 3ms/step - loss: 0.2186 - accuracy: 0.9548 - val_loss: 0.3482 - val_accuracy: 0.9384\n",
      "Epoch 14/15\n",
      "1875/1875 [==============================] - 6s 3ms/step - loss: 0.2115 - accuracy: 0.9558 - val_loss: 0.3730 - val_accuracy: 0.9375\n",
      "Epoch 15/15\n",
      "1875/1875 [==============================] - 5s 3ms/step - loss: 0.2011 - accuracy: 0.9578 - val_loss: 0.3793 - val_accuracy: 0.9288\n"
     ]
    }
   ],
   "source": [
    "# addestro il modello\n",
    "model.compile(loss = 'categorical_crossentropy', metrics=['accuracy'])\n",
    "history = model.fit(x_train, y_train, epochs = 15, verbose = 1, validation_data = (x_test, y_test));"
   ]
  },
  {
   "cell_type": "markdown",
   "id": "ef9230c7",
   "metadata": {},
   "source": [
    "## To do"
   ]
  },
  {
   "cell_type": "code",
   "execution_count": null,
   "id": "8f76341e",
   "metadata": {},
   "outputs": [],
   "source": [
    "# List all data in history\n",
    "print(history.history.keys())\n",
    "# Summarize history for accuracy\n",
    "plt.plot(history.history['accuracy'])\n",
    "plt.plot(history.history['val_accuracy'])\n",
    "plt.title('model accuracy')\n",
    "plt.ylabel('accuracy')\n",
    "plt.xlabel('epoch')\n",
    "plt.legend(['train', 'test'], loc='upper left')\n",
    "plt.show()\n",
    "# summarize history for loss\n",
    "plt.plot(history.history['loss'])\n",
    "plt.plot(history.history['val_loss'])\n",
    "plt.title('model loss')\n",
    "plt.ylabel('loss')\n",
    "plt.xlabel('epoch')\n",
    "plt.legend(['train', 'test'], loc='upper left')\n",
    "plt.show()\n",
    "# Salvataggio del modello\n",
    "model.save('marco.mnist.model.h5')\n",
    "plt.show()"
   ]
  },
  {
   "cell_type": "code",
   "execution_count": null,
   "id": "ed6e2a77",
   "metadata": {},
   "outputs": [],
   "source": []
  }
 ],
 "metadata": {
  "kernelspec": {
   "display_name": "Conda",
   "language": "python",
   "name": "tf"
  },
  "language_info": {
   "codemirror_mode": {
    "name": "ipython",
    "version": 3
   },
   "file_extension": ".py",
   "mimetype": "text/x-python",
   "name": "python",
   "nbconvert_exporter": "python",
   "pygments_lexer": "ipython3",
   "version": "3.9.16"
  }
 },
 "nbformat": 4,
 "nbformat_minor": 5
}
