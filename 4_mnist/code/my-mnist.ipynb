{
 "cells": [
  {
   "cell_type": "markdown",
   "id": "8dbc54c8",
   "metadata": {},
   "source": [
    "# MNIST\n",
    "\n",
    "Obiettivo: costruire un modello che sia in grado di riconoscere carattere numerico manoscritto.\n",
    "\n",
    "paragonare modello dl senza preprocessing e modello costruito dopo preprocessing\n",
    "\n",
    "## Step\n",
    "\n",
    "Al fine di diminuire il numero di neuroni della rete e migliorare le prestazioni, si effettua del preprocessing.\n",
    "\n",
    "- Importing data\n",
    "- Preprocessing\n",
    "  1. eliminazione rumore (filtro mediano)\n",
    "  1. uniforming thickness\n",
    "  1. resizing & centering\n",
    "  1. fixing discontinuity (reconstructing ink hole)\n",
    "  1. normalizing\n",
    "- model"
   ]
  },
  {
   "cell_type": "markdown",
   "id": "5dff4826",
   "metadata": {},
   "source": [
    "Cominciamo importando le librerie necessarie per il corretto funzionamento del codice (tensorflow, keras, matplotlib)"
   ]
  },
  {
   "cell_type": "code",
   "execution_count": 2,
   "id": "51279554",
   "metadata": {},
   "outputs": [
    {
     "name": "stderr",
     "output_type": "stream",
     "text": [
      "2023-03-26 01:25:36.962803: I tensorflow/core/platform/cpu_feature_guard.cc:193] This TensorFlow binary is optimized with oneAPI Deep Neural Network Library (oneDNN) to use the following CPU instructions in performance-critical operations:  SSE4.1 SSE4.2 AVX AVX2 FMA\n",
      "To enable them in other operations, rebuild TensorFlow with the appropriate compiler flags.\n"
     ]
    }
   ],
   "source": [
    "%%capture\n",
    "import os\n",
    "import cv2\n",
    "import tensorflow.keras as keras\n",
    "import tensorflow as tf\n",
    "import mnist\n",
    "import numpy as np\n",
    "import matplotlib.pyplot as plt\n",
    "from   tensorflow.keras.models import Sequential\n",
    "from   tensorflow.keras.layers import Dense"
   ]
  },
  {
   "attachments": {},
   "cell_type": "markdown",
   "id": "2fc73830",
   "metadata": {},
   "source": [
    "## No pre-processing\n",
    "Addestro modello senza effettuare preprocessing"
   ]
  },
  {
   "cell_type": "code",
   "execution_count": 38,
   "id": "019be9f4",
   "metadata": {},
   "outputs": [
    {
     "name": "stdout",
     "output_type": "stream",
     "text": [
      "Data dimensions:\n",
      "\n",
      "x_lrn: (60000, 28, 28)\n",
      "x_tst: (10000, 28, 28)\n",
      "y_lrn: (60000,)\n",
      "y_tst: (10000,)\n"
     ]
    }
   ],
   "source": [
    "# loading data\n",
    "(x_train, y_train), (x_test, y_test) = tf.keras.datasets.mnist.load_data(path = \"mnist.npz\")\n",
    "\n",
    "# undestand data dimensions\n",
    "print(\"Data dimensions:\\n\")\n",
    "print(\"x_lrn:\",x_train.shape)\n",
    "print(\"x_tst:\",x_test.shape)\n",
    "print(\"y_lrn:\",y_train.shape)\n",
    "print(\"y_tst:\",y_test.shape)"
   ]
  },
  {
   "cell_type": "code",
   "execution_count": 39,
   "id": "23d90a3d",
   "metadata": {},
   "outputs": [
    {
     "name": "stdout",
     "output_type": "stream",
     "text": [
      "Ecco il pattern n. 7\n",
      "Il valore atteso è:  3\n"
     ]
    },
    {
     "data": {
      "image/png": "[encoded data removed]",
      "text/plain": [
       "<Figure size 640x480 with 1 Axes>"
      ]
     },
     "metadata": {},
     "output_type": "display_data"
    }
   ],
   "source": [
    "npat = 7\n",
    "print(\"Ecco il pattern n.\", npat)\n",
    "print(\"Il valore atteso è: \", y_train[npat]);\n",
    "\n",
    "img = x_train[npat];\n",
    "plt.imshow(img, cmap = 'gray')\n",
    "plt.show(block = False)"
   ]
  },
  {
   "cell_type": "code",
   "execution_count": 40,
   "id": "0fd57327",
   "metadata": {},
   "outputs": [
    {
     "name": "stdout",
     "output_type": "stream",
     "text": [
      "New dimensions\n",
      "\n",
      "x_train: (60000, 784)\n",
      "x_test: (10000, 784)\n"
     ]
    }
   ],
   "source": [
    "# flattening\n",
    "# si può fare anche con neural networks\n",
    "\n",
    "if x_train.shape[1] == x_train.shape[2] and x_test.shape[1] == x_test.shape[2] and x_train.shape[1] == x_test.shape[1]:\n",
    "    long_dimension = x_train.shape[1]*x_train.shape[1]\n",
    "else:\n",
    "    print(\"ERROR\")\n",
    "\n",
    "\n",
    "x_train = x_train.reshape(x_train.shape[0],long_dimension)\n",
    "x_test = x_test.reshape(x_test.shape[0],long_dimension)\n",
    "\n",
    "print(\"New dimensions\\n\")\n",
    "print(\"x_train:\",x_train.shape)\n",
    "print(\"x_test:\",x_test.shape)"
   ]
  },
  {
   "cell_type": "code",
   "execution_count": null,
   "id": "d7c176b4",
   "metadata": {},
   "outputs": [],
   "source": [
    "# rendo categoriche le variabili di output\n",
    "num_categories = 10\n",
    "y_train = keras.utils.to_categorical(y_train,num_categories)\n",
    "y_test = keras.utils.to_categorical(y_test, num_categories)\n",
    "\n",
    "# visualizzo preview del pattern categorizzato\n",
    "print(\"New categorical output pattern n.\",npat,\"=\",y_train[npat])"
   ]
  },
  {
   "cell_type": "code",
   "execution_count": null,
   "id": "29fdaf4c",
   "metadata": {},
   "outputs": [],
   "source": [
    "# casting\n",
    "x_train = x_train.astype('float32')\n",
    "x_test = x_test.astype('float32')"
   ]
  },
  {
   "cell_type": "code",
   "execution_count": null,
   "id": "17d02ad2",
   "metadata": {},
   "outputs": [],
   "source": [
    "# normalizzo\n",
    "print(\"Before normalization\")\n",
    "\n",
    "x_max = np.amax(x_train, axis = 1, keepdims=True)\n",
    "print(\"I valori univoci dell'array dei massimi (train) sono:\",np.unique(x_max))\n",
    "x_train /= x_max\n",
    "\n",
    "x_max = np.amax(x_test, axis = 1, keepdims=True)\n",
    "print(\"I valori univoci dell'array dei massimi (test) sono:\",np.unique(x_max))\n",
    "x_test /= x_max"
   ]
  },
  {
   "cell_type": "code",
   "execution_count": null,
   "id": "e50e8d02",
   "metadata": {},
   "outputs": [],
   "source": [
    "# creo il modello\n",
    "model = Sequential()\n",
    "\n",
    "# aggiungo layer + input\n",
    "model.add(Dense(units = 100, activation = 'relu', input_shape = (784,)))\n",
    "\n",
    "# aggiungo uno strato nascosto\n",
    "model.add(Dense(units = 2, activation = 'relu'))\n",
    "\n",
    "# output layer\n",
    "model.add(Dense(units = 10, activation = 'softmax'))\n",
    "model.summary()"
   ]
  },
  {
   "cell_type": "code",
   "execution_count": null,
   "id": "2796ced4",
   "metadata": {},
   "outputs": [],
   "source": [
    "# addestro il modello\n",
    "model.compile(loss = 'categorical_crossentropy', metrics=['accuracy'])\n",
    "history = model.fit(x_train, y_train, epochs = 15, verbose = 1, validation_data = (x_test, y_test));"
   ]
  },
  {
   "cell_type": "code",
   "execution_count": null,
   "id": "6bb165b4",
   "metadata": {},
   "outputs": [],
   "source": [
    "print(\"Ecco il risultato del training senza preprocessing\")"
   ]
  },
  {
   "cell_type": "code",
   "execution_count": null,
   "id": "5c64f23e",
   "metadata": {},
   "outputs": [],
   "source": [
    "# List all data in history\n",
    "print(history.history.keys())\n",
    "\n",
    "# Summarize history for accuracy\n",
    "plt.plot(history.history['accuracy'])\n",
    "plt.plot(history.history['val_accuracy'])\n",
    "plt.title('model accuracy')\n",
    "plt.ylabel('accuracy')\n",
    "plt.xlabel('epoch')\n",
    "plt.legend(['train', 'test'], loc='upper left')\n",
    "plt.show()\n",
    "\n",
    "# summarize history for loss\n",
    "plt.plot(history.history['loss'])\n",
    "plt.plot(history.history['val_loss'])\n",
    "plt.title('model loss')\n",
    "plt.ylabel('loss')\n",
    "plt.xlabel('epoch')\n",
    "plt.legend(['train', 'test'], loc='upper left')\n",
    "plt.show()\n",
    "\n",
    "# Salvataggio del modello\n",
    "model.save('4_mnist/models/np.mnist.model.h5')\n",
    "plt.show()"
   ]
  },
  {
   "attachments": {},
   "cell_type": "markdown",
   "id": "d231076a",
   "metadata": {},
   "source": [
    "## Importo le mie immagini\n",
    "\n",
    "Creo funzione per salvare tutte le immagini di una cartella in un array e ridimensionarle."
   ]
  },
  {
   "cell_type": "code",
   "execution_count": 47,
   "id": "4471c845",
   "metadata": {},
   "outputs": [
    {
     "name": "stdout",
     "output_type": "stream",
     "text": [
      "(10, 28, 28)\n"
     ]
    }
   ],
   "source": [
    "# definisci funzione 'importa_mie_immagini'\n",
    "def importa_mie_immagini(cartella_immagini, nuova_dimensione):\n",
    "    # inizializza l'array numpy per contenere tutte le immagini ridimensionate\n",
    "    immagini = np.empty((0, *nuova_dimensione), dtype=np.uint8)\n",
    "\n",
    "    # scorri tutti i file nella cartella specificata\n",
    "    for nome_file in os.listdir(cartella_immagini):\n",
    "        # carica l'immagine\n",
    "        percorso_file = os.path.join(cartella_immagini, nome_file)\n",
    "        img = cv2.imread(percorso_file, cv2.IMREAD_GRAYSCALE)\n",
    "\n",
    "        # ridimensiona l'immagine\n",
    "        img_ridimensionata = cv2.resize(img, nuova_dimensione)\n",
    "\n",
    "        # aggiungi l'immagine all'array numpy\n",
    "        immagini = np.vstack([immagini, np.expand_dims(img_ridimensionata, axis=0)])\n",
    "\n",
    "    return immagini\n",
    "\n",
    "# specifica il percorso della cartella contenente le immagini\n",
    "cartella_immagini = \"4_mnist/img/numbers\"\n",
    "\n",
    "# specifica le dimensioni desiderate\n",
    "nuova_dimensione = (28, 28)\n",
    "\n",
    "# carica le immagini\n",
    "immagini = importa_mie_immagini(cartella_immagini, nuova_dimensione)\n",
    "\n",
    "# stampa le dimensioni dell'array numpy contenente tutte le immagini ridimensionate\n",
    "print(immagini.shape)"
   ]
  },
  {
   "cell_type": "code",
   "execution_count": 42,
   "id": "07c17809",
   "metadata": {},
   "outputs": [
    {
     "data": {
      "image/png": "[encoded data removed]",
      "text/plain": [
       "<Figure size 640x480 with 10 Axes>"
      ]
     },
     "metadata": {},
     "output_type": "display_data"
    }
   ],
   "source": [
    "# mostra le mie immagini\n",
    "for i in range(0, immagini.shape[0]):\n",
    "    plt.subplot(2, 5, i + 1)\n",
    "    plt.imshow(immagini[i], cmap = 'gray')\n",
    "plt.show(block = False)"
   ]
  },
  {
   "cell_type": "code",
   "execution_count": 53,
   "id": "a6de3982",
   "metadata": {},
   "outputs": [
    {
     "name": "stdout",
     "output_type": "stream",
     "text": [
      "1/1 [==============================] - 0s 38ms/step\n",
      "1/1 [==============================] - 0s 20ms/step\n",
      "1/1 [==============================] - 0s 20ms/step\n",
      "1/1 [==============================] - 0s 18ms/step\n",
      "1/1 [==============================] - 0s 18ms/step\n",
      "1/1 [==============================] - 0s 20ms/step\n",
      "1/1 [==============================] - 0s 20ms/step\n",
      "1/1 [==============================] - 0s 21ms/step\n",
      "1/1 [==============================] - 0s 18ms/step\n",
      "1/1 [==============================] - 0s 17ms/step\n",
      "1/1 [==============================] - 0s 22ms/step\n"
     ]
    },
    {
     "data": {
      "image/png": "[encoded data removed]",
      "text/plain": [
       "<Figure size 640x480 with 10 Axes>"
      ]
     },
     "metadata": {},
     "output_type": "display_data"
    }
   ],
   "source": [
    "# carico modello salvato\n",
    "model = keras.models.load_model('4_mnist/models/np.mnist.model.h5')\n",
    "\n",
    "# applico modello alle mie immagini\n",
    "for i in range(0, immagini.shape[0]):\n",
    "    plt.subplot(2, 5, i + 1)\n",
    "    plt.imshow(immagini[i], cmap = 'gray')\n",
    "    plt.title(np.argmax(model.predict(immagini[i].reshape(1,784))))\n",
    "plt.show(block = False)"
   ]
  },
  {
   "attachments": {},
   "cell_type": "markdown",
   "id": "ea2e394b",
   "metadata": {},
   "source": [
    "## Pre processing"
   ]
  },
  {
   "cell_type": "markdown",
   "id": "0d6382d2",
   "metadata": {},
   "source": [
    "Visualizziamo un'immagine del dataset di learning (per modificare il numero dell'immagine, modifica il valore della variabile `npat`)"
   ]
  },
  {
   "cell_type": "code",
   "execution_count": null,
   "id": "724dcf83",
   "metadata": {},
   "outputs": [],
   "source": [
    "# loading data\n",
    "(x_train, y_train), (x_test, y_test) = tf.keras.datasets.mnist.load_data(path = \"mnist.npz\")\n",
    "\n",
    "# undestand data dimensions\n",
    "print(\"Data dimensions:\\n\")\n",
    "print(\"x_lrn:\",x_train.shape)\n",
    "print(\"x_tst:\",x_test.shape)\n",
    "print(\"y_lrn:\",y_train.shape)\n",
    "print(\"y_tst:\",y_test.shape)"
   ]
  },
  {
   "cell_type": "code",
   "execution_count": null,
   "id": "0d3f1fc0",
   "metadata": {},
   "outputs": [],
   "source": [
    "npat = 7\n",
    "print(\"Ecco il pattern n.\", npat)\n",
    "print(\"Il valore atteso è: \", y_train[npat]);\n",
    "\n",
    "img = x_train[npat];\n",
    "plt.imshow(img, cmap = 'gray')\n",
    "plt.show(block = False)"
   ]
  },
  {
   "cell_type": "markdown",
   "id": "779b4cd0",
   "metadata": {},
   "source": [
    "Da adesso in poi useremo una variabile temporanea `img` che conterrà l'immagine `x_train[npat]` in modo tale da non lavorare con l'intero array di immagini."
   ]
  },
  {
   "cell_type": "markdown",
   "id": "71b5fbb5",
   "metadata": {},
   "source": [
    "## Reducing noise\n",
    "\n",
    "L'idea è quella di applicare un filtro mediano.\n",
    "\n",
    "Utilizzeremo la libreria `OpenCV` (che importeremo con `import cv2`) dopo averla installata da terminale `pip install opencv-python`"
   ]
  },
  {
   "cell_type": "code",
   "execution_count": null,
   "id": "97a32710",
   "metadata": {},
   "outputs": [],
   "source": [
    "# add noise in pixel 3,3\n",
    "img[3,3] = 100\n",
    "x_train[npat,3,3] = 100\n",
    "\n",
    "# show img\n",
    "plt.imshow(img, cmap = 'gray')\n",
    "plt.show()"
   ]
  },
  {
   "cell_type": "code",
   "execution_count": null,
   "id": "7c77a7cc",
   "metadata": {},
   "outputs": [],
   "source": [
    "# using csv2 to remove noise\n",
    "# x_train = cv2.medianBlur(x_train, 1)\n",
    "\n",
    "# bisognerebbe fare un for ma l'operazioe sembra molto lenta\n",
    "dn1 = cv2.fastNlMeansDenoising(img, h=60, templateWindowSize=3, searchWindowSize=8)\n",
    "dn2 = cv2.GaussianBlur(img, (3, 3), 1)\n",
    "dn3 = cv2.bilateralFilter(img, 9, 70, 70)\n",
    "\n",
    "denoised = [dn1, dn2, dn2]\n",
    "titles = [\"fastNlMeansDenoising\", \"GaussianBlur\", \"bilateralFilter\"]\n",
    "\n",
    "# plotting\n",
    "plt.title(\"Noisy image\")\n",
    "plt.imshow(img, cmap = 'gray')\n",
    "plt.show()\n",
    "\n",
    "for i in range(len(denoised)):\n",
    "    plt.subplot(1,4,i+1)\n",
    "    plt.title(titles[i])\n",
    "    plt.imshow(denoised[i], cmap = 'gray')\n",
    "    plt.show\n",
    "\n",
    "# scelgo fastNlMeansDenoising\n",
    "img = dn1"
   ]
  },
  {
   "cell_type": "code",
   "execution_count": null,
   "id": "babb5f17",
   "metadata": {},
   "outputs": [],
   "source": [
    "# voglio applicare il filtro di denoising a tutto l'array\n",
    "# ATTENZIONE: bisogna farlo anche per il test set\n",
    "\n",
    "# Inizializza un nuovo array vuoto per le immagini filtrate\n",
    "x_train_filtered = np.zeros_like(x_train)\n",
    "x_test_filtered = np.zeros_like(x_test)\n",
    "\n",
    "for i in range(len(x_train)):\n",
    "    x_train_filtered[i] = cv2.fastNlMeansDenoising(x_train[i], h=60, templateWindowSize=3, searchWindowSize=8)\n",
    "    \n",
    "for i in range(len(x_test)):\n",
    "    x_test_filtered[i] = cv2.fastNlMeansDenoising(x_test[i], h=60, templateWindowSize=3, searchWindowSize=8)"
   ]
  },
  {
   "cell_type": "code",
   "execution_count": null,
   "id": "47e4e444",
   "metadata": {},
   "outputs": [],
   "source": [
    "# plot filtered image\n",
    "plt.imshow(x_train_filtered[npat], cmap = 'gray')\n",
    "plt.show()"
   ]
  },
  {
   "cell_type": "code",
   "execution_count": null,
   "id": "3c683318",
   "metadata": {},
   "outputs": [],
   "source": [
    "plt.imshow(img, cmap = 'gray')\n",
    "plt.title(\"Denoised\")\n",
    "plt.show()"
   ]
  },
  {
   "cell_type": "code",
   "execution_count": null,
   "id": "e0cc120c",
   "metadata": {},
   "outputs": [],
   "source": [
    "img[3,3]"
   ]
  },
  {
   "cell_type": "markdown",
   "id": "f900fe7e",
   "metadata": {},
   "source": [
    "## Binarizing\n",
    "\n",
    "Al fine di uniformare lo spessore dei caratteri, sembrerebbe necessario effettuare una binarization ovvero rendere \"binari\" i valori dei pixel (0 oppure 1).\n",
    "\n",
    "Esistono varie tecniche ([vedi qui](https://docs.opencv.org/4.x/d7/d4d/tutorial_py_thresholding.html)) ma noi proveremo ad usare `cv2.ADAPTIVE_THRESH_GAUSSIAN_C`\n",
    "\n",
    "```python\n",
    "th3 = cv.adaptiveThreshold(img,255,cv.ADAPTIVE_THRESH_GAUSSIAN_C,\\\n",
    "            cv.THRESH_BINARY,11,2)\n",
    "```\n",
    "\n",
    "se non funzinoa, possiamo provare il metodo di Otzu:\n",
    "```python\n",
    "ret3,th3 = cv.threshold(blur,0,255,cv.THRESH_BINARY+cv.THRESH_OTSU)\n",
    "```"
   ]
  },
  {
   "cell_type": "code",
   "execution_count": null,
   "id": "72685aa9",
   "metadata": {},
   "outputs": [],
   "source": [
    "# adaptive thresh gaussian\n",
    "atg = cv2.adaptiveThreshold(img,255,cv2.ADAPTIVE_THRESH_GAUSSIAN_C,\\\n",
    "            cv2.THRESH_BINARY,11,6)\n",
    "\n",
    "# otsu\n",
    "ret,img = cv2.threshold(img,0,255,cv2.THRESH_BINARY+cv2.THRESH_OTSU)\n",
    "\n",
    "# plotting results\n",
    "plt.subplot(1,2,1)\n",
    "plt.title(\"Adaptive thresh gaussian\")\n",
    "plt.imshow(atg, cmap = 'gray')\n",
    "plt.subplot(1,2,2)\n",
    "plt.title(\"Otsu's Binarization\")\n",
    "plt.imshow(img, cmap = 'gray')\n",
    "plt.show()"
   ]
  },
  {
   "cell_type": "code",
   "execution_count": null,
   "id": "f4e75803",
   "metadata": {},
   "outputs": [],
   "source": [
    "# inizializzo array vuoto\n",
    "x_train_bin = np.zeros_like(x_train)\n",
    "x_test_bin = np.zeros_like(x_test)\n",
    "\n",
    "for i in range(len(x_train)):\n",
    "    ret,img = cv2.threshold(x_train_erode[i],0,255,cv2.THRESH_BINARY+cv2.THRESH_OTSU)\n",
    "    x_train_bin[i] = img\n",
    "\n",
    "for i in range(len(x_test)):\n",
    "    ret,img = cv2.threshold(x_test_erode[i],0,255,cv2.THRESH_BINARY+cv2.THRESH_OTSU)\n",
    "    x_test_bin[i] = img"
   ]
  },
  {
   "cell_type": "code",
   "execution_count": null,
   "id": "a85daafa",
   "metadata": {},
   "outputs": [],
   "source": [
    "# plot filtered image\n",
    "plt.subplot(1,2,1)\n",
    "plt.title(\"Original\")\n",
    "plt.imshow(x_train[npat], cmap = 'gray')\n",
    "plt.subplot(1,2,2)\n",
    "plt.title(\"Binarized, denoised, eroded\")\n",
    "plt.imshow(x_train_bin[npat], cmap = 'gray')\n",
    "plt.show()"
   ]
  },
  {
   "cell_type": "markdown",
   "id": "624eeb98",
   "metadata": {},
   "source": [
    "Continueremo utilizzando il metodo di Otsu"
   ]
  },
  {
   "cell_type": "markdown",
   "id": "dbec0816",
   "metadata": {},
   "source": [
    "## Fix discontinuity\n",
    "\n",
    "OpenCV's Closing is reverse of Opening, Dilation followed by Erosion. It is useful in closing small holes inside the foreground objects, or small black points on the object.\n",
    "\n",
    "`closing = cv2.morphologyEx(img, cv2.MORPH_CLOSE, kernel)`\n",
    "\n",
    "dove \n",
    "\n",
    "`kernel = np.ones((5,5),np.uint8)`\n",
    "\n",
    "è la dimensione della finestra di azione del filtro.\n",
    "\n",
    "[Click here](https://opencv24-python-tutorials.readthedocs.io/en/latest/py_tutorials/py_imgproc/py_morphological_ops/py_morphological_ops.html) for more info\n",
    "\n",
    "Si tratta essenzialmente di un `dilate` seguito da `erode` per \"coprire i buchi\""
   ]
  },
  {
   "cell_type": "code",
   "execution_count": null,
   "id": "8045e5b7",
   "metadata": {},
   "outputs": [],
   "source": [
    "# pixel lato finestra\n",
    "w = 2\n",
    "\n",
    "# creo finestra\n",
    "kernel = np.ones((w,w),np.uint8)\n",
    "\n",
    "# rimuovo buchi\n",
    "img = cv2.morphologyEx(img, cv2.MORPH_CLOSE, kernel)\n",
    "\n",
    "plt.imshow(img, cmap = 'gray')\n",
    "plt.show()"
   ]
  },
  {
   "cell_type": "markdown",
   "id": "277b481e",
   "metadata": {},
   "source": [
    "## Uniformare thickness\n",
    "\n",
    "- domanda senza risposta stackoverflow https://stackoverflow.com/questions/56601130/how-to-reduce-the-thickness-of-the-contours\n",
    "\n",
    "- qui una risposta https://stackoverflow.com/questions/51133962/how-can-i-scale-a-thickness-of-a-character-in-image-using-python-opencv\n",
    "\n",
    "Lo strumento vincente sembra erosion di OpenCV ([leggi qui](https://opencv24-python-tutorials.readthedocs.io/en/latest/py_tutorials/py_imgproc/py_morphological_ops/py_morphological_ops.html#erosion))\n",
    "\n",
    "La sintassi è:\n",
    "\n",
    "```python\n",
    "img = cv2.imread('j.png',0)\n",
    "kernel = np.ones((5,5),np.uint8)\n",
    "erosion = cv2.erode(img,kernel,iterations = 1)\n",
    "```"
   ]
  },
  {
   "cell_type": "code",
   "execution_count": null,
   "id": "f2dc320b",
   "metadata": {},
   "outputs": [],
   "source": [
    "w = 2\n",
    "\n",
    "# creo finestra\n",
    "kernel = np.ones((w,w),np.uint8)\n",
    "\n",
    "# riduco spessore\n",
    "erosion = cv2.erode(img,kernel,iterations = 1)\n",
    "\n",
    "plt.imshow(erosion, cmap = 'gray')\n",
    "plt.show()"
   ]
  },
  {
   "cell_type": "code",
   "execution_count": null,
   "id": "a7f78a8f",
   "metadata": {},
   "outputs": [],
   "source": [
    "# applico erode all'array x_train_filtered\n",
    "\n",
    "# test = cv2.erode(x_train_filtered, kernel, iterations = 1)\n",
    "\n",
    "plt.imshow(test[npat], cmap = 'gray')\n",
    "plt.show()\n",
    "\n",
    "# non funziona bene"
   ]
  },
  {
   "cell_type": "code",
   "execution_count": null,
   "id": "42f17a30",
   "metadata": {},
   "outputs": [],
   "source": [
    "# Inizializza un nuovo array vuoto per le immagini erode\n",
    "x_train_erode = np.zeros_like(x_train)\n",
    "x_test_erode = np.zeros_like(x_test)\n",
    "\n",
    "# applico filtro erode all'array x_train_filtered\n",
    "for i in range(len(x_train_filtered)):\n",
    "    x_train_erode[i] = cv2.erode(x_train_filtered[i], kernel, iterations = 1)\n",
    "\n",
    "for i in range(len(x_test)):\n",
    "    x_test_erode[i] = cv2.erode(x_test_filtered[i], kernel, iterations = 1)"
   ]
  },
  {
   "cell_type": "code",
   "execution_count": null,
   "id": "2e422b13",
   "metadata": {},
   "outputs": [],
   "source": [
    "plt.imshow(x_train_erode[npat], cmap = 'gray')\n",
    "plt.show()"
   ]
  },
  {
   "cell_type": "markdown",
   "id": "2664612f",
   "metadata": {},
   "source": [
    "## Erode without binarizing\n",
    "\n",
    "Ecco quello che si ottiene lanciando `cv2.erode` su un'immagine non precedentemente binarizzata"
   ]
  },
  {
   "cell_type": "code",
   "execution_count": null,
   "id": "ade53004",
   "metadata": {},
   "outputs": [],
   "source": [
    "w = 2\n",
    "kernel = np.ones((w,w),np.uint8)\n",
    "\n",
    "for i in range(w):\n",
    "    erosion2 = cv2.erode(x_train[npat],kernel,iterations = i+1)\n",
    "    plt.subplot(1,2,i+1)\n",
    "    plt.imshow(erosion2, cmap = 'gray')\n",
    "    titolo = \"Erode: kernel={} ; iterations={}\".format(w, i+1)\n",
    "    plt.title(titolo)\n",
    "plt.show()"
   ]
  },
  {
   "cell_type": "markdown",
   "id": "c199d31e",
   "metadata": {},
   "source": [
    "### Domanda\n",
    "\n",
    "Conviene binarizzare?"
   ]
  },
  {
   "cell_type": "markdown",
   "id": "1c94f8a8",
   "metadata": {},
   "source": [
    "## focus to content resizing\n",
    "\n",
    "https://stackoverflow.com/questions/74089678/remove-whitespace-of-a-image-python-opencv"
   ]
  },
  {
   "cell_type": "code",
   "execution_count": null,
   "id": "91d2f249",
   "metadata": {},
   "outputs": [],
   "source": [
    "# flattening\n",
    "# si può fare anche con neural networks\n",
    "x_train = x_train.reshape(x_train.shape[0],x_train.shape[1]*x_train.shape[2])\n",
    "x_test = x_test.reshape(x_test.shape[0],x_test.shape[1]*x_test.shape[2])\n",
    "\n",
    "print(\"New dimensions\\n\")\n",
    "print(\"x_train:\",x_train.shape)\n",
    "print(\"x_test:\",x_test.shape)"
   ]
  },
  {
   "cell_type": "code",
   "execution_count": null,
   "id": "e0f50096",
   "metadata": {},
   "outputs": [],
   "source": [
    "# provo a far girare il modello con il train preprocessato e il test anche\n",
    "\n",
    "# flattening\n",
    "# si può fare anche con neural networks\n",
    "x_train = x_train_bin.reshape(x_train.shape[0],x_train.shape[1]*x_train.shape[2])\n",
    "x_test = x_test_bin.reshape(x_test.shape[0],x_test.shape[1]*x_test.shape[2])\n",
    "\n",
    "print(\"New dimensions\\n\")\n",
    "print(\"x_train:\",x_train.shape)\n",
    "print(\"x_test:\",x_test.shape)"
   ]
  },
  {
   "cell_type": "code",
   "execution_count": null,
   "id": "96ff2bfa",
   "metadata": {},
   "outputs": [],
   "source": [
    "# casting\n",
    "x_train = x_train.astype('float32')\n",
    "x_test = x_test.astype('float32')"
   ]
  },
  {
   "cell_type": "markdown",
   "id": "f6b66505",
   "metadata": {},
   "source": [
    "L'idea è quella di dividere ogni immagine per il max per normalizzare"
   ]
  },
  {
   "cell_type": "code",
   "execution_count": null,
   "id": "11348961",
   "metadata": {},
   "outputs": [],
   "source": [
    "# normalizzo\n",
    "# print(\"Before normalization\")\n",
    "\n",
    "# x_max = np.amax(x_train, axis = 1, keepdims=True)\n",
    "# print(\"I valori univoci dell'array dei massimi (train) sono:\",np.unique(x_max))\n",
    "x_train /= 255\n",
    "\n",
    "# x_max = np.amax(x_test, axis = 1, keepdims=True)\n",
    "# print(\"I valori univoci dell'array dei massimi (test) sono:\",np.unique(x_max))\n",
    "x_test /= 255"
   ]
  },
  {
   "cell_type": "code",
   "execution_count": null,
   "id": "51b38fd1",
   "metadata": {},
   "outputs": [],
   "source": [
    "# rendo categoriche le variabili di output\n",
    "num_categories = 10\n",
    "y_train = keras.utils.to_categorical(y_train,num_categories)\n",
    "y_test = keras.utils.to_categorical(y_test, num_categories)"
   ]
  },
  {
   "cell_type": "code",
   "execution_count": null,
   "id": "1d6f092f",
   "metadata": {},
   "outputs": [],
   "source": [
    "print(\"New categorical output pattern n.\",npat,\"=\",y_train[npat])"
   ]
  },
  {
   "cell_type": "markdown",
   "id": "3b8ae8e5",
   "metadata": {},
   "source": [
    "## Modello\n",
    "Adesso creiamo il modello avente due layer di neuroni con funzione di attivazione relu e l'ultimo (output) softmax"
   ]
  },
  {
   "cell_type": "code",
   "execution_count": null,
   "id": "eea1295d",
   "metadata": {},
   "outputs": [],
   "source": [
    "# creo il modello\n",
    "model=Sequential()\n",
    "\n",
    "# aggiungo layer + input\n",
    "model.add(Dense(units=100,activation='relu',input_shape=(784,)))\n",
    "\n",
    "# aggiungo uno strato nascosto\n",
    "model.add(Dense(units=2,activation='relu'))\n",
    "\n",
    "# output layer\n",
    "model.add(Dense(units=10,activation='softmax'))\n",
    "model.summary()"
   ]
  },
  {
   "cell_type": "code",
   "execution_count": null,
   "id": "02503ed9",
   "metadata": {},
   "outputs": [],
   "source": [
    "# addestro il modello\n",
    "model.compile(loss = 'categorical_crossentropy', metrics=['accuracy'])\n",
    "history = model.fit(x_train, y_train, epochs = 15, verbose = 1, validation_data = (x_test, y_test));"
   ]
  },
  {
   "cell_type": "code",
   "execution_count": null,
   "id": "8f76341e",
   "metadata": {},
   "outputs": [],
   "source": [
    "# List all data in history\n",
    "print(history.history.keys())\n",
    "\n",
    "# Summarize history for accuracy\n",
    "plt.plot(history.history['accuracy'])\n",
    "plt.plot(history.history['val_accuracy'])\n",
    "plt.title('model accuracy')\n",
    "plt.ylabel('accuracy')\n",
    "plt.xlabel('epoch')\n",
    "plt.legend(['train', 'test'], loc='upper left')\n",
    "plt.show()\n",
    "\n",
    "# summarize history for loss\n",
    "plt.plot(history.history['loss'])\n",
    "plt.plot(history.history['val_loss'])\n",
    "plt.title('model loss')\n",
    "plt.ylabel('loss')\n",
    "plt.xlabel('epoch')\n",
    "plt.legend(['train', 'test'], loc='upper left')\n",
    "plt.show()\n",
    "\n",
    "# Salvataggio del modello\n",
    "model.save('4_mnist/models/pp.mnist.model.h5')\n",
    "plt.show()"
   ]
  },
  {
   "cell_type": "code",
   "execution_count": null,
   "id": "ed6e2a77",
   "metadata": {},
   "outputs": [],
   "source": []
  }
 ],
 "metadata": {
  "kernelspec": {
   "display_name": "tf",
   "language": "python",
   "name": "tf"
  },
  "language_info": {
   "codemirror_mode": {
    "name": "ipython",
    "version": 3
   },
   "file_extension": ".py",
   "mimetype": "text/x-python",
   "name": "python",
   "nbconvert_exporter": "python",
   "pygments_lexer": "ipython3",
   "version": "3.10.9"
  }
 },
 "nbformat": 4,
 "nbformat_minor": 5
}
