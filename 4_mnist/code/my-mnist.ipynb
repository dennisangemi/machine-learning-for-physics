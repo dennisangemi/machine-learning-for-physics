{
 "cells": [
  {
   "cell_type": "markdown",
   "id": "8dbc54c8",
   "metadata": {},
   "source": [
    "# MNIST\n",
    "\n",
    "Obiettivo: costruire un modello che sia in grado di riconoscere carattere numerico manoscritto.\n",
    "\n",
    "paragonare modello dl senza preprocessing e modello costruito dopo preprocessing\n",
    "\n",
    "## Step\n",
    "\n",
    "Al fine di diminuire il numero di neuroni della rete e migliorare le prestazioni, si effettua del preprocessing.\n",
    "\n",
    "- Importing data\n",
    "- Preprocessing\n",
    "  1. eliminazione rumore (filtro mediano)\n",
    "  1. uniforming thickness\n",
    "  1. resizing & centering\n",
    "  1. fixing discontinuity (reconstructing ink hole)\n",
    "  1. normalizing\n",
    "- model"
   ]
  },
  {
   "cell_type": "markdown",
   "id": "5dff4826",
   "metadata": {},
   "source": [
    "Cominciamo importando le librerie necessarie per il corretto funzionamento del codice (tensorflow, keras, matplotlib)"
   ]
  },
  {
   "cell_type": "code",
   "execution_count": 1,
   "id": "51279554",
   "metadata": {},
   "outputs": [
    {
     "name": "stderr",
     "output_type": "stream",
     "text": [
      "2023-03-26 16:14:56.014502: I tensorflow/core/platform/cpu_feature_guard.cc:193] This TensorFlow binary is optimized with oneAPI Deep Neural Network Library (oneDNN) to use the following CPU instructions in performance-critical operations:  SSE4.1 SSE4.2 AVX AVX2 FMA\n",
      "To enable them in other operations, rebuild TensorFlow with the appropriate compiler flags.\n"
     ]
    }
   ],
   "source": [
    "%%capture\n",
    "import os\n",
    "import pandas as pd\n",
    "import cv2\n",
    "import tensorflow.keras as keras\n",
    "import tensorflow as tf\n",
    "import mnist\n",
    "import numpy as np\n",
    "import matplotlib.pyplot as plt\n",
    "from   tensorflow.keras.models import Sequential\n",
    "from   tensorflow.keras.layers import Dense"
   ]
  },
  {
   "attachments": {},
   "cell_type": "markdown",
   "id": "2fc73830",
   "metadata": {},
   "source": [
    "## No pre-processing\n",
    "Addestro modello senza effettuare preprocessing"
   ]
  },
  {
   "cell_type": "code",
   "execution_count": 31,
   "id": "019be9f4",
   "metadata": {},
   "outputs": [
    {
     "name": "stdout",
     "output_type": "stream",
     "text": [
      "Data dimensions:\n",
      "\n",
      "x_lrn: (60000, 28, 28)\n",
      "x_tst: (10000, 28, 28)\n",
      "y_lrn: (60000,)\n",
      "y_tst: (10000,)\n"
     ]
    }
   ],
   "source": [
    "# loading data\n",
    "mnist = tf.keras.datasets.mnist\n",
    "(x_train, y_train), (x_test, y_test) = mnist.load_data(path = \"mnist.npz\")\n",
    "\n",
    "# undestand data dimensions\n",
    "print(\"Data dimensions:\\n\")\n",
    "print(\"x_lrn:\",x_train.shape)\n",
    "print(\"x_tst:\",x_test.shape)\n",
    "print(\"y_lrn:\",y_train.shape)\n",
    "print(\"y_tst:\",y_test.shape)"
   ]
  },
  {
   "cell_type": "code",
   "execution_count": 3,
   "id": "23d90a3d",
   "metadata": {},
   "outputs": [
    {
     "name": "stdout",
     "output_type": "stream",
     "text": [
      "Ecco il pattern n. 7\n",
      "Il valore atteso è:  3\n"
     ]
    },
    {
     "data": {
      "image/png": "[encoded data removed]",
      "text/plain": [
       "<Figure size 640x480 with 1 Axes>"
      ]
     },
     "metadata": {},
     "output_type": "display_data"
    }
   ],
   "source": [
    "# visualizzo un esempio di pattern\n",
    "npat = 7\n",
    "print(\"Ecco il pattern n.\", npat)\n",
    "print(\"Il valore atteso è: \", y_train[npat]);\n",
    "\n",
    "img = x_train[npat];\n",
    "plt.imshow(img, cmap = 'gray')\n",
    "plt.show(block = False)"
   ]
  },
  {
   "cell_type": "code",
   "execution_count": 4,
   "id": "f8dcdd6e",
   "metadata": {},
   "outputs": [],
   "source": [
    "# crea funzione 'recognize_digit' per riconoscere il numero che crei il modello sopra\n",
    "def recognize_digit(shape, n_epochs, n_categories, x_train, y_train, x_test, y_test, path):\n",
    "\n",
    "    # rendo categoriche le variabili di output\n",
    "    y_train = keras.utils.to_categorical(y_train, n_categories)\n",
    "    y_test = keras.utils.to_categorical(y_test, n_categories)\n",
    "\n",
    "    # normalizzo usando la funzione di keras\n",
    "    x_train = keras.utils.normalize(x_train, axis = 1)\n",
    "    x_test = keras.utils.normalize(x_test, axis = 1)\n",
    "\n",
    "    # creo il modello\n",
    "    model = Sequential()\n",
    "\n",
    "    # flattening\n",
    "    model.add(keras.layers.Flatten(input_shape = (shape,shape)))\n",
    "\n",
    "    # aggiungo layer + input\n",
    "    model.add(Dense(units = 100, activation = 'relu', input_shape = (shape*shape,)))\n",
    "\n",
    "    # aggiungo uno strato nascosto\n",
    "    model.add(Dense(units = 2, activation = 'relu'))\n",
    "\n",
    "    # output layer\n",
    "    model.add(Dense(units = 10, activation = 'softmax'))\n",
    "\n",
    "    model.summary()\n",
    "\n",
    "    # addestro il modello\n",
    "    model.compile(loss = 'categorical_crossentropy', metrics=['accuracy'])\n",
    "    history = model.fit(x_train, y_train, epochs = n_epochs, verbose = 1, validation_data = (x_test, y_test));\n",
    "\n",
    "    # Salvataggio del modello\n",
    "    model.save(path)\n",
    "\n",
    "    # ritorna history\n",
    "    return history\n",
    "\n",
    "# crea funzione per visualizzare i risultati\n",
    "def plot_results(history):\n",
    "    # Plot training & validation accuracy values\n",
    "    plt.figure(figsize=(5,5))\n",
    "    plt.subplot(2,1,1)\n",
    "    plt.plot(history.history['accuracy'])\n",
    "    plt.plot(history.history['val_accuracy'])\n",
    "    plt.title('model accuracy')\n",
    "    plt.ylabel('accuracy')\n",
    "    plt.xlabel('epoch')\n",
    "    plt.legend(['train', 'test'], loc='best')\n",
    "\n",
    "    # summarize history for loss\n",
    "    plt.subplot(2,1,2)\n",
    "    plt.subplots_adjust(hspace = 0.5)\n",
    "    plt.plot(history.history['loss'])\n",
    "    plt.plot(history.history['val_loss'])\n",
    "    plt.title('model loss')\n",
    "    plt.ylabel('loss')\n",
    "    plt.xlabel('epoch')\n",
    "    plt.legend(['train', 'test'], loc='best')\n",
    "    plt.show()"
   ]
  },
  {
   "cell_type": "code",
   "execution_count": 32,
   "id": "5c64f23e",
   "metadata": {},
   "outputs": [
    {
     "name": "stdout",
     "output_type": "stream",
     "text": [
      "Model: \"sequential_3\"\n",
      "_________________________________________________________________\n",
      " Layer (type)                Output Shape              Param #   \n",
      "=================================================================\n",
      " flatten_3 (Flatten)         (None, 784)               0         \n",
      "                                                                 \n",
      " dense_9 (Dense)             (None, 100)               78500     \n",
      "                                                                 \n",
      " dense_10 (Dense)            (None, 2)                 202       \n",
      "                                                                 \n",
      " dense_11 (Dense)            (None, 10)                30        \n",
      "                                                                 \n",
      "=================================================================\n",
      "Total params: 78,732\n",
      "Trainable params: 78,732\n",
      "Non-trainable params: 0\n",
      "_________________________________________________________________\n",
      "Epoch 1/15\n",
      "1875/1875 [==============================] - 3s 2ms/step - loss: 1.2815 - accuracy: 0.5266 - val_loss: 0.9419 - val_accuracy: 0.6672\n",
      "Epoch 2/15\n",
      "1875/1875 [==============================] - 3s 1ms/step - loss: 0.8018 - accuracy: 0.7294 - val_loss: 0.7120 - val_accuracy: 0.7729\n",
      "Epoch 3/15\n",
      "1875/1875 [==============================] - 3s 2ms/step - loss: 0.6128 - accuracy: 0.8365 - val_loss: 0.5626 - val_accuracy: 0.8731\n",
      "Epoch 4/15\n",
      "1875/1875 [==============================] - 3s 2ms/step - loss: 0.4922 - accuracy: 0.8881 - val_loss: 0.4973 - val_accuracy: 0.8871\n",
      "Epoch 5/15\n",
      "1875/1875 [==============================] - 3s 2ms/step - loss: 0.4248 - accuracy: 0.9044 - val_loss: 0.4515 - val_accuracy: 0.8989\n",
      "Epoch 6/15\n",
      "1875/1875 [==============================] - 3s 2ms/step - loss: 0.3809 - accuracy: 0.9136 - val_loss: 0.4171 - val_accuracy: 0.9071\n",
      "Epoch 7/15\n",
      "1875/1875 [==============================] - 3s 2ms/step - loss: 0.3497 - accuracy: 0.9215 - val_loss: 0.4026 - val_accuracy: 0.9135\n",
      "Epoch 8/15\n",
      "1875/1875 [==============================] - 3s 2ms/step - loss: 0.3249 - accuracy: 0.9287 - val_loss: 0.3909 - val_accuracy: 0.9150\n",
      "Epoch 9/15\n",
      "1875/1875 [==============================] - 3s 2ms/step - loss: 0.3035 - accuracy: 0.9324 - val_loss: 0.3825 - val_accuracy: 0.9213\n",
      "Epoch 10/15\n",
      "1875/1875 [==============================] - 3s 2ms/step - loss: 0.2866 - accuracy: 0.9362 - val_loss: 0.3857 - val_accuracy: 0.9172\n",
      "Epoch 11/15\n",
      "1875/1875 [==============================] - 3s 1ms/step - loss: 0.2708 - accuracy: 0.9395 - val_loss: 0.3780 - val_accuracy: 0.9181\n",
      "Epoch 12/15\n",
      "1875/1875 [==============================] - 3s 2ms/step - loss: 0.2579 - accuracy: 0.9423 - val_loss: 0.3746 - val_accuracy: 0.9216\n",
      "Epoch 13/15\n",
      "1875/1875 [==============================] - 3s 2ms/step - loss: 0.2463 - accuracy: 0.9439 - val_loss: 0.3670 - val_accuracy: 0.9214\n",
      "Epoch 14/15\n",
      "1875/1875 [==============================] - 3s 2ms/step - loss: 0.2346 - accuracy: 0.9472 - val_loss: 0.3766 - val_accuracy: 0.9253\n",
      "Epoch 15/15\n",
      "1875/1875 [==============================] - 3s 2ms/step - loss: 0.2258 - accuracy: 0.9492 - val_loss: 0.3694 - val_accuracy: 0.9273\n"
     ]
    },
    {
     "data": {
      "image/png": "[encoded data removed]",
      "text/plain": [
       "<Figure size 500x500 with 2 Axes>"
      ]
     },
     "metadata": {},
     "output_type": "display_data"
    }
   ],
   "source": [
    "# invoco funzione recognize_digit per creare modello\n",
    "history = recognize_digit(28, 15, 10, x_train, y_train, x_test, y_test, \"4_mnist/models/np.mnist.model.h5\")\n",
    "\n",
    "# invoco funzione per visualizzare i risultati\n",
    "plot_results(history)"
   ]
  },
  {
   "cell_type": "code",
   "execution_count": 33,
   "id": "055fc3a6",
   "metadata": {},
   "outputs": [
    {
     "data": {
      "text/html": [
       "<div>\n",
       "<style scoped>\n",
       "    .dataframe tbody tr th:only-of-type {\n",
       "        vertical-align: middle;\n",
       "    }\n",
       "\n",
       "    .dataframe tbody tr th {\n",
       "        vertical-align: top;\n",
       "    }\n",
       "\n",
       "    .dataframe thead th {\n",
       "        text-align: right;\n",
       "    }\n",
       "</style>\n",
       "<table border=\"1\" class=\"dataframe\">\n",
       "  <thead>\n",
       "    <tr style=\"text-align: right;\">\n",
       "      <th></th>\n",
       "      <th>loss</th>\n",
       "      <th>accuracy</th>\n",
       "      <th>val_loss</th>\n",
       "      <th>val_accuracy</th>\n",
       "    </tr>\n",
       "  </thead>\n",
       "  <tbody>\n",
       "    <tr>\n",
       "      <th>0</th>\n",
       "      <td>1.281465</td>\n",
       "      <td>0.526600</td>\n",
       "      <td>0.941890</td>\n",
       "      <td>0.6672</td>\n",
       "    </tr>\n",
       "    <tr>\n",
       "      <th>1</th>\n",
       "      <td>0.801847</td>\n",
       "      <td>0.729367</td>\n",
       "      <td>0.711990</td>\n",
       "      <td>0.7729</td>\n",
       "    </tr>\n",
       "    <tr>\n",
       "      <th>2</th>\n",
       "      <td>0.612750</td>\n",
       "      <td>0.836517</td>\n",
       "      <td>0.562585</td>\n",
       "      <td>0.8731</td>\n",
       "    </tr>\n",
       "    <tr>\n",
       "      <th>3</th>\n",
       "      <td>0.492191</td>\n",
       "      <td>0.888050</td>\n",
       "      <td>0.497265</td>\n",
       "      <td>0.8871</td>\n",
       "    </tr>\n",
       "    <tr>\n",
       "      <th>4</th>\n",
       "      <td>0.424808</td>\n",
       "      <td>0.904367</td>\n",
       "      <td>0.451531</td>\n",
       "      <td>0.8989</td>\n",
       "    </tr>\n",
       "    <tr>\n",
       "      <th>5</th>\n",
       "      <td>0.380883</td>\n",
       "      <td>0.913567</td>\n",
       "      <td>0.417071</td>\n",
       "      <td>0.9071</td>\n",
       "    </tr>\n",
       "    <tr>\n",
       "      <th>6</th>\n",
       "      <td>0.349699</td>\n",
       "      <td>0.921500</td>\n",
       "      <td>0.402574</td>\n",
       "      <td>0.9135</td>\n",
       "    </tr>\n",
       "    <tr>\n",
       "      <th>7</th>\n",
       "      <td>0.324887</td>\n",
       "      <td>0.928700</td>\n",
       "      <td>0.390874</td>\n",
       "      <td>0.9150</td>\n",
       "    </tr>\n",
       "    <tr>\n",
       "      <th>8</th>\n",
       "      <td>0.303523</td>\n",
       "      <td>0.932367</td>\n",
       "      <td>0.382471</td>\n",
       "      <td>0.9213</td>\n",
       "    </tr>\n",
       "    <tr>\n",
       "      <th>9</th>\n",
       "      <td>0.286643</td>\n",
       "      <td>0.936200</td>\n",
       "      <td>0.385693</td>\n",
       "      <td>0.9172</td>\n",
       "    </tr>\n",
       "    <tr>\n",
       "      <th>10</th>\n",
       "      <td>0.270761</td>\n",
       "      <td>0.939483</td>\n",
       "      <td>0.378009</td>\n",
       "      <td>0.9181</td>\n",
       "    </tr>\n",
       "    <tr>\n",
       "      <th>11</th>\n",
       "      <td>0.257871</td>\n",
       "      <td>0.942300</td>\n",
       "      <td>0.374631</td>\n",
       "      <td>0.9216</td>\n",
       "    </tr>\n",
       "    <tr>\n",
       "      <th>12</th>\n",
       "      <td>0.246300</td>\n",
       "      <td>0.943917</td>\n",
       "      <td>0.367002</td>\n",
       "      <td>0.9214</td>\n",
       "    </tr>\n",
       "    <tr>\n",
       "      <th>13</th>\n",
       "      <td>0.234635</td>\n",
       "      <td>0.947200</td>\n",
       "      <td>0.376611</td>\n",
       "      <td>0.9253</td>\n",
       "    </tr>\n",
       "    <tr>\n",
       "      <th>14</th>\n",
       "      <td>0.225826</td>\n",
       "      <td>0.949167</td>\n",
       "      <td>0.369389</td>\n",
       "      <td>0.9273</td>\n",
       "    </tr>\n",
       "  </tbody>\n",
       "</table>\n",
       "</div>"
      ],
      "text/plain": [
       "        loss  accuracy  val_loss  val_accuracy\n",
       "0   1.281465  0.526600  0.941890        0.6672\n",
       "1   0.801847  0.729367  0.711990        0.7729\n",
       "2   0.612750  0.836517  0.562585        0.8731\n",
       "3   0.492191  0.888050  0.497265        0.8871\n",
       "4   0.424808  0.904367  0.451531        0.8989\n",
       "5   0.380883  0.913567  0.417071        0.9071\n",
       "6   0.349699  0.921500  0.402574        0.9135\n",
       "7   0.324887  0.928700  0.390874        0.9150\n",
       "8   0.303523  0.932367  0.382471        0.9213\n",
       "9   0.286643  0.936200  0.385693        0.9172\n",
       "10  0.270761  0.939483  0.378009        0.9181\n",
       "11  0.257871  0.942300  0.374631        0.9216\n",
       "12  0.246300  0.943917  0.367002        0.9214\n",
       "13  0.234635  0.947200  0.376611        0.9253\n",
       "14  0.225826  0.949167  0.369389        0.9273"
      ]
     },
     "execution_count": 33,
     "metadata": {},
     "output_type": "execute_result"
    }
   ],
   "source": [
    "# visualizza tabella history dei risultati con pandas\n",
    "pd.DataFrame(history.history)"
   ]
  },
  {
   "attachments": {},
   "cell_type": "markdown",
   "id": "d231076a",
   "metadata": {},
   "source": [
    "## Importo le mie immagini\n",
    "\n",
    "Creo funzione per salvare tutte le immagini di una cartella in un array e ridimensionarle."
   ]
  },
  {
   "cell_type": "code",
   "execution_count": 34,
   "id": "4471c845",
   "metadata": {},
   "outputs": [],
   "source": [
    "# definisci funzione 'importa_mie_immagini'\n",
    "def importa_mie_immagini(cartella_immagini, nuova_dimensione):\n",
    "    # inizializza l'array numpy per contenere tutte le immagini ridimensionate\n",
    "    immagini = np.empty((0, *nuova_dimensione), dtype=np.uint8)\n",
    "\n",
    "    # scorri tutti i file nella cartella specificata\n",
    "    for nome_file in os.listdir(cartella_immagini):\n",
    "        # carica l'immagine\n",
    "        percorso_file = os.path.join(cartella_immagini, nome_file)\n",
    "        img = cv2.imread(percorso_file, cv2.IMREAD_GRAYSCALE)\n",
    "\n",
    "        # ridimensiona l'immagine\n",
    "        img_ridimensionata = cv2.resize(img, nuova_dimensione)\n",
    "\n",
    "        # aggiungi l'immagine all'array numpy\n",
    "        immagini = np.vstack([immagini, np.expand_dims(img_ridimensionata, axis=0)])\n",
    "\n",
    "    return immagini\n",
    "\n",
    "# definisci funzione 'personal_digit_recognizer'\n",
    "def personal_digit_recognizer(cartella_immagini, nuova_dimensione, model_path):\n",
    "    # carica le immagini\n",
    "    immagini = importa_mie_immagini(cartella_immagini, nuova_dimensione)\n",
    "\n",
    "    # carico modello salvato\n",
    "    model = keras.models.load_model(model_path)\n",
    "\n",
    "    # applico modello alle mie immagini\n",
    "    predictions = model.predict(immagini)\n",
    "\n",
    "    plt.figure(figsize=(10, 5))\n",
    "    for i in range(0, immagini.shape[0]):\n",
    "        plt.subplot(2, 5, i + 1)\n",
    "        plt.imshow(immagini[i], cmap = 'gray')\n",
    "        plt.title(np.argmax(predictions[i]))\n",
    "        plt.axis('off')\n",
    "    plt.show(block = False)"
   ]
  },
  {
   "cell_type": "code",
   "execution_count": 35,
   "id": "c70c9fcb",
   "metadata": {},
   "outputs": [
    {
     "name": "stdout",
     "output_type": "stream",
     "text": [
      "1/1 [==============================] - 0s 51ms/step\n"
     ]
    },
    {
     "data": {
      "image/png": "[encoded data removed]",
      "text/plain": [
       "<Figure size 1000x500 with 10 Axes>"
      ]
     },
     "metadata": {},
     "output_type": "display_data"
    }
   ],
   "source": [
    "# specifica il percorso della cartella contenente le immagini\n",
    "cartella_immagini = \"4_mnist/img/numbers\"\n",
    "\n",
    "# specifica le dimensioni desiderate\n",
    "nuova_dimensione = (28, 28)\n",
    "\n",
    "# applico modello alle mie immagini\n",
    "personal_digit_recognizer(cartella_immagini, nuova_dimensione, '4_mnist/models/np.mnist.model.h5')"
   ]
  },
  {
   "attachments": {},
   "cell_type": "markdown",
   "id": "ea2e394b",
   "metadata": {},
   "source": [
    "## Pre processing"
   ]
  },
  {
   "cell_type": "markdown",
   "id": "0d6382d2",
   "metadata": {},
   "source": [
    "Visualizziamo un'immagine del dataset di learning (per modificare il numero dell'immagine, modifica il valore della variabile `npat`)"
   ]
  },
  {
   "cell_type": "code",
   "execution_count": 9,
   "id": "724dcf83",
   "metadata": {},
   "outputs": [
    {
     "name": "stdout",
     "output_type": "stream",
     "text": [
      "Data dimensions:\n",
      "\n",
      "x_lrn: (60000, 28, 28)\n",
      "x_tst: (10000, 28, 28)\n",
      "y_lrn: (60000,)\n",
      "y_tst: (10000,)\n"
     ]
    }
   ],
   "source": [
    "# loading data\n",
    "mnist = tf.keras.datasets.mnist\n",
    "(x_train, y_train), (x_test, y_test) = mnist.load_data(path = \"mnist.npz\")\n",
    "\n",
    "# undestand data dimensions\n",
    "print(\"Data dimensions:\\n\")\n",
    "print(\"x_lrn:\",x_train.shape)\n",
    "print(\"x_tst:\",x_test.shape)\n",
    "print(\"y_lrn:\",y_train.shape)\n",
    "print(\"y_tst:\",y_test.shape)"
   ]
  },
  {
   "cell_type": "code",
   "execution_count": 10,
   "id": "0d3f1fc0",
   "metadata": {},
   "outputs": [
    {
     "name": "stdout",
     "output_type": "stream",
     "text": [
      "Ecco il pattern n. 7\n",
      "Il valore atteso è:  3\n"
     ]
    },
    {
     "data": {
      "image/png": "[encoded data removed]",
      "text/plain": [
       "<Figure size 400x400 with 1 Axes>"
      ]
     },
     "metadata": {},
     "output_type": "display_data"
    }
   ],
   "source": [
    "npat = 7\n",
    "print(\"Ecco il pattern n.\", npat)\n",
    "print(\"Il valore atteso è: \", y_train[npat]);\n",
    "\n",
    "img = x_train[npat];\n",
    "\n",
    "# definisci funzione 'show_image' con le stesse proprietà del plot sotto\n",
    "def show_image(img):\n",
    "    plt.figure(figsize=(4,4))\n",
    "    plt.imshow(img, cmap = 'gray')\n",
    "    plt.axis('off')\n",
    "    plt.show(block = False)\n",
    "\n",
    "# invoco funzione 'show_image'\n",
    "show_image(img)"
   ]
  },
  {
   "cell_type": "markdown",
   "id": "779b4cd0",
   "metadata": {},
   "source": [
    "Da adesso in poi useremo una variabile temporanea `img` che conterrà l'immagine `x_train[npat]` in modo tale da non lavorare con l'intero array di immagini."
   ]
  },
  {
   "attachments": {},
   "cell_type": "markdown",
   "id": "71b5fbb5",
   "metadata": {},
   "source": [
    "### Reducing noise\n",
    "\n",
    "L'idea è quella di applicare un filtro mediano.\n",
    "\n",
    "Utilizzeremo la libreria `OpenCV` (che importeremo con `import cv2`) dopo averla installata da terminale `pip install opencv-python`"
   ]
  },
  {
   "cell_type": "code",
   "execution_count": 11,
   "id": "97a32710",
   "metadata": {},
   "outputs": [
    {
     "data": {
      "image/png": "[encoded data removed]",
      "text/plain": [
       "<Figure size 400x400 with 1 Axes>"
      ]
     },
     "metadata": {},
     "output_type": "display_data"
    }
   ],
   "source": [
    "# add noise in pixel 3,3\n",
    "img[3,3] = 100\n",
    "x_train[npat,3,3] = 100\n",
    "\n",
    "# preview\n",
    "show_image(img)"
   ]
  },
  {
   "cell_type": "code",
   "execution_count": 12,
   "id": "7c77a7cc",
   "metadata": {},
   "outputs": [
    {
     "data": {
      "image/png": "[encoded data removed]",
      "text/plain": [
       "<Figure size 1000x500 with 5 Axes>"
      ]
     },
     "metadata": {},
     "output_type": "display_data"
    }
   ],
   "source": [
    "# using csv2 to remove noise\n",
    "dn0 = cv2.medianBlur(img, 3)\n",
    "dn1 = cv2.fastNlMeansDenoising(img, h=60, templateWindowSize=3, searchWindowSize=8)\n",
    "dn2 = cv2.GaussianBlur(img, (3, 3), 1)\n",
    "dn3 = cv2.bilateralFilter(img, 9, 70, 70)\n",
    "\n",
    "denoised = [dn0, dn1, dn2, dn2]\n",
    "titles = [\"medianBlur\",\"fastNlMeansDenoising\", \"GaussianBlur\", \"bilateralFilter\"]\n",
    "\n",
    "# plotting\n",
    "plt.figure(figsize=(10, 5))\n",
    "plt.subplot(1,5,1)\n",
    "plt.title(\"Noisy image\")\n",
    "plt.imshow(img, cmap = 'gray')\n",
    "plt.axis('off')\n",
    "\n",
    "for i in range(len(denoised)):\n",
    "    plt.subplot(1,5,i+2)\n",
    "    plt.title(titles[i])\n",
    "    plt.imshow(denoised[i], cmap = 'gray')\n",
    "    plt.axis('off')\n",
    "    \n",
    "plt.show()"
   ]
  },
  {
   "cell_type": "code",
   "execution_count": 13,
   "id": "cb92d6de",
   "metadata": {},
   "outputs": [
    {
     "name": "stdout",
     "output_type": "stream",
     "text": [
      "Il rumore è sparito?\n",
      "sì, il pixel 3,3 ha valore 0\n"
     ]
    }
   ],
   "source": [
    "# scelgo metodo\n",
    "img = dn0\n",
    "\n",
    "# check\n",
    "print(\"Il rumore è sparito?\")\n",
    "if img[3,3] == 0:\n",
    "    print(\"sì, il pixel 3,3 ha valore 0\")\n",
    "else:\n",
    "    print(\"no, il pixel 3,3 ha valore\", img[3,3])\n"
   ]
  },
  {
   "cell_type": "code",
   "execution_count": 14,
   "id": "e137bcd1",
   "metadata": {},
   "outputs": [],
   "source": [
    "# definisco funzione 'noise_removal' che applica il filtro di denoising\n",
    "def noise_removal(img, number):\n",
    "    # applico filtro di denoising\n",
    "    oimg = cv2.medianBlur(img, number)\n",
    "    return oimg"
   ]
  },
  {
   "attachments": {},
   "cell_type": "markdown",
   "id": "004053f3",
   "metadata": {},
   "source": [
    "### Fix discontinuity\n",
    "\n",
    "OpenCV's Closing is reverse of Opening, Dilation followed by Erosion. It is useful in closing small holes inside the foreground objects, or small black points on the object.\n",
    "\n",
    "`closing = cv2.morphologyEx(img, cv2.MORPH_CLOSE, kernel)`\n",
    "\n",
    "dove \n",
    "\n",
    "`kernel = np.ones((5,5),np.uint8)`\n",
    "\n",
    "è la dimensione della finestra di azione del filtro.\n",
    "\n",
    "[Click here](https://opencv24-python-tutorials.readthedocs.io/en/latest/py_tutorials/py_imgproc/py_morphological_ops/py_morphological_ops.html) for more info\n",
    "\n",
    "Si tratta essenzialmente di un `dilate` seguito da `erode` per \"coprire i buchi\""
   ]
  },
  {
   "cell_type": "code",
   "execution_count": 15,
   "id": "eaaea58e",
   "metadata": {},
   "outputs": [
    {
     "data": {
      "image/png": "[encoded data removed]",
      "text/plain": [
       "<Figure size 800x400 with 2 Axes>"
      ]
     },
     "metadata": {},
     "output_type": "display_data"
    }
   ],
   "source": [
    "# pixel lato finestra\n",
    "w = 2\n",
    "\n",
    "# creo finestra\n",
    "kernel = np.ones((w,w),np.uint8)\n",
    "\n",
    "plt.figure(figsize=(8, 4))\n",
    "plt.subplot(1,2,1)\n",
    "plt.imshow(img, cmap = 'gray')\n",
    "plt.title(\"Before\")\n",
    "plt.axis('off')\n",
    "\n",
    "# rimuovo buchi\n",
    "img = cv2.morphologyEx(img, cv2.MORPH_CLOSE, kernel)\n",
    "\n",
    "plt.subplot(1,2,2)\n",
    "plt.imshow(img, cmap = 'gray')\n",
    "plt.title(\"After\")\n",
    "plt.axis('off')\n",
    "plt.show()"
   ]
  },
  {
   "cell_type": "code",
   "execution_count": 23,
   "id": "c719f16b",
   "metadata": {},
   "outputs": [],
   "source": [
    "# creo funzione 'hole_removal' che applica il filtro di rimozione buchi\n",
    "def hole_removal(img, w):\n",
    "    # creo finestra\n",
    "    kernel = np.ones((w,w),np.uint8)\n",
    "    # rimuovo buchi\n",
    "    oimg = cv2.morphologyEx(img, cv2.MORPH_CLOSE, kernel)\n",
    "    return oimg"
   ]
  },
  {
   "attachments": {},
   "cell_type": "markdown",
   "id": "277b481e",
   "metadata": {},
   "source": [
    "### Thickening\n",
    "\n",
    "Lo strumento vincente sembra erosion di OpenCV ([leggi qui](https://opencv24-python-tutorials.readthedocs.io/en/latest/py_tutorials/py_imgproc/py_morphological_ops/py_morphological_ops.html#erosion))\n",
    "\n",
    "La sintassi è:\n",
    "\n",
    "```python\n",
    "img = cv2.imread('j.png',0)\n",
    "kernel = np.ones((5,5),np.uint8)\n",
    "erosion = cv2.erode(img,kernel,iterations = 1)\n",
    "```\n",
    "\n",
    "#### Riferimenti\n",
    "-  https://stackoverflow.com/questions/56601130/how-to-reduce-the-thickness-of-the-contours\n",
    "-  https://stackoverflow.com/questions/51133962/how-can-i-scale-a-thickness-of-a-character-in-image-using-python-opencv"
   ]
  },
  {
   "cell_type": "code",
   "execution_count": 16,
   "id": "f2dc320b",
   "metadata": {},
   "outputs": [
    {
     "data": {
      "image/png": "[encoded data removed]",
      "text/plain": [
       "<Figure size 800x400 with 2 Axes>"
      ]
     },
     "metadata": {},
     "output_type": "display_data"
    }
   ],
   "source": [
    "# plot before\n",
    "plt.figure(figsize=(8, 4))\n",
    "plt.subplot(1,2,1)\n",
    "plt.imshow(img, cmap = 'gray')\n",
    "plt.title(\"Before\")\n",
    "plt.axis('off')\n",
    "\n",
    "# riduco spessore\n",
    "erosion = cv2.erode(img,kernel,iterations = 1)\n",
    "\n",
    "# plot after\n",
    "plt.subplot(1,2,2)\n",
    "plt.imshow(erosion, cmap = 'gray')\n",
    "plt.title(\"After\")\n",
    "plt.axis('off')\n",
    "\n",
    "# sovrascrivo immagine\n",
    "img = erosion"
   ]
  },
  {
   "cell_type": "code",
   "execution_count": 17,
   "id": "35c1aac4",
   "metadata": {},
   "outputs": [],
   "source": [
    "# creo funzione 'thickness_reduction' che riduce lo spessore\n",
    "def thickness_reduction(img, w, n_iterations):\n",
    "    # creo finestra\n",
    "    kernel = np.ones((w,w),np.uint8)\n",
    "    # riduco spessore\n",
    "    oimg = cv2.erode(img,kernel,iterations = n_iterations)\n",
    "    return oimg"
   ]
  },
  {
   "attachments": {},
   "cell_type": "markdown",
   "id": "f900fe7e",
   "metadata": {},
   "source": [
    "### Binarizing\n",
    "\n",
    "Esistono varie tecniche ([vedi qui](https://docs.opencv.org/4.x/d7/d4d/tutorial_py_thresholding.html))\n",
    "\n",
    "```python\n",
    "th3 = cv2.adaptiveThreshold(img,255,cv2.ADAPTIVE_THRESH_GAUSSIAN_C,\\\n",
    "            cv.THRESH_BINARY,11,2)\n",
    "```\n",
    "\n",
    "se non funzinoa, possiamo provare il metodo di Otzu:\n",
    "```python\n",
    "ret3,th3 = cv2.threshold(blur,0,255,cv2.THRESH_BINARY+cv2.THRESH_OTSU)\n",
    "```"
   ]
  },
  {
   "cell_type": "code",
   "execution_count": 18,
   "id": "72685aa9",
   "metadata": {},
   "outputs": [
    {
     "data": {
      "image/png": "[encoded data removed]",
      "text/plain": [
       "<Figure size 500x300 with 2 Axes>"
      ]
     },
     "metadata": {},
     "output_type": "display_data"
    }
   ],
   "source": [
    "# adaptive thresh gaussian\n",
    "atg = cv2.adaptiveThreshold(img,255,cv2.ADAPTIVE_THRESH_GAUSSIAN_C,\\\n",
    "            cv2.THRESH_BINARY,11,6)\n",
    "\n",
    "# otsu\n",
    "ret,ots = cv2.threshold(img,0,255,cv2.THRESH_BINARY+cv2.THRESH_OTSU)\n",
    "\n",
    "# plotting results\n",
    "plt.figure(figsize=(5, 3))\n",
    "plt.subplot(1,2,1)\n",
    "plt.title(\"Adaptive thresh gaussian\")\n",
    "plt.imshow(atg, cmap = 'gray')\n",
    "plt.subplot(1,2,2)\n",
    "plt.title(\"Otsu's Binarization\")\n",
    "plt.imshow(ots, cmap = 'gray')\n",
    "plt.axis('off')\n",
    "plt.show()"
   ]
  },
  {
   "cell_type": "code",
   "execution_count": 19,
   "id": "c3f8c539",
   "metadata": {},
   "outputs": [],
   "source": [
    "# scelgo metodo\n",
    "img = ots"
   ]
  },
  {
   "cell_type": "code",
   "execution_count": 20,
   "id": "796aae94",
   "metadata": {},
   "outputs": [],
   "source": [
    "# creo funzione 'binarization' che applica il filtro di binarizzazione\n",
    "def binarization(img):\n",
    "    ret,oimg = cv2.threshold(img,0,255,cv2.THRESH_BINARY+cv2.THRESH_OTSU)\n",
    "    return oimg"
   ]
  },
  {
   "attachments": {},
   "cell_type": "markdown",
   "id": "1c94f8a8",
   "metadata": {},
   "source": [
    "### Resizing\n",
    "\n",
    "focus to content\n",
    "\n",
    "Riferimenti:\n",
    "- https://stackoverflow.com/questions/74089678/remove-whitespace-of-a-image-python-opencv"
   ]
  },
  {
   "cell_type": "code",
   "execution_count": 24,
   "id": "91d2f249",
   "metadata": {},
   "outputs": [
    {
     "name": "stdout",
     "output_type": "stream",
     "text": [
      "Non funziona\n"
     ]
    },
    {
     "data": {
      "image/png": "[encoded data removed]",
      "text/plain": [
       "<Figure size 400x400 with 1 Axes>"
      ]
     },
     "metadata": {},
     "output_type": "display_data"
    }
   ],
   "source": [
    "# define function\n",
    "def focus_to_content(img):\n",
    "    img_ = 255*(img < 128).astype(np.uint8) \n",
    "    coords = cv2.findNonZero(img_) # Find all non-zero points (text)\n",
    "    x, y, w, h = cv2.boundingRect(coords) # Find minimum spanning bounding box\n",
    "    \n",
    "    rect = img[y:y+h, x:x+w] # Crop the image - note we do this on the original image\n",
    "    rect_originalSized = cv2.resize(rect,(img.shape))\n",
    "    return rect_originalSized\n",
    "\n",
    "# apply function\n",
    "test = focus_to_content(img)\n",
    "\n",
    "# show\n",
    "print(\"Non funziona\")\n",
    "show_image(test)"
   ]
  },
  {
   "attachments": {},
   "cell_type": "markdown",
   "id": "20a04ef3",
   "metadata": {},
   "source": [
    "### Operazioni sull'array\n",
    "\n",
    "Applico le operazioni precedenti a tutto l'array di training e test"
   ]
  },
  {
   "cell_type": "code",
   "execution_count": 25,
   "id": "a5b5dbbd",
   "metadata": {},
   "outputs": [],
   "source": [
    "# applica le operazioni di preprocessing (noise reduction, fix holes, thinning, binatization) a tutto l'array di training\n",
    "\n",
    "# lista le funzioni create\n",
    "functions = [noise_removal, hole_removal, thickness_reduction, binarization]\n",
    "\n",
    "# inizializza array x_train_processed lungo come x_train\n",
    "x_train_processed = np.zeros_like(x_train)\n",
    "\n",
    "# inizializza array x_test_processed lungo come x_test\n",
    "x_test_processed = np.zeros_like(x_test)\n",
    "\n",
    "# per ogni elemento dell'array di training applica le funzioni\n",
    "for i in range(len(x_train)):\n",
    "    x_train_processed[i] = noise_removal(x_train[i], 3)\n",
    "    x_train_processed[i] = hole_removal(x_train_processed[i], 2)\n",
    "    x_train_processed[i] = thickness_reduction(x_train_processed[i], 2, 1)\n",
    "    # x_train_processed[i] = binarization(x_train_processed[i])\n",
    "\n",
    "# applica le operazioni di preprocessing (noise reduction, fix holes, thinning, focus to content) a tutto l'array di test\n",
    "for i in range(len(x_test)):\n",
    "    x_test_processed[i] = noise_removal(x_test[i], 3)\n",
    "    x_test_processed[i] = hole_removal(x_test_processed[i], 2)\n",
    "    x_test_processed[i] = thickness_reduction(x_test_processed[i], 2, 1)\n",
    "    # x_test_processed[i] = binarization(x_test_processed[i])"
   ]
  },
  {
   "cell_type": "code",
   "execution_count": 26,
   "id": "8aa57ea3",
   "metadata": {},
   "outputs": [
    {
     "data": {
      "image/png": "[encoded data removed]",
      "text/plain": [
       "<Figure size 400x400 with 1 Axes>"
      ]
     },
     "metadata": {},
     "output_type": "display_data"
    },
    {
     "data": {
      "image/png": "[encoded data removed]",
      "text/plain": [
       "<Figure size 400x400 with 1 Axes>"
      ]
     },
     "metadata": {},
     "output_type": "display_data"
    }
   ],
   "source": [
    "# preview\n",
    "n = 4\n",
    "show_image(x_train[n])\n",
    "show_image(x_train_processed[n])"
   ]
  },
  {
   "attachments": {},
   "cell_type": "markdown",
   "id": "3b8ae8e5",
   "metadata": {},
   "source": [
    "## Modello con dati preprocessati"
   ]
  },
  {
   "cell_type": "code",
   "execution_count": 27,
   "id": "fbf62795",
   "metadata": {},
   "outputs": [
    {
     "name": "stdout",
     "output_type": "stream",
     "text": [
      "Model: \"sequential_1\"\n",
      "_________________________________________________________________\n",
      " Layer (type)                Output Shape              Param #   \n",
      "=================================================================\n",
      " flatten_1 (Flatten)         (None, 784)               0         \n",
      "                                                                 \n",
      " dense_3 (Dense)             (None, 100)               78500     \n",
      "                                                                 \n",
      " dense_4 (Dense)             (None, 2)                 202       \n",
      "                                                                 \n",
      " dense_5 (Dense)             (None, 10)                30        \n",
      "                                                                 \n",
      "=================================================================\n",
      "Total params: 78,732\n",
      "Trainable params: 78,732\n",
      "Non-trainable params: 0\n",
      "_________________________________________________________________\n",
      "Epoch 1/15\n",
      "1875/1875 [==============================] - 4s 2ms/step - loss: 1.4209 - accuracy: 0.4653 - val_loss: 1.1081 - val_accuracy: 0.6294\n",
      "Epoch 2/15\n",
      "1875/1875 [==============================] - 3s 2ms/step - loss: 0.9200 - accuracy: 0.7334 - val_loss: 0.7542 - val_accuracy: 0.7958\n",
      "Epoch 3/15\n",
      "1875/1875 [==============================] - 3s 2ms/step - loss: 0.6729 - accuracy: 0.8114 - val_loss: 0.6295 - val_accuracy: 0.8149\n",
      "Epoch 4/15\n",
      "1875/1875 [==============================] - 3s 2ms/step - loss: 0.5740 - accuracy: 0.8507 - val_loss: 0.5596 - val_accuracy: 0.8725\n",
      "Epoch 5/15\n",
      "1875/1875 [==============================] - 3s 2ms/step - loss: 0.4911 - accuracy: 0.8924 - val_loss: 0.4949 - val_accuracy: 0.8927\n",
      "Epoch 6/15\n",
      "1875/1875 [==============================] - 3s 1ms/step - loss: 0.4342 - accuracy: 0.9060 - val_loss: 0.4721 - val_accuracy: 0.9040\n",
      "Epoch 7/15\n",
      "1875/1875 [==============================] - 3s 2ms/step - loss: 0.3937 - accuracy: 0.9160 - val_loss: 0.4552 - val_accuracy: 0.9056\n",
      "Epoch 8/15\n",
      "1875/1875 [==============================] - 3s 2ms/step - loss: 0.3639 - accuracy: 0.9226 - val_loss: 0.4322 - val_accuracy: 0.9087\n",
      "Epoch 9/15\n",
      "1875/1875 [==============================] - 3s 2ms/step - loss: 0.3410 - accuracy: 0.9284 - val_loss: 0.4319 - val_accuracy: 0.9116\n",
      "Epoch 10/15\n",
      "1875/1875 [==============================] - 3s 2ms/step - loss: 0.3238 - accuracy: 0.9318 - val_loss: 0.4191 - val_accuracy: 0.9122\n",
      "Epoch 11/15\n",
      "1875/1875 [==============================] - 3s 2ms/step - loss: 0.3060 - accuracy: 0.9354 - val_loss: 0.4177 - val_accuracy: 0.9118\n",
      "Epoch 12/15\n",
      "1875/1875 [==============================] - 3s 2ms/step - loss: 0.2947 - accuracy: 0.9381 - val_loss: 0.4299 - val_accuracy: 0.9081\n",
      "Epoch 13/15\n",
      "1875/1875 [==============================] - 3s 2ms/step - loss: 0.2812 - accuracy: 0.9411 - val_loss: 0.4188 - val_accuracy: 0.9154\n",
      "Epoch 14/15\n",
      "1875/1875 [==============================] - 3s 2ms/step - loss: 0.2712 - accuracy: 0.9433 - val_loss: 0.4337 - val_accuracy: 0.9174\n",
      "Epoch 15/15\n",
      "1875/1875 [==============================] - 3s 2ms/step - loss: 0.2638 - accuracy: 0.9455 - val_loss: 0.4257 - val_accuracy: 0.9180\n"
     ]
    },
    {
     "data": {
      "image/png": "[encoded data removed]",
      "text/plain": [
       "<Figure size 500x500 with 2 Axes>"
      ]
     },
     "metadata": {},
     "output_type": "display_data"
    }
   ],
   "source": [
    "# invoco funzione recognize_digit con parametri (shape, n_epochs, n_categories, x_train, y_train, x_test, y_test, path):\n",
    "history2 = recognize_digit(28, 15, 10, x_train_processed, y_train, x_test_processed, y_test, '4_mnist/models/pp.mnist.model.h5')\n",
    "\n",
    "# visualizza la loss e l'accuracy del modello\n",
    "plot_results(history2)"
   ]
  },
  {
   "cell_type": "code",
   "execution_count": 28,
   "id": "73e79efc",
   "metadata": {},
   "outputs": [
    {
     "data": {
      "text/html": [
       "<div>\n",
       "<style scoped>\n",
       "    .dataframe tbody tr th:only-of-type {\n",
       "        vertical-align: middle;\n",
       "    }\n",
       "\n",
       "    .dataframe tbody tr th {\n",
       "        vertical-align: top;\n",
       "    }\n",
       "\n",
       "    .dataframe thead th {\n",
       "        text-align: right;\n",
       "    }\n",
       "</style>\n",
       "<table border=\"1\" class=\"dataframe\">\n",
       "  <thead>\n",
       "    <tr style=\"text-align: right;\">\n",
       "      <th></th>\n",
       "      <th>loss</th>\n",
       "      <th>accuracy</th>\n",
       "      <th>val_loss</th>\n",
       "      <th>val_accuracy</th>\n",
       "    </tr>\n",
       "  </thead>\n",
       "  <tbody>\n",
       "    <tr>\n",
       "      <th>0</th>\n",
       "      <td>1.420930</td>\n",
       "      <td>0.465267</td>\n",
       "      <td>1.108095</td>\n",
       "      <td>0.6294</td>\n",
       "    </tr>\n",
       "    <tr>\n",
       "      <th>1</th>\n",
       "      <td>0.920008</td>\n",
       "      <td>0.733367</td>\n",
       "      <td>0.754190</td>\n",
       "      <td>0.7958</td>\n",
       "    </tr>\n",
       "    <tr>\n",
       "      <th>2</th>\n",
       "      <td>0.672934</td>\n",
       "      <td>0.811367</td>\n",
       "      <td>0.629487</td>\n",
       "      <td>0.8149</td>\n",
       "    </tr>\n",
       "    <tr>\n",
       "      <th>3</th>\n",
       "      <td>0.573963</td>\n",
       "      <td>0.850650</td>\n",
       "      <td>0.559602</td>\n",
       "      <td>0.8725</td>\n",
       "    </tr>\n",
       "    <tr>\n",
       "      <th>4</th>\n",
       "      <td>0.491103</td>\n",
       "      <td>0.892433</td>\n",
       "      <td>0.494888</td>\n",
       "      <td>0.8927</td>\n",
       "    </tr>\n",
       "    <tr>\n",
       "      <th>5</th>\n",
       "      <td>0.434155</td>\n",
       "      <td>0.906033</td>\n",
       "      <td>0.472050</td>\n",
       "      <td>0.9040</td>\n",
       "    </tr>\n",
       "    <tr>\n",
       "      <th>6</th>\n",
       "      <td>0.393690</td>\n",
       "      <td>0.916033</td>\n",
       "      <td>0.455224</td>\n",
       "      <td>0.9056</td>\n",
       "    </tr>\n",
       "    <tr>\n",
       "      <th>7</th>\n",
       "      <td>0.363861</td>\n",
       "      <td>0.922650</td>\n",
       "      <td>0.432195</td>\n",
       "      <td>0.9087</td>\n",
       "    </tr>\n",
       "    <tr>\n",
       "      <th>8</th>\n",
       "      <td>0.340995</td>\n",
       "      <td>0.928367</td>\n",
       "      <td>0.431947</td>\n",
       "      <td>0.9116</td>\n",
       "    </tr>\n",
       "    <tr>\n",
       "      <th>9</th>\n",
       "      <td>0.323801</td>\n",
       "      <td>0.931817</td>\n",
       "      <td>0.419057</td>\n",
       "      <td>0.9122</td>\n",
       "    </tr>\n",
       "    <tr>\n",
       "      <th>10</th>\n",
       "      <td>0.306003</td>\n",
       "      <td>0.935417</td>\n",
       "      <td>0.417719</td>\n",
       "      <td>0.9118</td>\n",
       "    </tr>\n",
       "    <tr>\n",
       "      <th>11</th>\n",
       "      <td>0.294737</td>\n",
       "      <td>0.938117</td>\n",
       "      <td>0.429896</td>\n",
       "      <td>0.9081</td>\n",
       "    </tr>\n",
       "    <tr>\n",
       "      <th>12</th>\n",
       "      <td>0.281187</td>\n",
       "      <td>0.941117</td>\n",
       "      <td>0.418821</td>\n",
       "      <td>0.9154</td>\n",
       "    </tr>\n",
       "    <tr>\n",
       "      <th>13</th>\n",
       "      <td>0.271248</td>\n",
       "      <td>0.943317</td>\n",
       "      <td>0.433701</td>\n",
       "      <td>0.9174</td>\n",
       "    </tr>\n",
       "    <tr>\n",
       "      <th>14</th>\n",
       "      <td>0.263849</td>\n",
       "      <td>0.945450</td>\n",
       "      <td>0.425685</td>\n",
       "      <td>0.9180</td>\n",
       "    </tr>\n",
       "  </tbody>\n",
       "</table>\n",
       "</div>"
      ],
      "text/plain": [
       "        loss  accuracy  val_loss  val_accuracy\n",
       "0   1.420930  0.465267  1.108095        0.6294\n",
       "1   0.920008  0.733367  0.754190        0.7958\n",
       "2   0.672934  0.811367  0.629487        0.8149\n",
       "3   0.573963  0.850650  0.559602        0.8725\n",
       "4   0.491103  0.892433  0.494888        0.8927\n",
       "5   0.434155  0.906033  0.472050        0.9040\n",
       "6   0.393690  0.916033  0.455224        0.9056\n",
       "7   0.363861  0.922650  0.432195        0.9087\n",
       "8   0.340995  0.928367  0.431947        0.9116\n",
       "9   0.323801  0.931817  0.419057        0.9122\n",
       "10  0.306003  0.935417  0.417719        0.9118\n",
       "11  0.294737  0.938117  0.429896        0.9081\n",
       "12  0.281187  0.941117  0.418821        0.9154\n",
       "13  0.271248  0.943317  0.433701        0.9174\n",
       "14  0.263849  0.945450  0.425685        0.9180"
      ]
     },
     "execution_count": 28,
     "metadata": {},
     "output_type": "execute_result"
    }
   ],
   "source": [
    "pd.DataFrame(history2.history)"
   ]
  },
  {
   "cell_type": "code",
   "execution_count": 29,
   "id": "74c6aa97",
   "metadata": {},
   "outputs": [
    {
     "name": "stdout",
     "output_type": "stream",
     "text": [
      "1/1 [==============================] - 0s 51ms/step\n"
     ]
    },
    {
     "data": {
      "image/png": "[encoded data removed]",
      "text/plain": [
       "<Figure size 1000x500 with 10 Axes>"
      ]
     },
     "metadata": {},
     "output_type": "display_data"
    }
   ],
   "source": [
    "# applico modello alle mie immagini invocando la funzione personal_digit_recognizer(cartella_immagini, nuova_dimensione, model_path)\n",
    "personal_digit_recognizer(cartella_immagini, nuova_dimensione, '4_mnist/models/pp.mnist.model.h5')"
   ]
  }
 ],
 "metadata": {
  "kernelspec": {
   "display_name": "Conda",
   "language": "python",
   "name": "tf"
  },
  "language_info": {
   "codemirror_mode": {
    "name": "ipython",
    "version": 3
   },
   "file_extension": ".py",
   "mimetype": "text/x-python",
   "name": "python",
   "nbconvert_exporter": "python",
   "pygments_lexer": "ipython3",
   "version": "3.9.16 (main, Mar  8 2023, 14:00:05) \n[GCC 11.2.0]"
  }
 },
 "nbformat": 4,
 "nbformat_minor": 5
}
