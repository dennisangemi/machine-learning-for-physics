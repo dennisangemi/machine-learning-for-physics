{
 "cells": [
  {
   "cell_type": "markdown",
   "id": "8dbc54c8",
   "metadata": {},
   "source": [
    "# MNIST\n",
    "\n",
    "Obiettivo: costruire un modello che sia in grado di riconoscere carattere numerico manoscritto.\n",
    "\n",
    "paragonare modello dl senza preprocessing e modello costruito dopo preprocessing\n",
    "\n",
    "## Step\n",
    "\n",
    "Al fine di diminuire il numero di neuroni della rete e migliorare le prestazioni, si effettua del preprocessing.\n",
    "\n",
    "- Importing data\n",
    "- Preprocessing\n",
    "  1. eliminazione rumore (filtro mediano)\n",
    "  1. uniforming thickness\n",
    "  1. resizing & centering\n",
    "  1. fixing discontinuity (reconstructing ink hole)\n",
    "  1. normalizing\n",
    "- model"
   ]
  },
  {
   "cell_type": "markdown",
   "id": "5dff4826",
   "metadata": {},
   "source": [
    "Cominciamo importando le librerie necessarie per il corretto funzionamento del codice (tensorflow, keras, matplotlib)"
   ]
  },
  {
   "cell_type": "code",
   "execution_count": null,
   "id": "51279554",
   "metadata": {},
   "outputs": [],
   "source": [
    "%%capture\n",
    "import os\n",
    "import pandas as pd\n",
    "import cv2\n",
    "import tensorflow.keras as keras\n",
    "import tensorflow as tf\n",
    "import mnist\n",
    "import numpy as np\n",
    "import matplotlib.pyplot as plt\n",
    "from   tensorflow.keras.models import Sequential\n",
    "from   tensorflow.keras.layers import Dense"
   ]
  },
  {
   "attachments": {},
   "cell_type": "markdown",
   "id": "2fc73830",
   "metadata": {},
   "source": [
    "## No pre-processing\n",
    "Addestro modello senza effettuare preprocessing"
   ]
  },
  {
   "cell_type": "code",
   "execution_count": null,
   "id": "019be9f4",
   "metadata": {},
   "outputs": [],
   "source": [
    "# loading data\n",
    "mnist = tf.keras.datasets.mnist\n",
    "(x_train, y_train), (x_test, y_test) = mnist.load_data(path = \"mnist.npz\")\n",
    "\n",
    "# undestand data dimensions\n",
    "print(\"Data dimensions:\\n\")\n",
    "print(\"x_lrn:\",x_train.shape)\n",
    "print(\"x_tst:\",x_test.shape)\n",
    "print(\"y_lrn:\",y_train.shape)\n",
    "print(\"y_tst:\",y_test.shape)"
   ]
  },
  {
   "cell_type": "code",
   "execution_count": null,
   "id": "23d90a3d",
   "metadata": {},
   "outputs": [],
   "source": [
    "# visualizzo un esempio di pattern\n",
    "npat = 7\n",
    "print(\"Ecco il pattern n.\", npat)\n",
    "print(\"Il valore atteso è: \", y_train[npat]);\n",
    "\n",
    "img = x_train[npat];\n",
    "plt.imshow(img, cmap = 'gray')\n",
    "plt.show(block = False)"
   ]
  },
  {
   "cell_type": "code",
   "execution_count": null,
   "id": "d7c176b4",
   "metadata": {},
   "outputs": [],
   "source": [
    "# rendo categoriche le variabili di output\n",
    "num_categories = 10\n",
    "y_train = keras.utils.to_categorical(y_train,num_categories)\n",
    "y_test = keras.utils.to_categorical(y_test, num_categories)\n",
    "\n",
    "# visualizzo preview del pattern categorizzato\n",
    "print(\"New categorical output pattern n.\",npat,\"=\",y_train[npat])"
   ]
  },
  {
   "cell_type": "code",
   "execution_count": null,
   "id": "17d02ad2",
   "metadata": {},
   "outputs": [],
   "source": [
    "# normalizzo usando la funzione di keras\n",
    "x_train = keras.utils.normalize(x_train, axis = 1)\n",
    "x_test = keras.utils.normalize(x_test, axis = 1)"
   ]
  },
  {
   "cell_type": "code",
   "execution_count": null,
   "id": "e50e8d02",
   "metadata": {},
   "outputs": [],
   "source": [
    "# creo il modello\n",
    "model = Sequential()\n",
    "\n",
    "# flattening\n",
    "model.add(keras.layers.Flatten(input_shape = (28,28)))\n",
    "\n",
    "# aggiungo layer + input\n",
    "model.add(Dense(units = 100, activation = 'relu', input_shape = (784,)))\n",
    "\n",
    "# aggiungo uno strato nascosto\n",
    "model.add(Dense(units = 2, activation = 'relu'))\n",
    "\n",
    "# output layer\n",
    "model.add(Dense(units = 10, activation = 'softmax'))\n",
    "\n",
    "model.summary()"
   ]
  },
  {
   "cell_type": "code",
   "execution_count": null,
   "id": "2796ced4",
   "metadata": {},
   "outputs": [],
   "source": [
    "# addestro il modello\n",
    "model.compile(loss = 'categorical_crossentropy', metrics=['accuracy'])\n",
    "history = model.fit(x_train, y_train, epochs = 15, verbose = 1, validation_data = (x_test, y_test));"
   ]
  },
  {
   "cell_type": "code",
   "execution_count": null,
   "id": "976c6eab",
   "metadata": {},
   "outputs": [],
   "source": [
    "# visualizzo tabella history dei risultati con pandas\n",
    "pd.DataFrame(history.history)"
   ]
  },
  {
   "cell_type": "code",
   "execution_count": null,
   "id": "5c64f23e",
   "metadata": {},
   "outputs": [],
   "source": [
    "# crea funzione per visualizzare i risultati\n",
    "def plot_results(history):\n",
    "    # Plot training & validation accuracy values\n",
    "    plt.figure(figsize=(5,5))\n",
    "    plt.subplot(2,1,1)\n",
    "    plt.plot(history.history['accuracy'])\n",
    "    plt.plot(history.history['val_accuracy'])\n",
    "    plt.title('model accuracy')\n",
    "    plt.ylabel('accuracy')\n",
    "    plt.xlabel('epoch')\n",
    "    plt.legend(['train', 'test'], loc='best')\n",
    "\n",
    "    # summarize history for loss\n",
    "    plt.subplot(2,1,2)\n",
    "    plt.subplots_adjust(hspace = 0.5)\n",
    "    plt.plot(history.history['loss'])\n",
    "    plt.plot(history.history['val_loss'])\n",
    "    plt.title('model loss')\n",
    "    plt.ylabel('loss')\n",
    "    plt.xlabel('epoch')\n",
    "    plt.legend(['train', 'test'], loc='best')\n",
    "    plt.show()\n",
    "\n",
    "# invoco funzione per visualizzare i risultati\n",
    "plot_results(history)"
   ]
  },
  {
   "cell_type": "code",
   "execution_count": null,
   "id": "055fc3a6",
   "metadata": {},
   "outputs": [],
   "source": [
    "# Salvataggio del modello\n",
    "model.save('4_mnist/models/np.mnist.model.h5')"
   ]
  },
  {
   "attachments": {},
   "cell_type": "markdown",
   "id": "d231076a",
   "metadata": {},
   "source": [
    "## Importo le mie immagini\n",
    "\n",
    "Creo funzione per salvare tutte le immagini di una cartella in un array e ridimensionarle."
   ]
  },
  {
   "cell_type": "code",
   "execution_count": null,
   "id": "4471c845",
   "metadata": {},
   "outputs": [],
   "source": [
    "# definisci funzione 'importa_mie_immagini'\n",
    "def importa_mie_immagini(cartella_immagini, nuova_dimensione):\n",
    "    # inizializza l'array numpy per contenere tutte le immagini ridimensionate\n",
    "    immagini = np.empty((0, *nuova_dimensione), dtype=np.uint8)\n",
    "\n",
    "    # scorri tutti i file nella cartella specificata\n",
    "    for nome_file in os.listdir(cartella_immagini):\n",
    "        # carica l'immagine\n",
    "        percorso_file = os.path.join(cartella_immagini, nome_file)\n",
    "        img = cv2.imread(percorso_file, cv2.IMREAD_GRAYSCALE)\n",
    "\n",
    "        # ridimensiona l'immagine\n",
    "        img_ridimensionata = cv2.resize(img, nuova_dimensione)\n",
    "\n",
    "        # aggiungi l'immagine all'array numpy\n",
    "        immagini = np.vstack([immagini, np.expand_dims(img_ridimensionata, axis=0)])\n",
    "\n",
    "    return immagini\n",
    "\n",
    "# specifica il percorso della cartella contenente le immagini\n",
    "cartella_immagini = \"4_mnist/img/numbers\"\n",
    "\n",
    "# specifica le dimensioni desiderate\n",
    "nuova_dimensione = (28, 28)\n",
    "\n",
    "# carica le immagini\n",
    "immagini = importa_mie_immagini(cartella_immagini, nuova_dimensione)\n",
    "\n",
    "# stampa le dimensioni dell'array numpy contenente tutte le immagini ridimensionate\n",
    "print(immagini.shape)"
   ]
  },
  {
   "cell_type": "code",
   "execution_count": 66,
   "id": "a6de3982",
   "metadata": {},
   "outputs": [],
   "source": [
    "# carico modello salvato\n",
    "model = keras.models.load_model('4_mnist/models/np.mnist.model.h5')"
   ]
  },
  {
   "cell_type": "code",
   "execution_count": 67,
   "id": "c70c9fcb",
   "metadata": {},
   "outputs": [
    {
     "name": "stdout",
     "output_type": "stream",
     "text": [
      "1/1 [==============================] - 0s 43ms/step\n"
     ]
    },
    {
     "data": {
      "image/png": "[encoded data removed]",
      "text/plain": [
       "<Figure size 1000x500 with 10 Axes>"
      ]
     },
     "metadata": {},
     "output_type": "display_data"
    }
   ],
   "source": [
    "# applico modello alle mie immagini\n",
    "predictions = model.predict(immagini)\n",
    "\n",
    "plt.figure(figsize=(10, 5))\n",
    "for i in range(0, immagini.shape[0]):\n",
    "    plt.subplot(2, 5, i + 1)\n",
    "    plt.imshow(immagini[i], cmap = 'gray')\n",
    "    plt.title(np.argmax(predictions[i]))\n",
    "    plt.axis('off')\n",
    "plt.show(block = False)"
   ]
  },
  {
   "attachments": {},
   "cell_type": "markdown",
   "id": "ea2e394b",
   "metadata": {},
   "source": [
    "## Pre processing"
   ]
  },
  {
   "cell_type": "markdown",
   "id": "0d6382d2",
   "metadata": {},
   "source": [
    "Visualizziamo un'immagine del dataset di learning (per modificare il numero dell'immagine, modifica il valore della variabile `npat`)"
   ]
  },
  {
   "cell_type": "code",
   "execution_count": 97,
   "id": "724dcf83",
   "metadata": {},
   "outputs": [
    {
     "name": "stdout",
     "output_type": "stream",
     "text": [
      "Data dimensions:\n",
      "\n",
      "x_lrn: (60000, 28, 28)\n",
      "x_tst: (10000, 28, 28)\n",
      "y_lrn: (60000,)\n",
      "y_tst: (10000,)\n"
     ]
    }
   ],
   "source": [
    "# loading data\n",
    "mnist = tf.keras.datasets.mnist\n",
    "(x_train, y_train), (x_test, y_test) = mnist.load_data(path = \"mnist.npz\")\n",
    "\n",
    "# undestand data dimensions\n",
    "print(\"Data dimensions:\\n\")\n",
    "print(\"x_lrn:\",x_train.shape)\n",
    "print(\"x_tst:\",x_test.shape)\n",
    "print(\"y_lrn:\",y_train.shape)\n",
    "print(\"y_tst:\",y_test.shape)"
   ]
  },
  {
   "cell_type": "code",
   "execution_count": 98,
   "id": "0d3f1fc0",
   "metadata": {},
   "outputs": [
    {
     "name": "stdout",
     "output_type": "stream",
     "text": [
      "Ecco il pattern n. 7\n",
      "Il valore atteso è:  3\n"
     ]
    },
    {
     "data": {
      "image/png": "[encoded data removed]",
      "text/plain": [
       "<Figure size 400x400 with 1 Axes>"
      ]
     },
     "metadata": {},
     "output_type": "display_data"
    }
   ],
   "source": [
    "npat = 7\n",
    "print(\"Ecco il pattern n.\", npat)\n",
    "print(\"Il valore atteso è: \", y_train[npat]);\n",
    "\n",
    "img = x_train[npat];\n",
    "\n",
    "# definisci funzione 'show_image' con le stesse proprietà del plot sotto\n",
    "def show_image(img):\n",
    "    plt.figure(figsize=(4,4))\n",
    "    plt.imshow(img, cmap = 'gray')\n",
    "    plt.axis('off')\n",
    "    plt.show(block = False)\n",
    "\n",
    "# invoco funzione 'show_image'\n",
    "show_image(img)"
   ]
  },
  {
   "cell_type": "markdown",
   "id": "779b4cd0",
   "metadata": {},
   "source": [
    "Da adesso in poi useremo una variabile temporanea `img` che conterrà l'immagine `x_train[npat]` in modo tale da non lavorare con l'intero array di immagini."
   ]
  },
  {
   "attachments": {},
   "cell_type": "markdown",
   "id": "71b5fbb5",
   "metadata": {},
   "source": [
    "### Reducing noise\n",
    "\n",
    "L'idea è quella di applicare un filtro mediano.\n",
    "\n",
    "Utilizzeremo la libreria `OpenCV` (che importeremo con `import cv2`) dopo averla installata da terminale `pip install opencv-python`"
   ]
  },
  {
   "cell_type": "code",
   "execution_count": 99,
   "id": "97a32710",
   "metadata": {},
   "outputs": [
    {
     "data": {
      "image/png": "[encoded data removed]",
      "text/plain": [
       "<Figure size 400x400 with 1 Axes>"
      ]
     },
     "metadata": {},
     "output_type": "display_data"
    }
   ],
   "source": [
    "# add noise in pixel 3,3\n",
    "img[3,3] = 100\n",
    "x_train[npat,3,3] = 100\n",
    "\n",
    "# preview\n",
    "show_image(img)"
   ]
  },
  {
   "cell_type": "code",
   "execution_count": 100,
   "id": "7c77a7cc",
   "metadata": {},
   "outputs": [
    {
     "data": {
      "image/png": "[encoded data removed]",
      "text/plain": [
       "<Figure size 1000x500 with 5 Axes>"
      ]
     },
     "metadata": {},
     "output_type": "display_data"
    }
   ],
   "source": [
    "# using csv2 to remove noise\n",
    "dn0 = cv2.medianBlur(img, 3)\n",
    "dn1 = cv2.fastNlMeansDenoising(img, h=60, templateWindowSize=3, searchWindowSize=8)\n",
    "dn2 = cv2.GaussianBlur(img, (3, 3), 1)\n",
    "dn3 = cv2.bilateralFilter(img, 9, 70, 70)\n",
    "\n",
    "denoised = [dn0, dn1, dn2, dn2]\n",
    "titles = [\"medianBlur\",\"fastNlMeansDenoising\", \"GaussianBlur\", \"bilateralFilter\"]\n",
    "\n",
    "# plotting\n",
    "plt.figure(figsize=(10, 5))\n",
    "plt.subplot(1,5,1)\n",
    "plt.title(\"Noisy image\")\n",
    "plt.imshow(img, cmap = 'gray')\n",
    "plt.axis('off')\n",
    "\n",
    "for i in range(len(denoised)):\n",
    "    plt.subplot(1,5,i+2)\n",
    "    plt.title(titles[i])\n",
    "    plt.imshow(denoised[i], cmap = 'gray')\n",
    "    plt.axis('off')\n",
    "    \n",
    "plt.show()"
   ]
  },
  {
   "cell_type": "code",
   "execution_count": 101,
   "id": "cb92d6de",
   "metadata": {},
   "outputs": [
    {
     "name": "stdout",
     "output_type": "stream",
     "text": [
      "Il rumore è sparito?\n",
      "sì, il pixel 3,3 ha valore 0\n"
     ]
    }
   ],
   "source": [
    "# scelgo metodo\n",
    "img = dn0\n",
    "\n",
    "# check\n",
    "print(\"Il rumore è sparito?\")\n",
    "if img[3,3] == 0:\n",
    "    print(\"sì, il pixel 3,3 ha valore 0\")\n",
    "else:\n",
    "    print(\"no, il pixel 3,3 ha valore\", img[3,3])\n"
   ]
  },
  {
   "attachments": {},
   "cell_type": "markdown",
   "id": "004053f3",
   "metadata": {},
   "source": [
    "### Fix discontinuity\n",
    "\n",
    "OpenCV's Closing is reverse of Opening, Dilation followed by Erosion. It is useful in closing small holes inside the foreground objects, or small black points on the object.\n",
    "\n",
    "`closing = cv2.morphologyEx(img, cv2.MORPH_CLOSE, kernel)`\n",
    "\n",
    "dove \n",
    "\n",
    "`kernel = np.ones((5,5),np.uint8)`\n",
    "\n",
    "è la dimensione della finestra di azione del filtro.\n",
    "\n",
    "[Click here](https://opencv24-python-tutorials.readthedocs.io/en/latest/py_tutorials/py_imgproc/py_morphological_ops/py_morphological_ops.html) for more info\n",
    "\n",
    "Si tratta essenzialmente di un `dilate` seguito da `erode` per \"coprire i buchi\""
   ]
  },
  {
   "cell_type": "code",
   "execution_count": 103,
   "id": "eaaea58e",
   "metadata": {},
   "outputs": [
    {
     "data": {
      "image/png": "[encoded data removed]",
      "text/plain": [
       "<Figure size 800x400 with 2 Axes>"
      ]
     },
     "metadata": {},
     "output_type": "display_data"
    }
   ],
   "source": [
    "# pixel lato finestra\n",
    "w = 2\n",
    "\n",
    "# creo finestra\n",
    "kernel = np.ones((w,w),np.uint8)\n",
    "\n",
    "plt.figure(figsize=(8, 4))\n",
    "plt.subplot(1,2,1)\n",
    "plt.imshow(img, cmap = 'gray')\n",
    "plt.title(\"Before\")\n",
    "plt.axis('off')\n",
    "\n",
    "# rimuovo buchi\n",
    "img = cv2.morphologyEx(img, cv2.MORPH_CLOSE, kernel)\n",
    "\n",
    "plt.subplot(1,2,2)\n",
    "plt.imshow(img, cmap = 'gray')\n",
    "plt.title(\"After\")\n",
    "plt.axis('off')\n",
    "plt.show()"
   ]
  },
  {
   "attachments": {},
   "cell_type": "markdown",
   "id": "277b481e",
   "metadata": {},
   "source": [
    "### Thickening\n",
    "\n",
    "Lo strumento vincente sembra erosion di OpenCV ([leggi qui](https://opencv24-python-tutorials.readthedocs.io/en/latest/py_tutorials/py_imgproc/py_morphological_ops/py_morphological_ops.html#erosion))\n",
    "\n",
    "La sintassi è:\n",
    "\n",
    "```python\n",
    "img = cv2.imread('j.png',0)\n",
    "kernel = np.ones((5,5),np.uint8)\n",
    "erosion = cv2.erode(img,kernel,iterations = 1)\n",
    "```\n",
    "\n",
    "#### Riferimenti\n",
    "-  https://stackoverflow.com/questions/56601130/how-to-reduce-the-thickness-of-the-contours\n",
    "-  https://stackoverflow.com/questions/51133962/how-can-i-scale-a-thickness-of-a-character-in-image-using-python-opencv"
   ]
  },
  {
   "cell_type": "code",
   "execution_count": 112,
   "id": "f2dc320b",
   "metadata": {},
   "outputs": [
    {
     "data": {
      "image/png": "[encoded data removed]",
      "text/plain": [
       "<Figure size 800x400 with 2 Axes>"
      ]
     },
     "metadata": {},
     "output_type": "display_data"
    }
   ],
   "source": [
    "# plot before\n",
    "plt.figure(figsize=(8, 4))\n",
    "plt.subplot(1,2,1)\n",
    "plt.imshow(img, cmap = 'gray')\n",
    "plt.title(\"Before\")\n",
    "plt.axis('off')\n",
    "\n",
    "# riduco spessore\n",
    "erosion = cv2.erode(img,kernel,iterations = 1)\n",
    "\n",
    "# plot after\n",
    "plt.subplot(1,2,2)\n",
    "plt.imshow(erosion, cmap = 'gray')\n",
    "plt.title(\"After\")\n",
    "plt.axis('off')\n",
    "\n",
    "# sovrascrivo immagine\n",
    "img = erosion"
   ]
  },
  {
   "attachments": {},
   "cell_type": "markdown",
   "id": "f900fe7e",
   "metadata": {},
   "source": [
    "### Binarizing\n",
    "\n",
    "Esistono varie tecniche ([vedi qui](https://docs.opencv.org/4.x/d7/d4d/tutorial_py_thresholding.html))\n",
    "\n",
    "```python\n",
    "th3 = cv2.adaptiveThreshold(img,255,cv2.ADAPTIVE_THRESH_GAUSSIAN_C,\\\n",
    "            cv.THRESH_BINARY,11,2)\n",
    "```\n",
    "\n",
    "se non funzinoa, possiamo provare il metodo di Otzu:\n",
    "```python\n",
    "ret3,th3 = cv2.threshold(blur,0,255,cv2.THRESH_BINARY+cv2.THRESH_OTSU)\n",
    "```"
   ]
  },
  {
   "cell_type": "code",
   "execution_count": 113,
   "id": "72685aa9",
   "metadata": {},
   "outputs": [
    {
     "data": {
      "image/png": "[encoded data removed]",
      "text/plain": [
       "<Figure size 500x300 with 2 Axes>"
      ]
     },
     "metadata": {},
     "output_type": "display_data"
    }
   ],
   "source": [
    "# adaptive thresh gaussian\n",
    "atg = cv2.adaptiveThreshold(img,255,cv2.ADAPTIVE_THRESH_GAUSSIAN_C,\\\n",
    "            cv2.THRESH_BINARY,11,6)\n",
    "\n",
    "# otsu\n",
    "ret,ots = cv2.threshold(img,0,255,cv2.THRESH_BINARY+cv2.THRESH_OTSU)\n",
    "\n",
    "# plotting results\n",
    "plt.figure(figsize=(5, 3))\n",
    "plt.subplot(1,2,1)\n",
    "plt.title(\"Adaptive thresh gaussian\")\n",
    "plt.imshow(atg, cmap = 'gray')\n",
    "plt.subplot(1,2,2)\n",
    "plt.title(\"Otsu's Binarization\")\n",
    "plt.imshow(ots, cmap = 'gray')\n",
    "plt.axis('off')\n",
    "plt.show()"
   ]
  },
  {
   "cell_type": "code",
   "execution_count": 114,
   "id": "c3f8c539",
   "metadata": {},
   "outputs": [],
   "source": [
    "# scelgo metodo\n",
    "img = ots"
   ]
  },
  {
   "attachments": {},
   "cell_type": "markdown",
   "id": "1c94f8a8",
   "metadata": {},
   "source": [
    "### Resizing\n",
    "\n",
    "focus to content\n",
    "\n",
    "Riferimenti:\n",
    "- https://stackoverflow.com/questions/74089678/remove-whitespace-of-a-image-python-opencv"
   ]
  },
  {
   "cell_type": "code",
   "execution_count": 125,
   "id": "91d2f249",
   "metadata": {},
   "outputs": [
    {
     "name": "stdout",
     "output_type": "stream",
     "text": [
      "Non funziona\n"
     ]
    },
    {
     "data": {
      "image/png": "[encoded data removed]",
      "text/plain": [
       "<Figure size 400x400 with 1 Axes>"
      ]
     },
     "metadata": {},
     "output_type": "display_data"
    }
   ],
   "source": [
    "# define function\n",
    "def focus_to_content(img):\n",
    "    img_ = 255*(img < 128).astype(np.uint8) \n",
    "    coords = cv2.findNonZero(img_) # Find all non-zero points (text)\n",
    "    x, y, w, h = cv2.boundingRect(coords) # Find minimum spanning bounding box\n",
    "    \n",
    "    rect = img[y:y+h, x:x+w] # Crop the image - note we do this on the original image\n",
    "    rect_originalSized = cv2.resize(rect,(img.shape))\n",
    "    return rect_originalSized\n",
    "\n",
    "# apply function\n",
    "test = focus_to_content(img)\n",
    "\n",
    "# show\n",
    "print(\"Non funziona\")\n",
    "show_image(test)"
   ]
  },
  {
   "cell_type": "code",
   "execution_count": null,
   "id": "51b38fd1",
   "metadata": {},
   "outputs": [],
   "source": [
    "# rendo categoriche le variabili di output\n",
    "num_categories = 10\n",
    "y_train = keras.utils.to_categorical(y_train,num_categories)\n",
    "y_test = keras.utils.to_categorical(y_test, num_categories)"
   ]
  },
  {
   "cell_type": "code",
   "execution_count": null,
   "id": "1d6f092f",
   "metadata": {},
   "outputs": [],
   "source": [
    "print(\"New categorical output pattern n.\",npat,\"=\",y_train[npat])"
   ]
  },
  {
   "cell_type": "markdown",
   "id": "20a04ef3",
   "metadata": {},
   "source": [
    "## Operazioni sull'array"
   ]
  },
  {
   "cell_type": "code",
   "execution_count": 93,
   "id": "90cd2031",
   "metadata": {},
   "outputs": [
    {
     "ename": "KeyboardInterrupt",
     "evalue": "",
     "output_type": "error",
     "traceback": [
      "\u001b[0;31m---------------------------------------------------------------------------\u001b[0m",
      "\u001b[0;31mKeyboardInterrupt\u001b[0m                         Traceback (most recent call last)",
      "Cell \u001b[0;32mIn[93], line 9\u001b[0m\n\u001b[1;32m      6\u001b[0m x_test_filtered \u001b[39m=\u001b[39m np\u001b[39m.\u001b[39mzeros_like(x_test)\n\u001b[1;32m      8\u001b[0m \u001b[39mfor\u001b[39;00m i \u001b[39min\u001b[39;00m \u001b[39mrange\u001b[39m(\u001b[39mlen\u001b[39m(x_train)):\n\u001b[0;32m----> 9\u001b[0m     x_train_filtered[i] \u001b[39m=\u001b[39m cv2\u001b[39m.\u001b[39;49mfastNlMeansDenoising(x_train[i], h\u001b[39m=\u001b[39;49m\u001b[39m60\u001b[39;49m, templateWindowSize\u001b[39m=\u001b[39;49m\u001b[39m3\u001b[39;49m, searchWindowSize\u001b[39m=\u001b[39;49m\u001b[39m8\u001b[39;49m)\n\u001b[1;32m     11\u001b[0m \u001b[39mfor\u001b[39;00m i \u001b[39min\u001b[39;00m \u001b[39mrange\u001b[39m(\u001b[39mlen\u001b[39m(x_test)):\n\u001b[1;32m     12\u001b[0m     x_test_filtered[i] \u001b[39m=\u001b[39m cv2\u001b[39m.\u001b[39mfastNlMeansDenoising(x_test[i], h\u001b[39m=\u001b[39m\u001b[39m60\u001b[39m, templateWindowSize\u001b[39m=\u001b[39m\u001b[39m3\u001b[39m, searchWindowSize\u001b[39m=\u001b[39m\u001b[39m8\u001b[39m)\n",
      "\u001b[0;31mKeyboardInterrupt\u001b[0m: "
     ]
    }
   ],
   "source": [
    "# voglio applicare il filtro di denoising a tutto l'array\n",
    "# ATTENZIONE: bisogna farlo anche per il test set\n",
    "\n",
    "# Inizializza un nuovo array vuoto per le immagini filtrate\n",
    "x_train_filtered = np.zeros_like(x_train)\n",
    "x_test_filtered = np.zeros_like(x_test)\n",
    "\n",
    "for i in range(len(x_train)):\n",
    "    x_train_filtered[i] = cv2.fastNlMeansDenoising(x_train[i], h=60, templateWindowSize=3, searchWindowSize=8)\n",
    "    \n",
    "for i in range(len(x_test)):\n",
    "    x_test_filtered[i] = cv2.fastNlMeansDenoising(x_test[i], h=60, templateWindowSize=3, searchWindowSize=8)"
   ]
  },
  {
   "cell_type": "code",
   "execution_count": null,
   "id": "d6048e42",
   "metadata": {},
   "outputs": [],
   "source": [
    "# plot filtered image\n",
    "plt.imshow(x_train_filtered[npat], cmap = 'gray')\n",
    "plt.show()"
   ]
  },
  {
   "cell_type": "code",
   "execution_count": null,
   "id": "dec19a5c",
   "metadata": {},
   "outputs": [],
   "source": [
    "plt.imshow(img, cmap = 'gray')\n",
    "plt.title(\"Denoised\")\n",
    "plt.show()"
   ]
  },
  {
   "cell_type": "code",
   "execution_count": null,
   "id": "f4e75803",
   "metadata": {},
   "outputs": [],
   "source": [
    "# inizializzo array vuoto\n",
    "x_train_bin = np.zeros_like(x_train)\n",
    "x_test_bin = np.zeros_like(x_test)\n",
    "\n",
    "for i in range(len(x_train)):\n",
    "    ret,img = cv2.threshold(x_train_erode[i],0,255,cv2.THRESH_BINARY+cv2.THRESH_OTSU)\n",
    "    x_train_bin[i] = img\n",
    "\n",
    "for i in range(len(x_test)):\n",
    "    ret,img = cv2.threshold(x_test_erode[i],0,255,cv2.THRESH_BINARY+cv2.THRESH_OTSU)\n",
    "    x_test_bin[i] = img"
   ]
  },
  {
   "cell_type": "code",
   "execution_count": 107,
   "id": "a85daafa",
   "metadata": {},
   "outputs": [
    {
     "ename": "NameError",
     "evalue": "name 'x_train_bin' is not defined",
     "output_type": "error",
     "traceback": [
      "\u001b[0;31m---------------------------------------------------------------------------\u001b[0m",
      "\u001b[0;31mNameError\u001b[0m                                 Traceback (most recent call last)",
      "Cell \u001b[0;32mIn[107], line 7\u001b[0m\n\u001b[1;32m      5\u001b[0m plt\u001b[39m.\u001b[39msubplot(\u001b[39m1\u001b[39m,\u001b[39m2\u001b[39m,\u001b[39m2\u001b[39m)\n\u001b[1;32m      6\u001b[0m plt\u001b[39m.\u001b[39mtitle(\u001b[39m\"\u001b[39m\u001b[39mBinarized, denoised, eroded\u001b[39m\u001b[39m\"\u001b[39m)\n\u001b[0;32m----> 7\u001b[0m plt\u001b[39m.\u001b[39mimshow(x_train_bin[npat], cmap \u001b[39m=\u001b[39m \u001b[39m'\u001b[39m\u001b[39mgray\u001b[39m\u001b[39m'\u001b[39m)\n\u001b[1;32m      8\u001b[0m plt\u001b[39m.\u001b[39mshow()\n",
      "\u001b[0;31mNameError\u001b[0m: name 'x_train_bin' is not defined"
     ]
    },
    {
     "data": {
      "image/png": "[encoded data removed]",
      "text/plain": [
       "<Figure size 640x480 with 2 Axes>"
      ]
     },
     "metadata": {},
     "output_type": "display_data"
    }
   ],
   "source": [
    "# plot filtered image\n",
    "plt.subplot(1,2,1)\n",
    "plt.title(\"Original\")\n",
    "plt.imshow(x_train[npat], cmap = 'gray')\n",
    "plt.subplot(1,2,2)\n",
    "plt.title(\"Binarized, denoised, eroded\")\n",
    "plt.imshow(x_train_bin[npat], cmap = 'gray')\n",
    "plt.show()"
   ]
  },
  {
   "cell_type": "code",
   "execution_count": null,
   "id": "ac6d2168",
   "metadata": {},
   "outputs": [],
   "source": [
    "# applico erode all'array x_train_filtered\n",
    "\n",
    "# test = cv2.erode(x_train_filtered, kernel, iterations = 1)\n",
    "\n",
    "plt.imshow(test[npat], cmap = 'gray')\n",
    "plt.show()\n",
    "\n",
    "# non funziona bene"
   ]
  },
  {
   "cell_type": "code",
   "execution_count": null,
   "id": "9d1a2b73",
   "metadata": {},
   "outputs": [],
   "source": [
    "# Inizializza un nuovo array vuoto per le immagini erode\n",
    "x_train_erode = np.zeros_like(x_train)\n",
    "x_test_erode = np.zeros_like(x_test)\n",
    "\n",
    "# applico filtro erode all'array x_train_filtered\n",
    "for i in range(len(x_train_filtered)):\n",
    "    x_train_erode[i] = cv2.erode(x_train_filtered[i], kernel, iterations = 1)\n",
    "\n",
    "for i in range(len(x_test)):\n",
    "    x_test_erode[i] = cv2.erode(x_test_filtered[i], kernel, iterations = 1)"
   ]
  },
  {
   "cell_type": "code",
   "execution_count": null,
   "id": "4824f3bf",
   "metadata": {},
   "outputs": [],
   "source": [
    "plt.imshow(x_train_erode[npat], cmap = 'gray')\n",
    "plt.show()"
   ]
  },
  {
   "cell_type": "markdown",
   "id": "3b8ae8e5",
   "metadata": {},
   "source": [
    "## Modello\n",
    "Adesso creiamo il modello avente due layer di neuroni con funzione di attivazione relu e l'ultimo (output) softmax"
   ]
  },
  {
   "cell_type": "code",
   "execution_count": null,
   "id": "eea1295d",
   "metadata": {},
   "outputs": [],
   "source": [
    "# creo il modello\n",
    "model=Sequential()\n",
    "\n",
    "# aggiungo layer + input\n",
    "model.add(Dense(units=100,activation='relu',input_shape=(784,)))\n",
    "\n",
    "# aggiungo uno strato nascosto\n",
    "model.add(Dense(units=2,activation='relu'))\n",
    "\n",
    "# output layer\n",
    "model.add(Dense(units=10,activation='softmax'))\n",
    "model.summary()"
   ]
  },
  {
   "cell_type": "code",
   "execution_count": null,
   "id": "02503ed9",
   "metadata": {},
   "outputs": [],
   "source": [
    "# addestro il modello\n",
    "model.compile(loss = 'categorical_crossentropy', metrics=['accuracy'])\n",
    "history = model.fit(x_train, y_train, epochs = 15, verbose = 1, validation_data = (x_test, y_test));"
   ]
  },
  {
   "cell_type": "code",
   "execution_count": null,
   "id": "8f76341e",
   "metadata": {},
   "outputs": [],
   "source": [
    "# List all data in history\n",
    "print(history.history.keys())\n",
    "\n",
    "# Summarize history for accuracy\n",
    "plt.plot(history.history['accuracy'])\n",
    "plt.plot(history.history['val_accuracy'])\n",
    "plt.title('model accuracy')\n",
    "plt.ylabel('accuracy')\n",
    "plt.xlabel('epoch')\n",
    "plt.legend(['train', 'test'], loc='upper left')\n",
    "plt.show()\n",
    "\n",
    "# summarize history for loss\n",
    "plt.plot(history.history['loss'])\n",
    "plt.plot(history.history['val_loss'])\n",
    "plt.title('model loss')\n",
    "plt.ylabel('loss')\n",
    "plt.xlabel('epoch')\n",
    "plt.legend(['train', 'test'], loc='upper left')\n",
    "plt.show()\n",
    "\n",
    "# Salvataggio del modello\n",
    "model.save('4_mnist/models/pp.mnist.model.h5')\n",
    "plt.show()"
   ]
  },
  {
   "cell_type": "code",
   "execution_count": null,
   "id": "ed6e2a77",
   "metadata": {},
   "outputs": [],
   "source": []
  }
 ],
 "metadata": {
  "kernelspec": {
   "display_name": "tf",
   "language": "python",
   "name": "tf"
  },
  "language_info": {
   "codemirror_mode": {
    "name": "ipython",
    "version": 3
   },
   "file_extension": ".py",
   "mimetype": "text/x-python",
   "name": "python",
   "nbconvert_exporter": "python",
   "pygments_lexer": "ipython3",
   "version": "3.10.9"
  }
 },
 "nbformat": 4,
 "nbformat_minor": 5
}
