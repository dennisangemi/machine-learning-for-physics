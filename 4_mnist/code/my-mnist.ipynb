{
 "cells": [
  {
   "cell_type": "markdown",
   "id": "8dbc54c8",
   "metadata": {},
   "source": [
    "# MNIST\n",
    "\n",
    "Obiettivo: costruire un modello che sia in grado di riconoscere carattere numerico manoscritto.\n",
    "\n",
    "paragonare modello dl senza preprocessing e modello costruito dopo preprocessing\n",
    "\n",
    "## Step\n",
    "\n",
    "Al fine di diminuire il numero di neuroni della rete e migliorare le prestazioni, si effettua del preprocessing.\n",
    "\n",
    "- Importing data\n",
    "- Preprocessing\n",
    "  1. eliminazione rumore (filtro mediano)\n",
    "  1. uniforming thickness\n",
    "  1. resizing & centering\n",
    "  1. fixing discontinuity (reconstructing ink hole)\n",
    "  1. normalizing\n",
    "- model"
   ]
  },
  {
   "cell_type": "markdown",
   "id": "5dff4826",
   "metadata": {},
   "source": [
    "Cominciamo importando le librerie necessarie per il corretto funzionamento del codice (tensorflow, keras, matplotlib)"
   ]
  },
  {
   "cell_type": "code",
   "execution_count": 1,
   "id": "51279554",
   "metadata": {},
   "outputs": [
    {
     "name": "stderr",
     "output_type": "stream",
     "text": [
      "2023-03-26 16:00:28.668158: I tensorflow/core/platform/cpu_feature_guard.cc:193] This TensorFlow binary is optimized with oneAPI Deep Neural Network Library (oneDNN) to use the following CPU instructions in performance-critical operations:  SSE4.1 SSE4.2 AVX AVX2 FMA\n",
      "To enable them in other operations, rebuild TensorFlow with the appropriate compiler flags.\n"
     ]
    }
   ],
   "source": [
    "%%capture\n",
    "import os\n",
    "import pandas as pd\n",
    "import cv2\n",
    "import tensorflow.keras as keras\n",
    "import tensorflow as tf\n",
    "import mnist\n",
    "import numpy as np\n",
    "import matplotlib.pyplot as plt\n",
    "from   tensorflow.keras.models import Sequential\n",
    "from   tensorflow.keras.layers import Dense"
   ]
  },
  {
   "attachments": {},
   "cell_type": "markdown",
   "id": "2fc73830",
   "metadata": {},
   "source": [
    "## No pre-processing\n",
    "Addestro modello senza effettuare preprocessing"
   ]
  },
  {
   "cell_type": "code",
   "execution_count": 2,
   "id": "019be9f4",
   "metadata": {},
   "outputs": [
    {
     "name": "stdout",
     "output_type": "stream",
     "text": [
      "Data dimensions:\n",
      "\n",
      "x_lrn: (60000, 28, 28)\n",
      "x_tst: (10000, 28, 28)\n",
      "y_lrn: (60000,)\n",
      "y_tst: (10000,)\n"
     ]
    }
   ],
   "source": [
    "# loading data\n",
    "mnist = tf.keras.datasets.mnist\n",
    "(x_train, y_train), (x_test, y_test) = mnist.load_data(path = \"mnist.npz\")\n",
    "\n",
    "# undestand data dimensions\n",
    "print(\"Data dimensions:\\n\")\n",
    "print(\"x_lrn:\",x_train.shape)\n",
    "print(\"x_tst:\",x_test.shape)\n",
    "print(\"y_lrn:\",y_train.shape)\n",
    "print(\"y_tst:\",y_test.shape)"
   ]
  },
  {
   "cell_type": "code",
   "execution_count": 3,
   "id": "23d90a3d",
   "metadata": {},
   "outputs": [
    {
     "name": "stdout",
     "output_type": "stream",
     "text": [
      "Ecco il pattern n. 7\n",
      "Il valore atteso è:  3\n"
     ]
    },
    {
     "data": {
      "image/png": "[encoded data removed]",
      "text/plain": [
       "<Figure size 640x480 with 1 Axes>"
      ]
     },
     "metadata": {},
     "output_type": "display_data"
    }
   ],
   "source": [
    "# visualizzo un esempio di pattern\n",
    "npat = 7\n",
    "print(\"Ecco il pattern n.\", npat)\n",
    "print(\"Il valore atteso è: \", y_train[npat]);\n",
    "\n",
    "img = x_train[npat];\n",
    "plt.imshow(img, cmap = 'gray')\n",
    "plt.show(block = False)"
   ]
  },
  {
   "cell_type": "code",
   "execution_count": 6,
   "id": "f8dcdd6e",
   "metadata": {},
   "outputs": [],
   "source": [
    "# crea funzione 'recognize_digit' per riconoscere il numero che crei il modello sopra\n",
    "def recognize_digit(shape, n_epochs, n_categories, x_train, y_train, x_test, y_test, path):\n",
    "\n",
    "    # rendo categoriche le variabili di output\n",
    "    y_train = keras.utils.to_categorical(y_train, n_categories)\n",
    "    y_test = keras.utils.to_categorical(y_test, n_categories)\n",
    "\n",
    "    # normalizzo usando la funzione di keras\n",
    "    x_train = keras.utils.normalize(x_train, axis = 1)\n",
    "    x_test = keras.utils.normalize(x_test, axis = 1)\n",
    "\n",
    "    # creo il modello\n",
    "    model = Sequential()\n",
    "\n",
    "    # flattening\n",
    "    model.add(keras.layers.Flatten(input_shape = (shape,shape)))\n",
    "\n",
    "    # aggiungo layer + input\n",
    "    model.add(Dense(units = 100, activation = 'relu', input_shape = (shape*shape,)))\n",
    "\n",
    "    # aggiungo uno strato nascosto\n",
    "    model.add(Dense(units = 2, activation = 'relu'))\n",
    "\n",
    "    # output layer\n",
    "    model.add(Dense(units = 10, activation = 'softmax'))\n",
    "\n",
    "    model.summary()\n",
    "\n",
    "    # addestro il modello\n",
    "    model.compile(loss = 'categorical_crossentropy', metrics=['accuracy'])\n",
    "    history = model.fit(x_train, y_train, epochs = n_epochs, verbose = 1, validation_data = (x_test, y_test));\n",
    "\n",
    "    # Salvataggio del modello\n",
    "    model.save(path)\n",
    "\n",
    "    # ritorna history\n",
    "    return history\n",
    "\n",
    "# crea funzione per visualizzare i risultati\n",
    "def plot_results(history):\n",
    "    # Plot training & validation accuracy values\n",
    "    plt.figure(figsize=(5,5))\n",
    "    plt.subplot(2,1,1)\n",
    "    plt.plot(history.history['accuracy'])\n",
    "    plt.plot(history.history['val_accuracy'])\n",
    "    plt.title('model accuracy')\n",
    "    plt.ylabel('accuracy')\n",
    "    plt.xlabel('epoch')\n",
    "    plt.legend(['train', 'test'], loc='best')\n",
    "\n",
    "    # summarize history for loss\n",
    "    plt.subplot(2,1,2)\n",
    "    plt.subplots_adjust(hspace = 0.5)\n",
    "    plt.plot(history.history['loss'])\n",
    "    plt.plot(history.history['val_loss'])\n",
    "    plt.title('model loss')\n",
    "    plt.ylabel('loss')\n",
    "    plt.xlabel('epoch')\n",
    "    plt.legend(['train', 'test'], loc='best')\n",
    "    plt.show()"
   ]
  },
  {
   "cell_type": "code",
   "execution_count": null,
   "id": "d7c176b4",
   "metadata": {},
   "outputs": [],
   "source": [
    "# rendo categoriche le variabili di output\n",
    "num_categories = 10\n",
    "y_train = keras.utils.to_categorical(y_train,num_categories)\n",
    "y_test = keras.utils.to_categorical(y_test, num_categories)\n",
    "\n",
    "# visualizzo preview del pattern categorizzato\n",
    "print(\"New categorical output pattern n.\",npat,\"=\",y_train[npat])"
   ]
  },
  {
   "cell_type": "code",
   "execution_count": null,
   "id": "17d02ad2",
   "metadata": {},
   "outputs": [],
   "source": [
    "# normalizzo usando la funzione di keras\n",
    "x_train = keras.utils.normalize(x_train, axis = 1)\n",
    "x_test = keras.utils.normalize(x_test, axis = 1)"
   ]
  },
  {
   "cell_type": "code",
   "execution_count": null,
   "id": "e50e8d02",
   "metadata": {},
   "outputs": [],
   "source": [
    "# creo il modello\n",
    "model = Sequential()\n",
    "\n",
    "# flattening\n",
    "model.add(keras.layers.Flatten(input_shape = (28,28)))\n",
    "\n",
    "# aggiungo layer + input\n",
    "model.add(Dense(units = 100, activation = 'relu', input_shape = (784,)))\n",
    "\n",
    "# aggiungo uno strato nascosto\n",
    "model.add(Dense(units = 2, activation = 'relu'))\n",
    "\n",
    "# output layer\n",
    "model.add(Dense(units = 10, activation = 'softmax'))\n",
    "\n",
    "model.summary()"
   ]
  },
  {
   "cell_type": "code",
   "execution_count": null,
   "id": "2796ced4",
   "metadata": {},
   "outputs": [],
   "source": [
    "# addestro il modello\n",
    "model.compile(loss = 'categorical_crossentropy', metrics=['accuracy'])\n",
    "history = model.fit(x_train, y_train, epochs = 15, verbose = 1, validation_data = (x_test, y_test));"
   ]
  },
  {
   "cell_type": "code",
   "execution_count": null,
   "id": "976c6eab",
   "metadata": {},
   "outputs": [],
   "source": [
    "# visualizzo tabella history dei risultati con pandas\n",
    "pd.DataFrame(history.history)"
   ]
  },
  {
   "cell_type": "code",
   "execution_count": 7,
   "id": "5c64f23e",
   "metadata": {},
   "outputs": [
    {
     "name": "stdout",
     "output_type": "stream",
     "text": [
      "Model: \"sequential\"\n",
      "_________________________________________________________________\n",
      " Layer (type)                Output Shape              Param #   \n",
      "=================================================================\n",
      " flatten (Flatten)           (None, 784)               0         \n",
      "                                                                 \n",
      " dense (Dense)               (None, 100)               78500     \n",
      "                                                                 \n",
      " dense_1 (Dense)             (None, 2)                 202       \n",
      "                                                                 \n",
      " dense_2 (Dense)             (None, 10)                30        \n",
      "                                                                 \n",
      "=================================================================\n",
      "Total params: 78,732\n",
      "Trainable params: 78,732\n",
      "Non-trainable params: 0\n",
      "_________________________________________________________________\n"
     ]
    },
    {
     "name": "stderr",
     "output_type": "stream",
     "text": [
      "2023-03-26 16:03:38.969786: I tensorflow/core/platform/cpu_feature_guard.cc:193] This TensorFlow binary is optimized with oneAPI Deep Neural Network Library (oneDNN) to use the following CPU instructions in performance-critical operations:  SSE4.1 SSE4.2 AVX AVX2 FMA\n",
      "To enable them in other operations, rebuild TensorFlow with the appropriate compiler flags.\n",
      "2023-03-26 16:03:38.976765: I tensorflow/core/common_runtime/process_util.cc:146] Creating new thread pool with default inter op setting: 2. Tune using inter_op_parallelism_threads for best performance.\n"
     ]
    },
    {
     "name": "stdout",
     "output_type": "stream",
     "text": [
      "Epoch 1/15\n",
      "1875/1875 [==============================] - 4s 2ms/step - loss: 1.2699 - accuracy: 0.5913 - val_loss: 0.8484 - val_accuracy: 0.7963\n",
      "Epoch 2/15\n",
      "1875/1875 [==============================] - 3s 1ms/step - loss: 0.7251 - accuracy: 0.8400 - val_loss: 0.6016 - val_accuracy: 0.8806\n",
      "Epoch 3/15\n",
      "1875/1875 [==============================] - 2s 1ms/step - loss: 0.5341 - accuracy: 0.8918 - val_loss: 0.4670 - val_accuracy: 0.9047\n",
      "Epoch 4/15\n",
      "1875/1875 [==============================] - 3s 1ms/step - loss: 0.4174 - accuracy: 0.9140 - val_loss: 0.3950 - val_accuracy: 0.9152\n",
      "Epoch 5/15\n",
      "1875/1875 [==============================] - 3s 1ms/step - loss: 0.3523 - accuracy: 0.9268 - val_loss: 0.3766 - val_accuracy: 0.9224\n",
      "Epoch 6/15\n",
      "1875/1875 [==============================] - 3s 1ms/step - loss: 0.3127 - accuracy: 0.9341 - val_loss: 0.3464 - val_accuracy: 0.9250\n",
      "Epoch 7/15\n",
      "1875/1875 [==============================] - 3s 2ms/step - loss: 0.2809 - accuracy: 0.9409 - val_loss: 0.3284 - val_accuracy: 0.9346\n",
      "Epoch 8/15\n",
      "1875/1875 [==============================] - 3s 2ms/step - loss: 0.2572 - accuracy: 0.9457 - val_loss: 0.3305 - val_accuracy: 0.9353\n",
      "Epoch 9/15\n",
      "1875/1875 [==============================] - 3s 2ms/step - loss: 0.2401 - accuracy: 0.9503 - val_loss: 0.3142 - val_accuracy: 0.9370\n",
      "Epoch 10/15\n",
      "1875/1875 [==============================] - 3s 2ms/step - loss: 0.2254 - accuracy: 0.9537 - val_loss: 0.3142 - val_accuracy: 0.9401\n",
      "Epoch 11/15\n",
      "1875/1875 [==============================] - 3s 2ms/step - loss: 0.2125 - accuracy: 0.9561 - val_loss: 0.3327 - val_accuracy: 0.9405\n",
      "Epoch 12/15\n",
      "1875/1875 [==============================] - 3s 2ms/step - loss: 0.2036 - accuracy: 0.9584 - val_loss: 0.3214 - val_accuracy: 0.9397\n",
      "Epoch 13/15\n",
      "1875/1875 [==============================] - 3s 2ms/step - loss: 0.1924 - accuracy: 0.9607 - val_loss: 0.3438 - val_accuracy: 0.9410\n",
      "Epoch 14/15\n",
      "1875/1875 [==============================] - 3s 2ms/step - loss: 0.1856 - accuracy: 0.9625 - val_loss: 0.3336 - val_accuracy: 0.9457\n",
      "Epoch 15/15\n",
      "1875/1875 [==============================] - 3s 2ms/step - loss: 0.1781 - accuracy: 0.9644 - val_loss: 0.3397 - val_accuracy: 0.9406\n"
     ]
    },
    {
     "data": {
      "image/png": "[encoded data removed]",
      "text/plain": [
       "<Figure size 500x500 with 2 Axes>"
      ]
     },
     "metadata": {},
     "output_type": "display_data"
    }
   ],
   "source": [
    "# invoco funzione recognize_digit per creare modello\n",
    "history = recognize_digit(28, 15, 10, x_train, y_train, x_test, y_test, \"np.mnist.model.h5\")\n",
    "\n",
    "# invoco funzione per visualizzare i risultati\n",
    "plot_results(history)"
   ]
  },
  {
   "cell_type": "code",
   "execution_count": 8,
   "id": "055fc3a6",
   "metadata": {},
   "outputs": [
    {
     "data": {
      "text/html": [
       "<div>\n",
       "<style scoped>\n",
       "    .dataframe tbody tr th:only-of-type {\n",
       "        vertical-align: middle;\n",
       "    }\n",
       "\n",
       "    .dataframe tbody tr th {\n",
       "        vertical-align: top;\n",
       "    }\n",
       "\n",
       "    .dataframe thead th {\n",
       "        text-align: right;\n",
       "    }\n",
       "</style>\n",
       "<table border=\"1\" class=\"dataframe\">\n",
       "  <thead>\n",
       "    <tr style=\"text-align: right;\">\n",
       "      <th></th>\n",
       "      <th>loss</th>\n",
       "      <th>accuracy</th>\n",
       "      <th>val_loss</th>\n",
       "      <th>val_accuracy</th>\n",
       "    </tr>\n",
       "  </thead>\n",
       "  <tbody>\n",
       "    <tr>\n",
       "      <th>0</th>\n",
       "      <td>1.269868</td>\n",
       "      <td>0.591300</td>\n",
       "      <td>0.848379</td>\n",
       "      <td>0.7963</td>\n",
       "    </tr>\n",
       "    <tr>\n",
       "      <th>1</th>\n",
       "      <td>0.725055</td>\n",
       "      <td>0.839983</td>\n",
       "      <td>0.601624</td>\n",
       "      <td>0.8806</td>\n",
       "    </tr>\n",
       "    <tr>\n",
       "      <th>2</th>\n",
       "      <td>0.534076</td>\n",
       "      <td>0.891800</td>\n",
       "      <td>0.466969</td>\n",
       "      <td>0.9047</td>\n",
       "    </tr>\n",
       "    <tr>\n",
       "      <th>3</th>\n",
       "      <td>0.417403</td>\n",
       "      <td>0.913983</td>\n",
       "      <td>0.394985</td>\n",
       "      <td>0.9152</td>\n",
       "    </tr>\n",
       "    <tr>\n",
       "      <th>4</th>\n",
       "      <td>0.352304</td>\n",
       "      <td>0.926833</td>\n",
       "      <td>0.376583</td>\n",
       "      <td>0.9224</td>\n",
       "    </tr>\n",
       "    <tr>\n",
       "      <th>5</th>\n",
       "      <td>0.312722</td>\n",
       "      <td>0.934100</td>\n",
       "      <td>0.346415</td>\n",
       "      <td>0.9250</td>\n",
       "    </tr>\n",
       "    <tr>\n",
       "      <th>6</th>\n",
       "      <td>0.280942</td>\n",
       "      <td>0.940883</td>\n",
       "      <td>0.328418</td>\n",
       "      <td>0.9346</td>\n",
       "    </tr>\n",
       "    <tr>\n",
       "      <th>7</th>\n",
       "      <td>0.257188</td>\n",
       "      <td>0.945733</td>\n",
       "      <td>0.330462</td>\n",
       "      <td>0.9353</td>\n",
       "    </tr>\n",
       "    <tr>\n",
       "      <th>8</th>\n",
       "      <td>0.240109</td>\n",
       "      <td>0.950267</td>\n",
       "      <td>0.314167</td>\n",
       "      <td>0.9370</td>\n",
       "    </tr>\n",
       "    <tr>\n",
       "      <th>9</th>\n",
       "      <td>0.225380</td>\n",
       "      <td>0.953733</td>\n",
       "      <td>0.314229</td>\n",
       "      <td>0.9401</td>\n",
       "    </tr>\n",
       "    <tr>\n",
       "      <th>10</th>\n",
       "      <td>0.212525</td>\n",
       "      <td>0.956117</td>\n",
       "      <td>0.332687</td>\n",
       "      <td>0.9405</td>\n",
       "    </tr>\n",
       "    <tr>\n",
       "      <th>11</th>\n",
       "      <td>0.203624</td>\n",
       "      <td>0.958417</td>\n",
       "      <td>0.321419</td>\n",
       "      <td>0.9397</td>\n",
       "    </tr>\n",
       "    <tr>\n",
       "      <th>12</th>\n",
       "      <td>0.192358</td>\n",
       "      <td>0.960733</td>\n",
       "      <td>0.343778</td>\n",
       "      <td>0.9410</td>\n",
       "    </tr>\n",
       "    <tr>\n",
       "      <th>13</th>\n",
       "      <td>0.185565</td>\n",
       "      <td>0.962483</td>\n",
       "      <td>0.333604</td>\n",
       "      <td>0.9457</td>\n",
       "    </tr>\n",
       "    <tr>\n",
       "      <th>14</th>\n",
       "      <td>0.178116</td>\n",
       "      <td>0.964433</td>\n",
       "      <td>0.339728</td>\n",
       "      <td>0.9406</td>\n",
       "    </tr>\n",
       "  </tbody>\n",
       "</table>\n",
       "</div>"
      ],
      "text/plain": [
       "        loss  accuracy  val_loss  val_accuracy\n",
       "0   1.269868  0.591300  0.848379        0.7963\n",
       "1   0.725055  0.839983  0.601624        0.8806\n",
       "2   0.534076  0.891800  0.466969        0.9047\n",
       "3   0.417403  0.913983  0.394985        0.9152\n",
       "4   0.352304  0.926833  0.376583        0.9224\n",
       "5   0.312722  0.934100  0.346415        0.9250\n",
       "6   0.280942  0.940883  0.328418        0.9346\n",
       "7   0.257188  0.945733  0.330462        0.9353\n",
       "8   0.240109  0.950267  0.314167        0.9370\n",
       "9   0.225380  0.953733  0.314229        0.9401\n",
       "10  0.212525  0.956117  0.332687        0.9405\n",
       "11  0.203624  0.958417  0.321419        0.9397\n",
       "12  0.192358  0.960733  0.343778        0.9410\n",
       "13  0.185565  0.962483  0.333604        0.9457\n",
       "14  0.178116  0.964433  0.339728        0.9406"
      ]
     },
     "execution_count": 8,
     "metadata": {},
     "output_type": "execute_result"
    }
   ],
   "source": [
    "# visualizza tabella history dei risultati con pandas\n",
    "pd.DataFrame(history.history)"
   ]
  },
  {
   "attachments": {},
   "cell_type": "markdown",
   "id": "d231076a",
   "metadata": {},
   "source": [
    "## Importo le mie immagini\n",
    "\n",
    "Creo funzione per salvare tutte le immagini di una cartella in un array e ridimensionarle."
   ]
  },
  {
   "cell_type": "code",
   "execution_count": 9,
   "id": "4471c845",
   "metadata": {},
   "outputs": [],
   "source": [
    "# definisci funzione 'importa_mie_immagini'\n",
    "def importa_mie_immagini(cartella_immagini, nuova_dimensione):\n",
    "    # inizializza l'array numpy per contenere tutte le immagini ridimensionate\n",
    "    immagini = np.empty((0, *nuova_dimensione), dtype=np.uint8)\n",
    "\n",
    "    # scorri tutti i file nella cartella specificata\n",
    "    for nome_file in os.listdir(cartella_immagini):\n",
    "        # carica l'immagine\n",
    "        percorso_file = os.path.join(cartella_immagini, nome_file)\n",
    "        img = cv2.imread(percorso_file, cv2.IMREAD_GRAYSCALE)\n",
    "\n",
    "        # ridimensiona l'immagine\n",
    "        img_ridimensionata = cv2.resize(img, nuova_dimensione)\n",
    "\n",
    "        # aggiungi l'immagine all'array numpy\n",
    "        immagini = np.vstack([immagini, np.expand_dims(img_ridimensionata, axis=0)])\n",
    "\n",
    "    return immagini\n",
    "\n",
    "# definisci funzione 'personal_digit_recognizer'\n",
    "def personal_digit_recognizer(cartella_immagini, nuova_dimensione, model_path):\n",
    "    # carica le immagini\n",
    "    immagini = importa_mie_immagini(cartella_immagini, nuova_dimensione)\n",
    "\n",
    "    # carico modello salvato\n",
    "    model = keras.models.load_model(model_path)\n",
    "\n",
    "    # applico modello alle mie immagini\n",
    "    predictions = model.predict(immagini)\n",
    "\n",
    "    plt.figure(figsize=(10, 5))\n",
    "    for i in range(0, immagini.shape[0]):\n",
    "        plt.subplot(2, 5, i + 1)\n",
    "        plt.imshow(immagini[i], cmap = 'gray')\n",
    "        plt.title(np.argmax(predictions[i]))\n",
    "        plt.axis('off')\n",
    "    plt.show(block = False)"
   ]
  },
  {
   "cell_type": "code",
   "execution_count": 10,
   "id": "c70c9fcb",
   "metadata": {},
   "outputs": [
    {
     "name": "stdout",
     "output_type": "stream",
     "text": [
      "1/1 [==============================] - 0s 72ms/step\n"
     ]
    },
    {
     "data": {
      "image/png": "[encoded data removed]",
      "text/plain": [
       "<Figure size 1000x500 with 10 Axes>"
      ]
     },
     "metadata": {},
     "output_type": "display_data"
    }
   ],
   "source": [
    "# specifica il percorso della cartella contenente le immagini\n",
    "cartella_immagini = \"4_mnist/img/numbers\"\n",
    "\n",
    "# specifica le dimensioni desiderate\n",
    "nuova_dimensione = (28, 28)\n",
    "\n",
    "# applico modello alle mie immagini\n",
    "personal_digit_recognizer(cartella_immagini, nuova_dimensione, '4_mnist/models/np.mnist.model.h5')"
   ]
  },
  {
   "attachments": {},
   "cell_type": "markdown",
   "id": "ea2e394b",
   "metadata": {},
   "source": [
    "## Pre processing"
   ]
  },
  {
   "cell_type": "markdown",
   "id": "0d6382d2",
   "metadata": {},
   "source": [
    "Visualizziamo un'immagine del dataset di learning (per modificare il numero dell'immagine, modifica il valore della variabile `npat`)"
   ]
  },
  {
   "cell_type": "code",
   "execution_count": 129,
   "id": "724dcf83",
   "metadata": {},
   "outputs": [
    {
     "name": "stdout",
     "output_type": "stream",
     "text": [
      "Data dimensions:\n",
      "\n",
      "x_lrn: (60000, 28, 28)\n",
      "x_tst: (10000, 28, 28)\n",
      "y_lrn: (60000,)\n",
      "y_tst: (10000,)\n"
     ]
    }
   ],
   "source": [
    "# loading data\n",
    "mnist = tf.keras.datasets.mnist\n",
    "(x_train, y_train), (x_test, y_test) = mnist.load_data(path = \"mnist.npz\")\n",
    "\n",
    "# undestand data dimensions\n",
    "print(\"Data dimensions:\\n\")\n",
    "print(\"x_lrn:\",x_train.shape)\n",
    "print(\"x_tst:\",x_test.shape)\n",
    "print(\"y_lrn:\",y_train.shape)\n",
    "print(\"y_tst:\",y_test.shape)"
   ]
  },
  {
   "cell_type": "code",
   "execution_count": 18,
   "id": "0d3f1fc0",
   "metadata": {},
   "outputs": [
    {
     "name": "stdout",
     "output_type": "stream",
     "text": [
      "Ecco il pattern n. 7\n",
      "Il valore atteso è:  3\n"
     ]
    },
    {
     "data": {
      "image/png": "[encoded data removed]",
      "text/plain": [
       "<Figure size 400x400 with 1 Axes>"
      ]
     },
     "metadata": {},
     "output_type": "display_data"
    }
   ],
   "source": [
    "npat = 7\n",
    "print(\"Ecco il pattern n.\", npat)\n",
    "print(\"Il valore atteso è: \", y_train[npat]);\n",
    "\n",
    "img = x_train[npat];\n",
    "\n",
    "# definisci funzione 'show_image' con le stesse proprietà del plot sotto\n",
    "def show_image(img):\n",
    "    plt.figure(figsize=(4,4))\n",
    "    plt.imshow(img, cmap = 'gray')\n",
    "    plt.axis('off')\n",
    "    plt.show(block = False)\n",
    "\n",
    "# invoco funzione 'show_image'\n",
    "show_image(img)"
   ]
  },
  {
   "cell_type": "markdown",
   "id": "779b4cd0",
   "metadata": {},
   "source": [
    "Da adesso in poi useremo una variabile temporanea `img` che conterrà l'immagine `x_train[npat]` in modo tale da non lavorare con l'intero array di immagini."
   ]
  },
  {
   "attachments": {},
   "cell_type": "markdown",
   "id": "71b5fbb5",
   "metadata": {},
   "source": [
    "### Reducing noise\n",
    "\n",
    "L'idea è quella di applicare un filtro mediano.\n",
    "\n",
    "Utilizzeremo la libreria `OpenCV` (che importeremo con `import cv2`) dopo averla installata da terminale `pip install opencv-python`"
   ]
  },
  {
   "cell_type": "code",
   "execution_count": 131,
   "id": "97a32710",
   "metadata": {},
   "outputs": [
    {
     "data": {
      "image/png": "[encoded data removed]",
      "text/plain": [
       "<Figure size 400x400 with 1 Axes>"
      ]
     },
     "metadata": {},
     "output_type": "display_data"
    }
   ],
   "source": [
    "# add noise in pixel 3,3\n",
    "img[3,3] = 100\n",
    "x_train[npat,3,3] = 100\n",
    "\n",
    "# preview\n",
    "show_image(img)"
   ]
  },
  {
   "cell_type": "code",
   "execution_count": 132,
   "id": "7c77a7cc",
   "metadata": {},
   "outputs": [
    {
     "data": {
      "image/png": "[encoded data removed]",
      "text/plain": [
       "<Figure size 1000x500 with 5 Axes>"
      ]
     },
     "metadata": {},
     "output_type": "display_data"
    }
   ],
   "source": [
    "# using csv2 to remove noise\n",
    "dn0 = cv2.medianBlur(img, 3)\n",
    "dn1 = cv2.fastNlMeansDenoising(img, h=60, templateWindowSize=3, searchWindowSize=8)\n",
    "dn2 = cv2.GaussianBlur(img, (3, 3), 1)\n",
    "dn3 = cv2.bilateralFilter(img, 9, 70, 70)\n",
    "\n",
    "denoised = [dn0, dn1, dn2, dn2]\n",
    "titles = [\"medianBlur\",\"fastNlMeansDenoising\", \"GaussianBlur\", \"bilateralFilter\"]\n",
    "\n",
    "# plotting\n",
    "plt.figure(figsize=(10, 5))\n",
    "plt.subplot(1,5,1)\n",
    "plt.title(\"Noisy image\")\n",
    "plt.imshow(img, cmap = 'gray')\n",
    "plt.axis('off')\n",
    "\n",
    "for i in range(len(denoised)):\n",
    "    plt.subplot(1,5,i+2)\n",
    "    plt.title(titles[i])\n",
    "    plt.imshow(denoised[i], cmap = 'gray')\n",
    "    plt.axis('off')\n",
    "    \n",
    "plt.show()"
   ]
  },
  {
   "cell_type": "code",
   "execution_count": 133,
   "id": "cb92d6de",
   "metadata": {},
   "outputs": [
    {
     "name": "stdout",
     "output_type": "stream",
     "text": [
      "Il rumore è sparito?\n",
      "sì, il pixel 3,3 ha valore 0\n"
     ]
    }
   ],
   "source": [
    "# scelgo metodo\n",
    "img = dn0\n",
    "\n",
    "# check\n",
    "print(\"Il rumore è sparito?\")\n",
    "if img[3,3] == 0:\n",
    "    print(\"sì, il pixel 3,3 ha valore 0\")\n",
    "else:\n",
    "    print(\"no, il pixel 3,3 ha valore\", img[3,3])\n"
   ]
  },
  {
   "cell_type": "code",
   "execution_count": 12,
   "id": "e137bcd1",
   "metadata": {},
   "outputs": [],
   "source": [
    "# definisco funzione 'noise_removal' che applica il filtro di denoising\n",
    "def noise_removal(img, number):\n",
    "    # applico filtro di denoising\n",
    "    oimg = cv2.medianBlur(img, number)\n",
    "    return oimg"
   ]
  },
  {
   "attachments": {},
   "cell_type": "markdown",
   "id": "004053f3",
   "metadata": {},
   "source": [
    "### Fix discontinuity\n",
    "\n",
    "OpenCV's Closing is reverse of Opening, Dilation followed by Erosion. It is useful in closing small holes inside the foreground objects, or small black points on the object.\n",
    "\n",
    "`closing = cv2.morphologyEx(img, cv2.MORPH_CLOSE, kernel)`\n",
    "\n",
    "dove \n",
    "\n",
    "`kernel = np.ones((5,5),np.uint8)`\n",
    "\n",
    "è la dimensione della finestra di azione del filtro.\n",
    "\n",
    "[Click here](https://opencv24-python-tutorials.readthedocs.io/en/latest/py_tutorials/py_imgproc/py_morphological_ops/py_morphological_ops.html) for more info\n",
    "\n",
    "Si tratta essenzialmente di un `dilate` seguito da `erode` per \"coprire i buchi\""
   ]
  },
  {
   "cell_type": "code",
   "execution_count": 135,
   "id": "eaaea58e",
   "metadata": {},
   "outputs": [
    {
     "data": {
      "image/png": "[encoded data removed]",
      "text/plain": [
       "<Figure size 800x400 with 2 Axes>"
      ]
     },
     "metadata": {},
     "output_type": "display_data"
    }
   ],
   "source": [
    "# pixel lato finestra\n",
    "w = 2\n",
    "\n",
    "# creo finestra\n",
    "kernel = np.ones((w,w),np.uint8)\n",
    "\n",
    "plt.figure(figsize=(8, 4))\n",
    "plt.subplot(1,2,1)\n",
    "plt.imshow(img, cmap = 'gray')\n",
    "plt.title(\"Before\")\n",
    "plt.axis('off')\n",
    "\n",
    "# rimuovo buchi\n",
    "img = cv2.morphologyEx(img, cv2.MORPH_CLOSE, kernel)\n",
    "\n",
    "plt.subplot(1,2,2)\n",
    "plt.imshow(img, cmap = 'gray')\n",
    "plt.title(\"After\")\n",
    "plt.axis('off')\n",
    "plt.show()"
   ]
  },
  {
   "cell_type": "code",
   "execution_count": 13,
   "id": "c719f16b",
   "metadata": {},
   "outputs": [],
   "source": [
    "# creo funzione 'hole_removal' che applica il filtro di rimozione buchi\n",
    "def hole_removal(img, w):\n",
    "    # creo finestra\n",
    "    kernel = np.ones((w,w),np.uint8)\n",
    "    # rimuovo buchi\n",
    "    oimg = cv2.morphologyEx(img, cv2.MORPH_CLOSE, kernel)\n",
    "    return oimg"
   ]
  },
  {
   "attachments": {},
   "cell_type": "markdown",
   "id": "277b481e",
   "metadata": {},
   "source": [
    "### Thickening\n",
    "\n",
    "Lo strumento vincente sembra erosion di OpenCV ([leggi qui](https://opencv24-python-tutorials.readthedocs.io/en/latest/py_tutorials/py_imgproc/py_morphological_ops/py_morphological_ops.html#erosion))\n",
    "\n",
    "La sintassi è:\n",
    "\n",
    "```python\n",
    "img = cv2.imread('j.png',0)\n",
    "kernel = np.ones((5,5),np.uint8)\n",
    "erosion = cv2.erode(img,kernel,iterations = 1)\n",
    "```\n",
    "\n",
    "#### Riferimenti\n",
    "-  https://stackoverflow.com/questions/56601130/how-to-reduce-the-thickness-of-the-contours\n",
    "-  https://stackoverflow.com/questions/51133962/how-can-i-scale-a-thickness-of-a-character-in-image-using-python-opencv"
   ]
  },
  {
   "cell_type": "code",
   "execution_count": 137,
   "id": "f2dc320b",
   "metadata": {},
   "outputs": [
    {
     "data": {
      "image/png": "[encoded data removed]",
      "text/plain": [
       "<Figure size 800x400 with 2 Axes>"
      ]
     },
     "metadata": {},
     "output_type": "display_data"
    }
   ],
   "source": [
    "# plot before\n",
    "plt.figure(figsize=(8, 4))\n",
    "plt.subplot(1,2,1)\n",
    "plt.imshow(img, cmap = 'gray')\n",
    "plt.title(\"Before\")\n",
    "plt.axis('off')\n",
    "\n",
    "# riduco spessore\n",
    "erosion = cv2.erode(img,kernel,iterations = 1)\n",
    "\n",
    "# plot after\n",
    "plt.subplot(1,2,2)\n",
    "plt.imshow(erosion, cmap = 'gray')\n",
    "plt.title(\"After\")\n",
    "plt.axis('off')\n",
    "\n",
    "# sovrascrivo immagine\n",
    "img = erosion"
   ]
  },
  {
   "cell_type": "code",
   "execution_count": 14,
   "id": "35c1aac4",
   "metadata": {},
   "outputs": [],
   "source": [
    "# creo funzione 'thickness_reduction' che riduce lo spessore\n",
    "def thickness_reduction(img, w, n_iterations):\n",
    "    # creo finestra\n",
    "    kernel = np.ones((w,w),np.uint8)\n",
    "    # riduco spessore\n",
    "    oimg = cv2.erode(img,kernel,iterations = n_iterations)\n",
    "    return oimg"
   ]
  },
  {
   "attachments": {},
   "cell_type": "markdown",
   "id": "f900fe7e",
   "metadata": {},
   "source": [
    "### Binarizing\n",
    "\n",
    "Esistono varie tecniche ([vedi qui](https://docs.opencv.org/4.x/d7/d4d/tutorial_py_thresholding.html))\n",
    "\n",
    "```python\n",
    "th3 = cv2.adaptiveThreshold(img,255,cv2.ADAPTIVE_THRESH_GAUSSIAN_C,\\\n",
    "            cv.THRESH_BINARY,11,2)\n",
    "```\n",
    "\n",
    "se non funzinoa, possiamo provare il metodo di Otzu:\n",
    "```python\n",
    "ret3,th3 = cv2.threshold(blur,0,255,cv2.THRESH_BINARY+cv2.THRESH_OTSU)\n",
    "```"
   ]
  },
  {
   "cell_type": "code",
   "execution_count": 139,
   "id": "72685aa9",
   "metadata": {},
   "outputs": [
    {
     "data": {
      "image/png": "[encoded data removed]",
      "text/plain": [
       "<Figure size 500x300 with 2 Axes>"
      ]
     },
     "metadata": {},
     "output_type": "display_data"
    }
   ],
   "source": [
    "# adaptive thresh gaussian\n",
    "atg = cv2.adaptiveThreshold(img,255,cv2.ADAPTIVE_THRESH_GAUSSIAN_C,\\\n",
    "            cv2.THRESH_BINARY,11,6)\n",
    "\n",
    "# otsu\n",
    "ret,ots = cv2.threshold(img,0,255,cv2.THRESH_BINARY+cv2.THRESH_OTSU)\n",
    "\n",
    "# plotting results\n",
    "plt.figure(figsize=(5, 3))\n",
    "plt.subplot(1,2,1)\n",
    "plt.title(\"Adaptive thresh gaussian\")\n",
    "plt.imshow(atg, cmap = 'gray')\n",
    "plt.subplot(1,2,2)\n",
    "plt.title(\"Otsu's Binarization\")\n",
    "plt.imshow(ots, cmap = 'gray')\n",
    "plt.axis('off')\n",
    "plt.show()"
   ]
  },
  {
   "cell_type": "code",
   "execution_count": 141,
   "id": "c3f8c539",
   "metadata": {},
   "outputs": [],
   "source": [
    "# scelgo metodo\n",
    "img = ots"
   ]
  },
  {
   "cell_type": "code",
   "execution_count": 15,
   "id": "796aae94",
   "metadata": {},
   "outputs": [],
   "source": [
    "# creo funzione 'binarization' che applica il filtro di binarizzazione\n",
    "def binarization(img):\n",
    "    ret,oimg = cv2.threshold(img,0,255,cv2.THRESH_BINARY+cv2.THRESH_OTSU)\n",
    "    return oimg"
   ]
  },
  {
   "attachments": {},
   "cell_type": "markdown",
   "id": "1c94f8a8",
   "metadata": {},
   "source": [
    "### Resizing\n",
    "\n",
    "focus to content\n",
    "\n",
    "Riferimenti:\n",
    "- https://stackoverflow.com/questions/74089678/remove-whitespace-of-a-image-python-opencv"
   ]
  },
  {
   "cell_type": "code",
   "execution_count": 142,
   "id": "91d2f249",
   "metadata": {},
   "outputs": [
    {
     "name": "stdout",
     "output_type": "stream",
     "text": [
      "Non funziona\n"
     ]
    },
    {
     "data": {
      "image/png": "[encoded data removed]",
      "text/plain": [
       "<Figure size 400x400 with 1 Axes>"
      ]
     },
     "metadata": {},
     "output_type": "display_data"
    }
   ],
   "source": [
    "# define function\n",
    "def focus_to_content(img):\n",
    "    img_ = 255*(img < 128).astype(np.uint8) \n",
    "    coords = cv2.findNonZero(img_) # Find all non-zero points (text)\n",
    "    x, y, w, h = cv2.boundingRect(coords) # Find minimum spanning bounding box\n",
    "    \n",
    "    rect = img[y:y+h, x:x+w] # Crop the image - note we do this on the original image\n",
    "    rect_originalSized = cv2.resize(rect,(img.shape))\n",
    "    return rect_originalSized\n",
    "\n",
    "# apply function\n",
    "test = focus_to_content(img)\n",
    "\n",
    "# show\n",
    "print(\"Non funziona\")\n",
    "show_image(test)"
   ]
  },
  {
   "attachments": {},
   "cell_type": "markdown",
   "id": "20a04ef3",
   "metadata": {},
   "source": [
    "### Operazioni sull'array\n",
    "\n",
    "Applico le operazioni precedenti a tutto l'array di training e test"
   ]
  },
  {
   "cell_type": "code",
   "execution_count": 24,
   "id": "a5b5dbbd",
   "metadata": {},
   "outputs": [],
   "source": [
    "# applica le operazioni di preprocessing (noise reduction, fix holes, thinning, binatization) a tutto l'array di training\n",
    "\n",
    "# lista le funzioni create\n",
    "functions = [noise_removal, hole_removal, thickness_reduction, binarization]\n",
    "\n",
    "# inizializza array x_train_processed lungo come x_train\n",
    "x_train_processed = np.zeros_like(x_train)\n",
    "\n",
    "# inizializza array x_test_processed lungo come x_test\n",
    "x_test_processed = np.zeros_like(x_test)\n",
    "\n",
    "# per ogni elemento dell'array di training applica le funzioni\n",
    "for i in range(len(x_train)):\n",
    "    x_train_processed[i] = noise_removal(x_train[i], 3)\n",
    "    x_train_processed[i] = hole_removal(x_train_processed[i], 2)\n",
    "    x_train_processed[i] = thickness_reduction(x_train_processed[i], 2, 1)\n",
    "    # x_train_processed[i] = binarization(x_train_processed[i])\n",
    "\n",
    "# applica le operazioni di preprocessing (noise reduction, fix holes, thinning, focus to content) a tutto l'array di test\n",
    "for i in range(len(x_test)):\n",
    "    x_test_processed[i] = noise_removal(x_test[i], 3)\n",
    "    x_test_processed[i] = hole_removal(x_test_processed[i], 2)\n",
    "    x_test_processed[i] = thickness_reduction(x_test_processed[i], 2, 1)\n",
    "    # x_test_processed[i] = binarization(x_test_processed[i])"
   ]
  },
  {
   "cell_type": "code",
   "execution_count": 25,
   "id": "8aa57ea3",
   "metadata": {},
   "outputs": [
    {
     "data": {
      "image/png": "[encoded data removed]",
      "text/plain": [
       "<Figure size 400x400 with 1 Axes>"
      ]
     },
     "metadata": {},
     "output_type": "display_data"
    },
    {
     "data": {
      "image/png": "[encoded data removed]",
      "text/plain": [
       "<Figure size 400x400 with 1 Axes>"
      ]
     },
     "metadata": {},
     "output_type": "display_data"
    }
   ],
   "source": [
    "# preview\n",
    "n = 4\n",
    "show_image(x_train[n])\n",
    "show_image(x_train_processed[n])"
   ]
  },
  {
   "attachments": {},
   "cell_type": "markdown",
   "id": "3b8ae8e5",
   "metadata": {},
   "source": [
    "## Modello con dati preprocessati"
   ]
  },
  {
   "cell_type": "code",
   "execution_count": 26,
   "id": "fbf62795",
   "metadata": {},
   "outputs": [
    {
     "name": "stdout",
     "output_type": "stream",
     "text": [
      "Model: \"sequential_2\"\n",
      "_________________________________________________________________\n",
      " Layer (type)                Output Shape              Param #   \n",
      "=================================================================\n",
      " flatten_2 (Flatten)         (None, 784)               0         \n",
      "                                                                 \n",
      " dense_6 (Dense)             (None, 100)               78500     \n",
      "                                                                 \n",
      " dense_7 (Dense)             (None, 2)                 202       \n",
      "                                                                 \n",
      " dense_8 (Dense)             (None, 10)                30        \n",
      "                                                                 \n",
      "=================================================================\n",
      "Total params: 78,732\n",
      "Trainable params: 78,732\n",
      "Non-trainable params: 0\n",
      "_________________________________________________________________\n",
      "Epoch 1/15\n",
      "1875/1875 [==============================] - 3s 2ms/step - loss: 1.4231 - accuracy: 0.4937 - val_loss: 1.0436 - val_accuracy: 0.6589\n",
      "Epoch 2/15\n",
      "1875/1875 [==============================] - 3s 1ms/step - loss: 0.9189 - accuracy: 0.7181 - val_loss: 0.8104 - val_accuracy: 0.7596\n",
      "Epoch 3/15\n",
      "1875/1875 [==============================] - 3s 2ms/step - loss: 0.7344 - accuracy: 0.8096 - val_loss: 0.6693 - val_accuracy: 0.8638\n",
      "Epoch 4/15\n",
      "1875/1875 [==============================] - 3s 2ms/step - loss: 0.5914 - accuracy: 0.8797 - val_loss: 0.5607 - val_accuracy: 0.8850\n",
      "Epoch 5/15\n",
      "1875/1875 [==============================] - 3s 2ms/step - loss: 0.5095 - accuracy: 0.8934 - val_loss: 0.5137 - val_accuracy: 0.8950\n",
      "Epoch 6/15\n",
      "1875/1875 [==============================] - 3s 2ms/step - loss: 0.4619 - accuracy: 0.9024 - val_loss: 0.4889 - val_accuracy: 0.8924\n",
      "Epoch 7/15\n",
      "1875/1875 [==============================] - 3s 2ms/step - loss: 0.4261 - accuracy: 0.9095 - val_loss: 0.4792 - val_accuracy: 0.8987\n",
      "Epoch 8/15\n",
      "1875/1875 [==============================] - 3s 2ms/step - loss: 0.4014 - accuracy: 0.9147 - val_loss: 0.4699 - val_accuracy: 0.9033\n",
      "Epoch 9/15\n",
      "1875/1875 [==============================] - 3s 2ms/step - loss: 0.3801 - accuracy: 0.9195 - val_loss: 0.4657 - val_accuracy: 0.9088\n",
      "Epoch 10/15\n",
      "1875/1875 [==============================] - 3s 2ms/step - loss: 0.3622 - accuracy: 0.9237 - val_loss: 0.4626 - val_accuracy: 0.9094\n",
      "Epoch 11/15\n",
      "1875/1875 [==============================] - 3s 2ms/step - loss: 0.3460 - accuracy: 0.9260 - val_loss: 0.4608 - val_accuracy: 0.9103\n",
      "Epoch 12/15\n",
      "1875/1875 [==============================] - 3s 2ms/step - loss: 0.3333 - accuracy: 0.9297 - val_loss: 0.4590 - val_accuracy: 0.9086\n",
      "Epoch 13/15\n",
      "1875/1875 [==============================] - 3s 2ms/step - loss: 0.3211 - accuracy: 0.9323 - val_loss: 0.4602 - val_accuracy: 0.9113\n",
      "Epoch 14/15\n",
      "1875/1875 [==============================] - 3s 2ms/step - loss: 0.3108 - accuracy: 0.9351 - val_loss: 0.4612 - val_accuracy: 0.9136\n",
      "Epoch 15/15\n",
      "1875/1875 [==============================] - 3s 2ms/step - loss: 0.2990 - accuracy: 0.9371 - val_loss: 0.4526 - val_accuracy: 0.9138\n"
     ]
    },
    {
     "data": {
      "image/png": "[encoded data removed]",
      "text/plain": [
       "<Figure size 500x500 with 2 Axes>"
      ]
     },
     "metadata": {},
     "output_type": "display_data"
    }
   ],
   "source": [
    "# invoco funzione recognize_digit con parametri (shape, n_epochs, n_categories, x_train, y_train, x_test, y_test, path):\n",
    "history2 = recognize_digit(28, 15, 10, x_train_processed, y_train, x_test_processed, y_test, '4_mnist/models/pp.mnist.model.h5')\n",
    "\n",
    "# visualizza la loss e l'accuracy del modello\n",
    "plot_results(history2)"
   ]
  },
  {
   "cell_type": "code",
   "execution_count": 27,
   "id": "73e79efc",
   "metadata": {},
   "outputs": [
    {
     "data": {
      "text/html": [
       "<div>\n",
       "<style scoped>\n",
       "    .dataframe tbody tr th:only-of-type {\n",
       "        vertical-align: middle;\n",
       "    }\n",
       "\n",
       "    .dataframe tbody tr th {\n",
       "        vertical-align: top;\n",
       "    }\n",
       "\n",
       "    .dataframe thead th {\n",
       "        text-align: right;\n",
       "    }\n",
       "</style>\n",
       "<table border=\"1\" class=\"dataframe\">\n",
       "  <thead>\n",
       "    <tr style=\"text-align: right;\">\n",
       "      <th></th>\n",
       "      <th>loss</th>\n",
       "      <th>accuracy</th>\n",
       "      <th>val_loss</th>\n",
       "      <th>val_accuracy</th>\n",
       "    </tr>\n",
       "  </thead>\n",
       "  <tbody>\n",
       "    <tr>\n",
       "      <th>0</th>\n",
       "      <td>1.423050</td>\n",
       "      <td>0.493733</td>\n",
       "      <td>1.043632</td>\n",
       "      <td>0.6589</td>\n",
       "    </tr>\n",
       "    <tr>\n",
       "      <th>1</th>\n",
       "      <td>0.918893</td>\n",
       "      <td>0.718083</td>\n",
       "      <td>0.810361</td>\n",
       "      <td>0.7596</td>\n",
       "    </tr>\n",
       "    <tr>\n",
       "      <th>2</th>\n",
       "      <td>0.734350</td>\n",
       "      <td>0.809583</td>\n",
       "      <td>0.669290</td>\n",
       "      <td>0.8638</td>\n",
       "    </tr>\n",
       "    <tr>\n",
       "      <th>3</th>\n",
       "      <td>0.591442</td>\n",
       "      <td>0.879667</td>\n",
       "      <td>0.560685</td>\n",
       "      <td>0.8850</td>\n",
       "    </tr>\n",
       "    <tr>\n",
       "      <th>4</th>\n",
       "      <td>0.509517</td>\n",
       "      <td>0.893367</td>\n",
       "      <td>0.513735</td>\n",
       "      <td>0.8950</td>\n",
       "    </tr>\n",
       "    <tr>\n",
       "      <th>5</th>\n",
       "      <td>0.461884</td>\n",
       "      <td>0.902417</td>\n",
       "      <td>0.488899</td>\n",
       "      <td>0.8924</td>\n",
       "    </tr>\n",
       "    <tr>\n",
       "      <th>6</th>\n",
       "      <td>0.426087</td>\n",
       "      <td>0.909533</td>\n",
       "      <td>0.479182</td>\n",
       "      <td>0.8987</td>\n",
       "    </tr>\n",
       "    <tr>\n",
       "      <th>7</th>\n",
       "      <td>0.401396</td>\n",
       "      <td>0.914683</td>\n",
       "      <td>0.469907</td>\n",
       "      <td>0.9033</td>\n",
       "    </tr>\n",
       "    <tr>\n",
       "      <th>8</th>\n",
       "      <td>0.380074</td>\n",
       "      <td>0.919483</td>\n",
       "      <td>0.465715</td>\n",
       "      <td>0.9088</td>\n",
       "    </tr>\n",
       "    <tr>\n",
       "      <th>9</th>\n",
       "      <td>0.362208</td>\n",
       "      <td>0.923650</td>\n",
       "      <td>0.462596</td>\n",
       "      <td>0.9094</td>\n",
       "    </tr>\n",
       "    <tr>\n",
       "      <th>10</th>\n",
       "      <td>0.346045</td>\n",
       "      <td>0.926017</td>\n",
       "      <td>0.460796</td>\n",
       "      <td>0.9103</td>\n",
       "    </tr>\n",
       "    <tr>\n",
       "      <th>11</th>\n",
       "      <td>0.333341</td>\n",
       "      <td>0.929667</td>\n",
       "      <td>0.459029</td>\n",
       "      <td>0.9086</td>\n",
       "    </tr>\n",
       "    <tr>\n",
       "      <th>12</th>\n",
       "      <td>0.321145</td>\n",
       "      <td>0.932267</td>\n",
       "      <td>0.460237</td>\n",
       "      <td>0.9113</td>\n",
       "    </tr>\n",
       "    <tr>\n",
       "      <th>13</th>\n",
       "      <td>0.310792</td>\n",
       "      <td>0.935083</td>\n",
       "      <td>0.461161</td>\n",
       "      <td>0.9136</td>\n",
       "    </tr>\n",
       "    <tr>\n",
       "      <th>14</th>\n",
       "      <td>0.299016</td>\n",
       "      <td>0.937083</td>\n",
       "      <td>0.452567</td>\n",
       "      <td>0.9138</td>\n",
       "    </tr>\n",
       "  </tbody>\n",
       "</table>\n",
       "</div>"
      ],
      "text/plain": [
       "        loss  accuracy  val_loss  val_accuracy\n",
       "0   1.423050  0.493733  1.043632        0.6589\n",
       "1   0.918893  0.718083  0.810361        0.7596\n",
       "2   0.734350  0.809583  0.669290        0.8638\n",
       "3   0.591442  0.879667  0.560685        0.8850\n",
       "4   0.509517  0.893367  0.513735        0.8950\n",
       "5   0.461884  0.902417  0.488899        0.8924\n",
       "6   0.426087  0.909533  0.479182        0.8987\n",
       "7   0.401396  0.914683  0.469907        0.9033\n",
       "8   0.380074  0.919483  0.465715        0.9088\n",
       "9   0.362208  0.923650  0.462596        0.9094\n",
       "10  0.346045  0.926017  0.460796        0.9103\n",
       "11  0.333341  0.929667  0.459029        0.9086\n",
       "12  0.321145  0.932267  0.460237        0.9113\n",
       "13  0.310792  0.935083  0.461161        0.9136\n",
       "14  0.299016  0.937083  0.452567        0.9138"
      ]
     },
     "execution_count": 27,
     "metadata": {},
     "output_type": "execute_result"
    }
   ],
   "source": [
    "pd.DataFrame(history2.history)"
   ]
  },
  {
   "cell_type": "code",
   "execution_count": 28,
   "id": "74c6aa97",
   "metadata": {},
   "outputs": [
    {
     "name": "stdout",
     "output_type": "stream",
     "text": [
      "1/1 [==============================] - 0s 51ms/step\n"
     ]
    },
    {
     "data": {
      "image/png": "[encoded data removed]",
      "text/plain": [
       "<Figure size 1000x500 with 10 Axes>"
      ]
     },
     "metadata": {},
     "output_type": "display_data"
    }
   ],
   "source": [
    "# applico modello alle mie immagini invocando la funzione personal_digit_recognizer(cartella_immagini, nuova_dimensione, model_path)\n",
    "personal_digit_recognizer(cartella_immagini, nuova_dimensione, '4_mnist/models/pp.mnist.model.h5')"
   ]
  }
 ],
 "metadata": {
  "kernelspec": {
   "display_name": "tf",
   "language": "python",
   "name": "tf"
  },
  "language_info": {
   "codemirror_mode": {
    "name": "ipython",
    "version": 3
   },
   "file_extension": ".py",
   "mimetype": "text/x-python",
   "name": "python",
   "nbconvert_exporter": "python",
   "pygments_lexer": "ipython3",
   "version": "3.10.9"
  }
 },
 "nbformat": 4,
 "nbformat_minor": 5
}
