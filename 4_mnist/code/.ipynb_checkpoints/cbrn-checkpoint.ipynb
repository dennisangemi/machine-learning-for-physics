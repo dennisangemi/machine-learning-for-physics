{
 "cells": [
  {
   "cell_type": "markdown",
   "metadata": {},
   "source": [
    "# CBRN\n",
    "\n",
    "Metodo delle semirette per il riconoscimento di caratteri numerici manoscritti"
   ]
  },
  {
   "cell_type": "code",
   "execution_count": 1,
   "metadata": {},
   "outputs": [
    {
     "name": "stderr",
     "output_type": "stream",
     "text": [
      "2023-04-13 11:35:38.689118: I tensorflow/core/platform/cpu_feature_guard.cc:193] This TensorFlow binary is optimized with oneAPI Deep Neural Network Library (oneDNN) to use the following CPU instructions in performance-critical operations:  AVX2 FMA\n",
      "To enable them in other operations, rebuild TensorFlow with the appropriate compiler flags.\n",
      "2023-04-13 11:35:47.021403: W tensorflow/compiler/xla/stream_executor/platform/default/dso_loader.cc:64] Could not load dynamic library 'libcudart.so.11.0'; dlerror: libcudart.so.11.0: cannot open shared object file: No such file or directory; LD_LIBRARY_PATH: /home/dennisangemi/miniconda3/envs/tf/lib/python3.9/site-packages/cv2/../../lib64:\n",
      "2023-04-13 11:35:47.021480: I tensorflow/compiler/xla/stream_executor/cuda/cudart_stub.cc:29] Ignore above cudart dlerror if you do not have a GPU set up on your machine.\n",
      "2023-04-13 11:36:07.827105: W tensorflow/compiler/xla/stream_executor/platform/default/dso_loader.cc:64] Could not load dynamic library 'libnvinfer.so.7'; dlerror: libnvinfer.so.7: cannot open shared object file: No such file or directory; LD_LIBRARY_PATH: /home/dennisangemi/miniconda3/envs/tf/lib/python3.9/site-packages/cv2/../../lib64:\n",
      "2023-04-13 11:36:07.827718: W tensorflow/compiler/xla/stream_executor/platform/default/dso_loader.cc:64] Could not load dynamic library 'libnvinfer_plugin.so.7'; dlerror: libnvinfer_plugin.so.7: cannot open shared object file: No such file or directory; LD_LIBRARY_PATH: /home/dennisangemi/miniconda3/envs/tf/lib/python3.9/site-packages/cv2/../../lib64:\n",
      "2023-04-13 11:36:07.827770: W tensorflow/compiler/tf2tensorrt/utils/py_utils.cc:38] TF-TRT Warning: Cannot dlopen some TensorRT libraries. If you would like to use Nvidia GPU with TensorRT, please make sure the missing libraries mentioned above are installed properly.\n"
     ]
    }
   ],
   "source": [
    "# hide output\n",
    "# %%capture\n",
    "\n",
    "# load libraries\n",
    "import os\n",
    "import pandas as pd\n",
    "import numpy as np\n",
    "import matplotlib.pyplot as plt\n",
    "import cv2\n",
    "import tensorflow.keras as keras\n",
    "import tensorflow as tf\n",
    "from   keras.datasets import mnist\n",
    "from   tensorflow.keras.models import Sequential\n",
    "from   tensorflow.keras.layers import Dense"
   ]
  },
  {
   "cell_type": "code",
   "execution_count": 2,
   "metadata": {},
   "outputs": [],
   "source": [
    "# carica dati mnist\n",
    "(x_train, y_train), (x_test, y_test) = mnist.load_data()"
   ]
  },
  {
   "cell_type": "code",
   "execution_count": 3,
   "metadata": {},
   "outputs": [],
   "source": [
    "# definisci funzione 'show_image'\n",
    "def show_image(img):\n",
    "    plt.figure(figsize=(4,4))\n",
    "    plt.imshow(img, cmap = 'gray')\n",
    "    plt.axis('off')\n",
    "    plt.show(block = False)"
   ]
  },
  {
   "cell_type": "code",
   "execution_count": 4,
   "metadata": {},
   "outputs": [
    {
     "data": {
      "image/png": "[encoded data removed]",
      "text/plain": [
       "<Figure size 400x400 with 1 Axes>"
      ]
     },
     "metadata": {},
     "output_type": "display_data"
    }
   ],
   "source": [
    "img = x_train[1]\n",
    "show_image(img)"
   ]
  },
  {
   "cell_type": "code",
   "execution_count": 5,
   "metadata": {},
   "outputs": [],
   "source": [
    "# trova il centro dell'immagine\n",
    "def find_center(img):\n",
    "    # trova i pixel con valore maggiore di 0\n",
    "    x, y = np.where(img > 0)\n",
    "    # trova il centro dell'immagine\n",
    "    center = (int(np.mean(x)), int(np.mean(y)))\n",
    "    return center"
   ]
  },
  {
   "cell_type": "code",
   "execution_count": 6,
   "metadata": {},
   "outputs": [
    {
     "name": "stdout",
     "output_type": "stream",
     "text": [
      "Center of the image:  (13, 13)\n"
     ]
    }
   ],
   "source": [
    "c = find_center(img)\n",
    "print(\"Center of the image: \", c)"
   ]
  },
  {
   "cell_type": "code",
   "execution_count": 7,
   "metadata": {},
   "outputs": [
    {
     "data": {
      "image/png": "[encoded data removed]",
      "text/plain": [
       "<Figure size 800x400 with 2 Axes>"
      ]
     },
     "metadata": {},
     "output_type": "display_data"
    }
   ],
   "source": [
    "# genera asse x che parta dal centro dell'immagine e termini a 28 (lunghezza immagine) a step di 1\n",
    "def generate_x_axis(c):\n",
    "    x = np.arange(c[1], 28, 1)\n",
    "    return x\n",
    "\n",
    "x = generate_x_axis(c)\n",
    "\n",
    "# genera punti della funzione y = x\n",
    "y = x\n",
    "\n",
    "plt.figure(figsize=(8,4))\n",
    "plt.subplot(1,2,1)\n",
    "plt.plot(x, y, color = 'red')\n",
    "# set axis limits to 0, 28\n",
    "plt.xlim(0, 28)\n",
    "plt.ylim(0, 28)\n",
    "plt.subplot(1,2,2)\n",
    "# plotta x e y sull'immagine\n",
    "plt.imshow(img, cmap = 'gray')\n",
    "plt.plot(x, y, color = 'red')\n",
    "# plotta il centro dell'immagine\n",
    "plt.scatter(c[1], c[0], color = 'red')\n",
    "# plt.axis('off')\n",
    "plt.show(block = False)"
   ]
  },
  {
   "cell_type": "code",
   "execution_count": 11,
   "metadata": {},
   "outputs": [
    {
     "name": "stdout",
     "output_type": "stream",
     "text": [
      "I valori dei pixel sulla retta y = x sono:\n",
      "[  0   0   0   0   7 252   0   0   0   0   0   0   0   0   0]\n"
     ]
    }
   ],
   "source": [
    "print(\"I valori dei pixel sulla retta y = x sono:\")\n",
    "\n",
    "# salvare i valori dei pixel sulla retta y = x in un array dopo aver inizializzato l'array a 0 casta i valori di pixel in interi\n",
    "def get_pixel_values(img, x, y):\n",
    "    values = np.zeros(len(x))\n",
    "    for i in range(len(x)):\n",
    "        # values[i] = img[y[i], x[i]]\n",
    "        values[i] = img[x[i], y[i]]\n",
    "    return values.astype(int)\n",
    "\n",
    "pixels = get_pixel_values(img, x, y)\n",
    "\n",
    "print(pixels)"
   ]
  },
  {
   "cell_type": "code",
   "execution_count": 15,
   "metadata": {},
   "outputs": [
    {
     "name": "stdout",
     "output_type": "stream",
     "text": [
      "Il pixel di coordinate y[ 4 ], x[ 4 ] è maggiore della soglia\n",
      "Sto salvando le coordinate del pixel:  (17, 17)\n",
      "Il pixel di coordinate y[ 5 ], x[ 5 ] è maggiore della soglia\n"
     ]
    }
   ],
   "source": [
    "# il valore del pixel di coordinate  x[0], y[0], è img[x[0], y[0]]\n",
    "\n",
    "# conta il numero di intersezioni e calcola distanza dal centro\n",
    "\n",
    "soglia = 1\n",
    "\n",
    "# crea array vuoto per salvare le coordinate delle intersezioni\n",
    "coordinate_intersezioni = []\n",
    "\n",
    "# crea array vuoto per salvare la distanza tra il centro dell'immagine e le intersezioni\n",
    "distanze = []\n",
    "\n",
    "# rimane da verificare la prima posizione \n",
    "\n",
    "for i in range(1, len(pixels)-1):\n",
    "    if pixels[i] >= soglia:\n",
    "        print(\"Il pixel di coordinate y[\", i, \"], x[\", i, \"] è maggiore della soglia\")\n",
    "        # se il pixel precedente è minore della soglia salva la posizione i in una variabila 'coordinate_min'\n",
    "        if pixels[i-1] < soglia:\n",
    "            coordinate_min = x[i], y[i]\n",
    "            print(\"Sto salvando le coordinate del pixel: \", coordinate_min)\n",
    "            # altrimenti (se il precedente è maggiore della soglia) e il successivo è minore della soglia salva la posizione i in una variabile 'coordinate_max'\n",
    "        elif pixels[i+1] < soglia:\n",
    "            coordinate_max =  x[i], y[i]\n",
    "\n",
    "            # calcola media tra coordinate_min e coordinate_max\n",
    "            coordinate_media = (coordinate_min[0] + coordinate_max[0])/2, (coordinate_min[1] + coordinate_max[1])/2\n",
    "\n",
    "            # salva coordinate_media in un array coordinate_interesezioni facendo append\n",
    "            coordinate_intersezioni.append(coordinate_media)\n",
    "\n",
    "            # calcola distanza tra coordinate_media e il centro dell'immagine\n",
    "            distanza = np.sqrt((coordinate_media[0] - c[0])**2 + (coordinate_media[1] - c[1])**2)\n",
    "\n",
    "            # approssima distanza a 0 cifre decimali\n",
    "            # distanza = np.round(distanza, 0)\n",
    "\n",
    "            # casta distanza in intero\n",
    "            # distanza = int(distanza)\n",
    "\n",
    "            # append distanza in un array distanze\n",
    "            distanze.append(distanza)\n",
    "\n",
    "\n"
   ]
  },
  {
   "cell_type": "code",
   "execution_count": 16,
   "metadata": {},
   "outputs": [],
   "source": [
    "# definisci funzione che plotta le intersezioni\n",
    "def plot_intersections(coordinate_intersezioni):\n",
    "    for i in range(len(coordinate_intersezioni)):\n",
    "        plt.scatter(coordinate_intersezioni[i][1], coordinate_intersezioni[i][0], color = 'red')\n",
    "    \n"
   ]
  },
  {
   "cell_type": "code",
   "execution_count": 18,
   "metadata": {},
   "outputs": [],
   "source": [
    "# crea funzione generate_lines che prende in input l'immagine, e il coefficiente angolare della retta\n",
    "# ne calcola il centro, e restituisce le x e le y della semiretta che parte dal centro e termina a 28\n",
    "def generate_lines(img, m):\n",
    "    # trova il centro dell'immagine\n",
    "    c = find_center(img)\n",
    "    # genera asse x che parta dal centro dell'immagine e termini a 28 (lunghezza immagine) a step di 1\n",
    "    x = np.arange(c[1], 28, 1)\n",
    "    # genera punti della funzione y = m*x\n",
    "    y = m*x\n",
    "    # approssima y a 0 cifre decimali\n",
    "    y = np.round(y, 0)\n",
    "    # casta y in interi\n",
    "    y = y.astype(int)\n",
    "    return x, y\n",
    "\n",
    "# crea funzione find_intersections che prende in input l'immagine, le x e le y e restituisce le coordinate delle intersezioni e la distanza tra il centro dell'immagine e le intersezioni\n",
    "def find_intersections(img, x, y):\n",
    "    # ottengo i valori dei pixel sulla retta\n",
    "    pixel = get_pixel_values(img, x, y)\n",
    "    # crea array vuoto per salvare le coordinate delle intersezioni\n",
    "    coordinate_intersezioni = []\n",
    "    # crea array vuoto per salvare la distanza tra il centro dell'immagine e le intersezioni\n",
    "    distanze = []\n",
    "     \n",
    "    for i in range(1, len(pixel)-1):\n",
    "        # se l'iesimo pixel è acceso\n",
    "        if pixel[i] >= soglia:\n",
    "            # e se il pixel precedente è minore della soglia, salva la i in 'coordinate_min'\n",
    "            if pixel[i-1] < soglia:\n",
    "                coordinate_min = x[i], y[i]\n",
    "                # e se il pixel successivo è minore di soglia, allora salva direttamente coordinate_min in coordinate_intersezioni\n",
    "                if pixel[i+1] < soglia:\n",
    "                    coordinate_intersezioni.append(coordinate_min)\n",
    "                # altrimenti (se il precedente è maggiore della soglia) e il successivo è minore della soglia, salva la i in 'coordinate_max'\n",
    "            elif pixel[i+1] < soglia:\n",
    "                coordinate_max = x[i], y[i]\n",
    "\n",
    "                # calcola media tra coordinate_min e coordinate_max\n",
    "                coordinate_media = (coordinate_min[0] + coordinate_max[0])/2, (coordinate_min[1] + coordinate_max[1])/2\n",
    "                # salva coordinate_media in un array coordinate_interesezioni facendo append\n",
    "                coordinate_intersezioni.append(coordinate_media)\n",
    "\n",
    "                # calcola distanza tra coordinate_media e il centro dell'immagine\n",
    "                distanza = np.sqrt((coordinate_media[0] - c[0])**2 + (coordinate_media[1] - c[1])**2)\n",
    "                # append distanza in un array distanze\n",
    "                distanze.append(distanza)\n",
    "    return coordinate_intersezioni, distanze"
   ]
  },
  {
   "cell_type": "code",
   "execution_count": 20,
   "metadata": {},
   "outputs": [
    {
     "data": {
      "image/png": "[encoded data removed]",
      "text/plain": [
       "<Figure size 400x400 with 1 Axes>"
      ]
     },
     "metadata": {},
     "output_type": "display_data"
    },
    {
     "name": "stdout",
     "output_type": "stream",
     "text": [
      "Le distanze sono:  [6.363961030678928]\n"
     ]
    },
    {
     "data": {
      "image/png": "[encoded data removed]",
      "text/plain": [
       "<Figure size 400x400 with 1 Axes>"
      ]
     },
     "metadata": {},
     "output_type": "display_data"
    },
    {
     "name": "stdout",
     "output_type": "stream",
     "text": [
      "Le distanze sono:  [2.1213203435596424, 7.0710678118654755]\n"
     ]
    },
    {
     "ename": "UnboundLocalError",
     "evalue": "local variable 'coordinate_min' referenced before assignment",
     "output_type": "error",
     "traceback": [
      "\u001b[0;31m---------------------------------------------------------------------------\u001b[0m",
      "\u001b[0;31mUnboundLocalError\u001b[0m                         Traceback (most recent call last)",
      "Cell \u001b[0;32mIn[20], line 7\u001b[0m\n\u001b[1;32m      5\u001b[0m coefficiente_angolare \u001b[39m=\u001b[39m \u001b[39m1\u001b[39m\n\u001b[1;32m      6\u001b[0m x, y \u001b[39m=\u001b[39m generate_lines(img, \u001b[39m1\u001b[39m)\n\u001b[0;32m----> 7\u001b[0m coordinate_intersezioni, distanze \u001b[39m=\u001b[39m find_intersections(img, x, y)\n\u001b[1;32m      9\u001b[0m \u001b[39m# da ripetere su ogni immagine\u001b[39;00m\n\u001b[1;32m     10\u001b[0m \n\u001b[1;32m     11\u001b[0m \u001b[39m# plotta i punti di intersezione sull'immagine insieme alla semiretta (sovrapposta)\u001b[39;00m\n\u001b[1;32m     12\u001b[0m plt\u001b[39m.\u001b[39mfigure(figsize\u001b[39m=\u001b[39m(\u001b[39m4\u001b[39m,\u001b[39m4\u001b[39m))\n",
      "Cell \u001b[0;32mIn[18], line 39\u001b[0m, in \u001b[0;36mfind_intersections\u001b[0;34m(img, x, y)\u001b[0m\n\u001b[1;32m     36\u001b[0m coordinate_max \u001b[39m=\u001b[39m x[i], y[i]\n\u001b[1;32m     38\u001b[0m \u001b[39m# calcola media tra coordinate_min e coordinate_max\u001b[39;00m\n\u001b[0;32m---> 39\u001b[0m coordinate_media \u001b[39m=\u001b[39m (coordinate_min[\u001b[39m0\u001b[39m] \u001b[39m+\u001b[39m coordinate_max[\u001b[39m0\u001b[39m])\u001b[39m/\u001b[39m\u001b[39m2\u001b[39m, (coordinate_min[\u001b[39m1\u001b[39m] \u001b[39m+\u001b[39m coordinate_max[\u001b[39m1\u001b[39m])\u001b[39m/\u001b[39m\u001b[39m2\u001b[39m\n\u001b[1;32m     40\u001b[0m \u001b[39m# salva coordinate_media in un array coordinate_interesezioni facendo append\u001b[39;00m\n\u001b[1;32m     41\u001b[0m coordinate_intersezioni\u001b[39m.\u001b[39mappend(coordinate_media)\n",
      "\u001b[0;31mUnboundLocalError\u001b[0m: local variable 'coordinate_min' referenced before assignment"
     ]
    }
   ],
   "source": [
    "# quindi basterà fare\n",
    "\n",
    "for i in range(1,3+1):\n",
    "    img = x_train[i]\n",
    "    coefficiente_angolare = 1\n",
    "    x, y = generate_lines(img, 1)\n",
    "    coordinate_intersezioni, distanze = find_intersections(img, x, y)\n",
    "\n",
    "    # da ripetere su ogni immagine\n",
    "\n",
    "    # plotta i punti di intersezione sull'immagine insieme alla semiretta (sovrapposta)\n",
    "    plt.figure(figsize=(4,4))\n",
    "    plt.imshow(img, cmap = 'gray')\n",
    "    plt.plot(x, y, color = 'red')\n",
    "    plt.scatter(c[0], c[1], color = 'red')\n",
    "    plot_intersections(coordinate_intersezioni)\n",
    "    plt.show()\n",
    "\n",
    "    print(\"Le distanze sono: \", distanze)\n"
   ]
  },
  {
   "cell_type": "markdown",
   "metadata": {},
   "source": [
    "to do:\n",
    "- Ricorda sempre che rimane da verificare la prima posizione\n",
    "- gestire caso con un solo punto di intersezione (senza fare media)\n",
    "- migliorare la funzione find_intersections per gestire tutti i casi\n",
    "\n",
    "Attualmente infatti la funzione non funziona se c'è un solo punto di intersezione"
   ]
  },
  {
   "cell_type": "code",
   "execution_count": 25,
   "metadata": {},
   "outputs": [
    {
     "data": {
      "image/png": "[encoded data removed]",
      "text/plain": [
       "<Figure size 400x400 with 1 Axes>"
      ]
     },
     "metadata": {},
     "output_type": "display_data"
    }
   ],
   "source": [
    "# plot the 4th image\n",
    "show_image(x_train[3])"
   ]
  },
  {
   "cell_type": "markdown",
   "metadata": {},
   "source": [
    "abbiamo errore su questa immagine quindi bisogna perfezionare la funzione find_intersection"
   ]
  },
  {
   "cell_type": "code",
   "execution_count": 29,
   "metadata": {},
   "outputs": [
    {
     "data": {
      "image/png": "[encoded data removed]",
      "text/plain": [
       "<Figure size 640x480 with 1 Axes>"
      ]
     },
     "metadata": {},
     "output_type": "display_data"
    }
   ],
   "source": [
    "img = x_train[3]\n",
    "coefficiente_angolare = 1\n",
    "x, y = generate_lines(img, coefficiente_angolare)\n",
    "\n",
    "# plotta x e y sull'immagine\n",
    "plt.imshow(img, cmap = 'gray')\n",
    "plt.plot(x, y, color = 'red')\n",
    "# plotta il centro dell'immagine\n",
    "c = find_center(img)\n",
    "plt.scatter(c[1], c[0], color = 'red')\n",
    "# plt.axis('off')\n",
    "plt.show(block = False)"
   ]
  },
  {
   "cell_type": "code",
   "execution_count": 30,
   "metadata": {},
   "outputs": [
    {
     "data": {
      "text/plain": [
       "array([251, 159,   0,   0,   0,   0,   0,   0,   0,   0,   0,   0,   0,\n",
       "         0])"
      ]
     },
     "execution_count": 30,
     "metadata": {},
     "output_type": "execute_result"
    }
   ],
   "source": [
    "get_pixel_values(img, x, y)"
   ]
  },
  {
   "cell_type": "markdown",
   "metadata": {},
   "source": [
    "Bisogna saper trattare questo caso qui nel for di find_intersections.\n",
    "I pixel sulla retta hanno valore:\n",
    "\n",
    "[251, 159,   0,   0,   0,   0,   0,   0,   0,   0,   0,   0,   0,   0]"
   ]
  },
  {
   "cell_type": "markdown",
   "metadata": {},
   "source": [
    "In questo caso l'output voluto sarebbe una sola intersezione che sia medie delle coordinate il cui pixel ha valore 251 e quello di 159.\n",
    "\n",
    "Quindi per i che va da 0 fino a lunghezza di pixel\n",
    "- i = 0, è acceso, salva in coordinate_min\n",
    "- i = 1, è acceso, salva in coordinate_max\n",
    "- i > 1 tutti spenti, non fare niente\n",
    "\n",
    "\n",
    "\n",
    "devo salvare le coordinate_min quando sono sicuro che i pixel successivi sono accesi\n",
    "devo salvare le coordinate_max quando sono sicuro che i pixel precedenti sono accesi\n",
    "\n",
    "\n",
    "generalizzando\n",
    "\n",
    "se i non è il primo (posso controllare i-1)\n",
    "    se i è acceso\n",
    "        se i+1 è acceso\n",
    "            se i-1 è spento\n",
    "                allora salva le coordinate di i come singola intersezione e calcola la distanza senza calcolare media\n",
    "            altrimenti (i, i+1, i-1 accesi)\n",
    "                allora non fare niente\n",
    "altrimenti (se i è il primo)\n",
    "    se i è acceso\n",
    "        se i+1 è acces\n",
    "            allora le coordinate di i vanno salvate in coordinate_min\n",
    "        altrimenti (se i+1 è spento)\n",
    "            allora salva le coordinate di i come singola intersezione e calcola la distanza senza calcolare media\n",
    "\n",
    "quindi\n",
    "```\n",
    "check del primo pixel\n",
    "\n",
    "pixel[0] è il primo pixel\n",
    "    se pixel[0] è acceso\n",
    "        se pixel[1] è acceso\n",
    "            allora coordinate di pixel[0] sono coordinate_min\n",
    "        altrimenti (pixel[1] spento)\n",
    "            allora coordinate di pixel[0] costituiscono intersezione singola. calc distanza no media\n",
    "    altrimenti (pixel[0] spento)\n",
    "        non succede nulla\n",
    "\n",
    "per i che vanno da 1 a len(pixel-1)\n",
    "    se i è acceso\n",
    "        se i+1 è acceso\n",
    "            (inutile) se i-1 è acceso\n",
    "                (inutile) allora non fare nulla\n",
    "            se i-1 è spento\n",
    "                allora coordinate di pixel[i] sono coordinate_min\n",
    "        altrimenti (i acceso, i+1 spento)\n",
    "            se i-1 spento\n",
    "                allora coordinate di pixel[i] sono singola intersezione\n",
    "                calcola distanza senza media\n",
    "            altrimenti(i acceso, i+1 spento, i-1 acceso)\n",
    "                allora coordinate di pixel[i] sono coordinate max\n",
    "                calcola media tra coordinate min e max\n",
    "                calcola distanza tra media\n",
    "                clear variables coordinate_min e coordinate_max\n",
    "\n",
    "\n",
    "ci sarebbe da controllare ultimo pixel che può essere o intersezione singola o massimo\n",
    "end = len(pixel)\n",
    "se pixel[end] è acceso\n",
    "    se pixel[end-1] è acceso\n",
    "        allora le coordinate di pixel[end] sono coordinate_max\n",
    "        calcola media\n",
    "        calcola distanza tra media\n",
    "    altrimenti (pixel fine acceso, pixel precedente spento)\n",
    "        allora le coordinate di pixel[end] sono intersezione singola\n",
    "```"
   ]
  },
  {
   "cell_type": "code",
   "execution_count": 8,
   "metadata": {},
   "outputs": [
    {
     "data": {
      "image/png": "[encoded data removed]",
      "text/plain": [
       "<Figure size 400x400 with 1 Axes>"
      ]
     },
     "metadata": {},
     "output_type": "display_data"
    },
    {
     "data": {
      "text/plain": [
       "(13, 13)"
      ]
     },
     "execution_count": 8,
     "metadata": {},
     "output_type": "execute_result"
    }
   ],
   "source": [
    "show_image(img)\n",
    "find_center(img)"
   ]
  },
  {
   "cell_type": "code",
   "execution_count": null,
   "metadata": {},
   "outputs": [],
   "source": [
    "def calcola_distanza(punto_inizio, punto_fine):\n",
    "    distanza = np.sqrt((punto_inizio[0] - punto_fine[0])**2 + (punto_inizo[1] - punto_fine[1])**2)\n",
    "    return distanza\n",
    "\n",
    "def find_intersections(img, x, y):\n",
    "    \n",
    "    # determino centro immagine\n",
    "    c = find_center(img)\n",
    "    \n",
    "    # ottengo i valori dei pixel sulla retta\n",
    "    pixel = get_pixel_values(img, x, y)\n",
    "    \n",
    "    # crea array vuoto per salvare le coordinate delle intersezioni\n",
    "    coordinate_intersezioni = []\n",
    "    \n",
    "    # crea array vuoto per salvare la distanza tra il centro dell'immagine e le intersezioni\n",
    "    distanze = []\n",
    "    \n",
    "    # analizza primo pixel sulla retta\n",
    "    if pixel[0]>=soglia:\n",
    "        if pixel[1]>=soglia:\n",
    "            coordinate_min = x[i], y[i]\n",
    "        else:\n",
    "            coordinate_singola_intersezione = x[i], y[i]\n",
    "            coordinate_intersezioni.append(coordinate_singola_intersezione)\n",
    "            distanza = calcola_distanza(c,coordinate_singola_intersezione)\n",
    "            distanze.append(distanza)\n",
    "    \n",
    "    for i in range(1, len(pixel)-1):\n",
    "        # se l'iesimo pixel è acceso\n",
    "        if pixel[i] >= soglia:\n",
    "            if pixel[i+1] >= soglia:\n",
    "                if pixel[i-1] < soglia:\n",
    "                    coordinate_min = x[i], y[i]\n",
    "            else:\n",
    "                if pixel[i-1] < soglia:\n",
    "                    coordinate_singola_intersezione = x[i], y[i]\n",
    "                    coordinate_intersezioni.append(coordinate_singola_intersezione)\n",
    "                    distanza = calcola_distanza(c,coordinate_singola_intersezione)\n",
    "                    distanze.append(distanza)\n",
    "                else:\n",
    "                    coordinate_max = x[i], y[i]\n",
    "                    \n",
    "                    # calcola media tra coordinate_min e coordinate_max\n",
    "                    coordinate_media = (coordinate_min[0] + coordinate_max[0])/2, (coordinate_min[1] + coordinate_max[1])\n",
    "                    \n",
    "                    distanza = calcola_distanza(coordinate_media,c)\n",
    "                    distanze.append(distanza)\n",
    "                    \n",
    "                    # approssimo a 0 cifre decimali e salvo in array coordinate intersezioni\n",
    "                    coordinate_media[0] = np.round(coordinate_media[0],0)\n",
    "                    coordinate_media[1] = np.round(coordinate_media[1],0)\n",
    "                    coordinate_intersezioni.append(coordinate_media)\n",
    "                    \n",
    "    \n",
    "    # analizza ultimo pixel\n",
    "    \n",
    "    return coordinate_intersezioni, distanze\n",
    "\n",
    "coordinate_intersezioni, distanze = find_intersections(img, x, y)"
   ]
  },
  {
   "cell_type": "code",
   "execution_count": null,
   "metadata": {},
   "outputs": [],
   "source": [
    "per i che vanno da 1 a len(pixel)\n",
    "    se i è acceso\n",
    "        se i+1 è acceso\n",
    "            se i-1 è spento\n",
    "                allora coordinate di pixel[i] sono coordinate_min\n",
    "        altrimenti (i acceso, i+1 spento)\n",
    "            se i-1 spento\n",
    "                allora coordinate di pixel[i] sono singola intersezione\n",
    "                calcola distanza senza media\n",
    "            altrimenti(i acceso, i+1 spento, i-1 acceso)\n",
    "                allora coordinate di pixel[i] sono coordinate max\n",
    "                calcola media tra coordinate min e max\n",
    "                calcola distanza tra media\n",
    "                clear variables coordinate_min e coordinate_max"
   ]
  }
 ],
 "metadata": {
  "kernelspec": {
   "display_name": "Conda",
   "language": "python",
   "name": "tf"
  },
  "language_info": {
   "codemirror_mode": {
    "name": "ipython",
    "version": 3
   },
   "file_extension": ".py",
   "mimetype": "text/x-python",
   "name": "python",
   "nbconvert_exporter": "python",
   "pygments_lexer": "ipython3",
   "version": "3.9.16"
  },
  "vscode": {
   "interpreter": {
    "hash": "b64ef7aecfde08d9a4199589fcf2cb4d704f4d403eaafb1c77ac7b920e3d7818"
   }
  }
 },
 "nbformat": 4,
 "nbformat_minor": 2
}
