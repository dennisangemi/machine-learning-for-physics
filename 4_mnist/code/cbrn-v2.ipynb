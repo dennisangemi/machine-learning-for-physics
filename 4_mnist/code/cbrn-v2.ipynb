{
 "cells": [
  {
   "cell_type": "markdown",
   "metadata": {},
   "source": [
    "# CBRN\n",
    "\n",
    "Metodo delle semirette per il riconoscimento di caratteri numerici manoscritti"
   ]
  },
  {
   "cell_type": "code",
   "execution_count": 1,
   "metadata": {},
   "outputs": [
    {
     "name": "stderr",
     "output_type": "stream",
     "text": [
      "2023-04-20 14:39:52.987305: I tensorflow/core/platform/cpu_feature_guard.cc:193] This TensorFlow binary is optimized with oneAPI Deep Neural Network Library (oneDNN) to use the following CPU instructions in performance-critical operations:  AVX2 FMA\n",
      "To enable them in other operations, rebuild TensorFlow with the appropriate compiler flags.\n",
      "2023-04-20 14:40:01.519895: W tensorflow/compiler/xla/stream_executor/platform/default/dso_loader.cc:64] Could not load dynamic library 'libcudart.so.11.0'; dlerror: libcudart.so.11.0: cannot open shared object file: No such file or directory; LD_LIBRARY_PATH: /home/dennisangemi/miniconda3/envs/tf/lib/python3.9/site-packages/cv2/../../lib64:/app/lib\n",
      "2023-04-20 14:40:01.519957: I tensorflow/compiler/xla/stream_executor/cuda/cudart_stub.cc:29] Ignore above cudart dlerror if you do not have a GPU set up on your machine.\n",
      "2023-04-20 14:40:23.737177: W tensorflow/compiler/xla/stream_executor/platform/default/dso_loader.cc:64] Could not load dynamic library 'libnvinfer.so.7'; dlerror: libnvinfer.so.7: cannot open shared object file: No such file or directory; LD_LIBRARY_PATH: /home/dennisangemi/miniconda3/envs/tf/lib/python3.9/site-packages/cv2/../../lib64:/app/lib\n",
      "2023-04-20 14:40:23.747471: W tensorflow/compiler/xla/stream_executor/platform/default/dso_loader.cc:64] Could not load dynamic library 'libnvinfer_plugin.so.7'; dlerror: libnvinfer_plugin.so.7: cannot open shared object file: No such file or directory; LD_LIBRARY_PATH: /home/dennisangemi/miniconda3/envs/tf/lib/python3.9/site-packages/cv2/../../lib64:/app/lib\n",
      "2023-04-20 14:40:23.747538: W tensorflow/compiler/tf2tensorrt/utils/py_utils.cc:38] TF-TRT Warning: Cannot dlopen some TensorRT libraries. If you would like to use Nvidia GPU with TensorRT, please make sure the missing libraries mentioned above are installed properly.\n"
     ]
    }
   ],
   "source": [
    "# hide output\n",
    "# %%capture\n",
    "\n",
    "# load libraries\n",
    "import os\n",
    "import pandas as pd\n",
    "import numpy as np\n",
    "import matplotlib.pyplot as plt\n",
    "import cv2\n",
    "import tensorflow.keras as keraster\n",
    "import tensorflow as tf\n",
    "from   keras.datasets import mnist\n",
    "from   tensorflow.keras.models import Sequential\n",
    "from   tensorflow.keras.layers import Dense"
   ]
  },
  {
   "cell_type": "code",
   "execution_count": 2,
   "metadata": {},
   "outputs": [],
   "source": [
    "# carica dati mnist\n",
    "(x_train, y_train), (x_test, y_test) = mnist.load_data()"
   ]
  },
  {
   "cell_type": "code",
   "execution_count": 3,
   "metadata": {},
   "outputs": [],
   "source": [
    "# definisco funzione 'plot_image'\n",
    "def plot_image(img):\n",
    "    plt.figure(figsize=(4,4))\n",
    "    plt.imshow(img, cmap = 'gray')\n",
    "    plt.axis('off')\n",
    "\n",
    "# definisci funzione 'show_image'\n",
    "def show_image(img):\n",
    "    plot_image(img)\n",
    "    plt.show(block = False)"
   ]
  },
  {
   "cell_type": "code",
   "execution_count": 4,
   "metadata": {},
   "outputs": [
    {
     "data": {
      "image/png": "[encoded data removed]",
      "text/plain": [
       "<Figure size 400x400 with 1 Axes>"
      ]
     },
     "metadata": {},
     "output_type": "display_data"
    }
   ],
   "source": [
    "img = x_train[1]\n",
    "show_image(img)"
   ]
  },
  {
   "cell_type": "code",
   "execution_count": 5,
   "metadata": {},
   "outputs": [],
   "source": [
    "# trova il centro dell'immagine\n",
    "def find_center(img):\n",
    "    # trova i pixel con valore maggiore di 0\n",
    "    y,x = np.where(img > 0)\n",
    "    # trova il centro dell'immagine\n",
    "    center = (int(np.round(np.mean(x),0)), int(np.round(np.mean(y),0)))\n",
    "    return center\n",
    "\n",
    "# definisco funzione 'plot_center'\n",
    "def plot_center(center,color):\n",
    "    plt.scatter(center[0], center[1], c = color)\n"
   ]
  },
  {
   "cell_type": "code",
   "execution_count": 6,
   "metadata": {},
   "outputs": [
    {
     "name": "stdout",
     "output_type": "stream",
     "text": [
      "(4, 2)\n"
     ]
    },
    {
     "data": {
      "image/png": "[encoded data removed]",
      "text/plain": [
       "<Figure size 400x400 with 1 Axes>"
      ]
     },
     "metadata": {},
     "output_type": "display_data"
    }
   ],
   "source": [
    "# testo funzione 'find_center'\n",
    "\n",
    "# build a small image\n",
    "img = np.zeros((10,10))\n",
    "img[2, ] = 1\n",
    "\n",
    "# trova il centro\n",
    "center = find_center(img)\n",
    "print(center)\n",
    "\n",
    "# visualizza l'immagine\n",
    "plot_image(img)\n",
    "plot_center(center, 'red')\n",
    "plt.show()"
   ]
  },
  {
   "cell_type": "code",
   "execution_count": 7,
   "metadata": {},
   "outputs": [
    {
     "name": "stdout",
     "output_type": "stream",
     "text": [
      "(1, 2)\n"
     ]
    },
    {
     "data": {
      "image/png": "[encoded data removed]",
      "text/plain": [
       "<Figure size 400x400 with 1 Axes>"
      ]
     },
     "metadata": {},
     "output_type": "display_data"
    }
   ],
   "source": [
    "# altro test\n",
    "img = np.zeros((10,10), dtype = np.uint8)\n",
    "img[2, 1] = 1\n",
    "\n",
    "center = find_center(img)\n",
    "print(center)\n",
    "\n",
    "# mostro immagine con centro\n",
    "plot_image(img)\n",
    "plot_center(center, 'r')\n",
    "plt.show(block = False)\n"
   ]
  },
  {
   "cell_type": "code",
   "execution_count": 43,
   "metadata": {},
   "outputs": [
    {
     "name": "stdout",
     "output_type": "stream",
     "text": [
      "Center of the image:  (14, 14)\n"
     ]
    }
   ],
   "source": [
    "img = x_train[1]\n",
    "c = find_center(img)\n",
    "print(\"Center of the image: \", c)"
   ]
  },
  {
   "cell_type": "code",
   "execution_count": 44,
   "metadata": {},
   "outputs": [],
   "source": [
    "# genera asse x che parta dal centro dell'immagine e termini a 28 (lunghezza immagine) a step di 1\n",
    "def generate_x_axis(c):\n",
    "    x = np.arange(c[0], 28, 1)\n",
    "    return x"
   ]
  },
  {
   "cell_type": "code",
   "execution_count": 45,
   "metadata": {},
   "outputs": [
    {
     "name": "stdout",
     "output_type": "stream",
     "text": [
      "x: [14 15 16 17 18 19 20 21 22 23 24 25 26 27]\n"
     ]
    }
   ],
   "source": [
    "# invoco generare_x_axis\n",
    "x = generate_x_axis(c)\n",
    "print(\"x:\", x)\n",
    "\n",
    "# genera punti della funzione y = x\n",
    "y = x"
   ]
  },
  {
   "cell_type": "code",
   "execution_count": 46,
   "metadata": {},
   "outputs": [
    {
     "data": {
      "image/png": "[encoded data removed]",
      "text/plain": [
       "<Figure size 800x400 with 2 Axes>"
      ]
     },
     "metadata": {},
     "output_type": "display_data"
    }
   ],
   "source": [
    "# plotto\n",
    "plt.figure(figsize=(8,4))\n",
    "plt.subplot(1,2,1)\n",
    "plt.plot(x, y, color = 'red')\n",
    "# set axis limits to 0, 28\n",
    "plt.xlim(0, 28)\n",
    "plt.ylim(0, 28)\n",
    "plt.subplot(1,2,2)\n",
    "# plotta x e y sull'immagine\n",
    "plt.imshow(img, cmap = 'gray')\n",
    "plt.plot(x, y, color = 'red')\n",
    "# plotta il centro dell'immagine\n",
    "plt.scatter(c[0], c[1], color = 'blue')\n",
    "# plt.axis('off')\n",
    "plt.show(block = False)"
   ]
  },
  {
   "cell_type": "code",
   "execution_count": 162,
   "metadata": {},
   "outputs": [],
   "source": [
    "# crea funzione generate_lines_from_center\n",
    "\n",
    "# input:\n",
    "# img: immagine\n",
    "# m: coefficiente angolare della retta\n",
    "\n",
    "# output:\n",
    "# x: asse x della retta\n",
    "# y: asse y della retta\n",
    "\n",
    "def generate_lines_from_center(img, m):\n",
    "\n",
    "    # with dell'immagine\n",
    "    l = len(img)-1\n",
    "\n",
    "    # determino il centro dell'immagine invocando la funzione find_center\n",
    "    c = find_center(img)\n",
    "\n",
    "    # determino l'intercetta della retta\n",
    "    q = c[1]-m*c[0]\n",
    "\n",
    "    # creo due liste vuote\n",
    "    x = []\n",
    "    y = []\n",
    "\n",
    "    # aggiungo il centro all'array x e y\n",
    "    x.append(c[0])\n",
    "    y.append(c[1])\n",
    "\n",
    "    # while y[-1] < 27 e contemporaneamente x[-1] < 27\n",
    "    while y[-1] < l and x[-1] <= l:\n",
    "        x.append(x[-1]+1)\n",
    "        y.append(m*x[-1]+q)\n",
    "\n",
    "    # se x[-1] > 27 o y[-1] > 27 allora elimina l'ultimo elemento di x e y\n",
    "    if x[-1] > l or y[-1] > l:\n",
    "        x.pop()\n",
    "        y.pop()\n",
    "\n",
    "    return x, y"
   ]
  },
  {
   "cell_type": "code",
   "execution_count": 161,
   "metadata": {},
   "outputs": [],
   "source": [
    "# salvare i valori dei pixel sulla retta y = x in un array dopo aver inizializzato l'array a 0 casta i valori di pixel in interi\n",
    "def get_pixel_values(img, x, y):\n",
    "    values = np.zeros(len(x))\n",
    "    for i in range(len(x)):\n",
    "        values[i] = img[x[i], np.round(y[i]).astype(int)]\n",
    "    return values.astype(int)"
   ]
  },
  {
   "cell_type": "code",
   "execution_count": 136,
   "metadata": {},
   "outputs": [
    {
     "name": "stdout",
     "output_type": "stream",
     "text": [
      "x: [14]\n",
      "y: [28]\n"
     ]
    }
   ],
   "source": [
    "# testo funzione generate_lines_from_center\n",
    "x, y = generate_lines_from_center(img, 2)\n",
    "print(\"x:\", x)\n",
    "print(\"y:\", y)\n",
    "# img[27,27]\n"
   ]
  },
  {
   "cell_type": "code",
   "execution_count": 111,
   "metadata": {},
   "outputs": [
    {
     "name": "stdout",
     "output_type": "stream",
     "text": [
      "14\n"
     ]
    },
    {
     "data": {
      "text/plain": [
       "array([ 0,  1,  2,  3,  4,  5,  6,  7,  8,  9, 10, 11, 12, 13])"
      ]
     },
     "execution_count": 111,
     "metadata": {},
     "output_type": "execute_result"
    }
   ],
   "source": [
    "f = np.round((len(img)-1)/m,0).astype(int)\n",
    "print(f)\n",
    "np.arange(0, f, 1)"
   ]
  },
  {
   "cell_type": "code",
   "execution_count": 163,
   "metadata": {},
   "outputs": [
    {
     "name": "stdout",
     "output_type": "stream",
     "text": [
      "x: [14, 15, 16, 17, 18, 19, 20, 21, 22, 23, 24]\n",
      "y: [14, 15.2, 16.4, 17.599999999999998, 18.799999999999997, 20.0, 21.2, 22.4, 23.599999999999998, 24.799999999999997, 25.999999999999996] \n",
      "\n",
      "I valori dei pixel sulla retta y = x sono:\n",
      "[  0   0   0 131 173   0   0   0   0   0   0]\n"
     ]
    }
   ],
   "source": [
    "img = x_train[1]\n",
    "\n",
    "# invoco generate_lines_from_center\n",
    "x, y = generate_lines_from_center(img, 1.2)\n",
    "\n",
    "# visualizzo vettori\n",
    "print(\"x:\",x)\n",
    "print(\"y:\",y,\"\\n\")\n",
    "\n",
    "\n",
    "pixels = get_pixel_values(img, x, y)\n",
    "\n",
    "print(\"I valori dei pixel sulla retta y = x sono:\")\n",
    "print(pixels)"
   ]
  },
  {
   "cell_type": "code",
   "execution_count": 164,
   "metadata": {},
   "outputs": [
    {
     "data": {
      "image/png": "[encoded data removed]",
      "text/plain": [
       "<Figure size 800x400 with 2 Axes>"
      ]
     },
     "metadata": {},
     "output_type": "display_data"
    }
   ],
   "source": [
    "# plotto\n",
    "plt.figure(figsize=(8,4))\n",
    "plt.subplot(1,2,1)\n",
    "plt.plot(x, y, color = 'red')\n",
    "# set axis limits to 0, 28\n",
    "plt.xlim(0, 28)\n",
    "plt.ylim(0, 28)\n",
    "plt.subplot(1,2,2)\n",
    "# plotta x e y sull'immagine\n",
    "plt.imshow(img, cmap = 'gray')\n",
    "plt.plot(x, y, color = 'red')\n",
    "# plotta il centro dell'immagine\n",
    "plt.scatter(c[0], c[1], color = 'blue')\n",
    "plt.axis('off')\n",
    "plt.show(block = False)"
   ]
  },
  {
   "attachments": {},
   "cell_type": "markdown",
   "metadata": {},
   "source": [
    "### Ricerca delle intersezioni\n",
    "Algoritmo che cerca le intersezioni: `find_intersections` è una funzione che data un'immagine e una retta è in grado di determinare le coordinate delle intersezioni con il carattere numerico manoscritto e la distanza dal centro.\n",
    "\n",
    "L'idea, in pseudo code, è la seguente\n",
    "```\n",
    "check del primo pixel\n",
    "\n",
    "pixel[0] è il primo pixel\n",
    "    se pixel[0] è acceso\n",
    "        se pixel[1] è acceso\n",
    "            allora coordinate di pixel[0] sono coordinate_min\n",
    "        altrimenti (primo pixel acceso, secondo è spento)\n",
    "            allora coordinate di pixel[0] costituiscono intersezione singola. \n",
    "            calc distanza tra centro e coordinate interesezione singola\n",
    "    altrimenti (pixel[0] spento)\n",
    "        non succede nulla\n",
    "\n",
    "per i che vanno da 1 a len(pixel)-1\n",
    "    se i è acceso\n",
    "        se i+1 è acceso\n",
    "            (inutile) se i-1 è acceso\n",
    "                (inutile) allora non fare nulla\n",
    "            se i-1 è spento\n",
    "                allora coordinate di pixel[i] sono coordinate_min\n",
    "        altrimenti (i acceso, i+1 spento)\n",
    "            se i-1 spento\n",
    "                allora coordinate di pixel[i] sono singola intersezione\n",
    "                calcola distanza senza media\n",
    "            altrimenti(i acceso, i+1 spento, i-1 acceso)\n",
    "                allora coordinate di pixel[i] sono coordinate max\n",
    "                calcola media tra coordinate min e max\n",
    "                calcola distanza tra media\n",
    "                clear variables coordinate_min e coordinate_max\n",
    "\n",
    "check dell'ultimo pixel\n",
    "\n",
    "end = len(pixel)\n",
    "end = end -1\n",
    "\n",
    "se pixel[end] è acceso\n",
    "    se pixel[end-1] è acceso\n",
    "        allora le coordinate di pixel[end] sono coordinate_max\n",
    "        calcola media\n",
    "        calcola distanza tra centro e coordinate medie\n",
    "    altrimenti (pixel fine acceso, pixel precedente spento)\n",
    "        allora le coordinate di pixel[end] sono intersezione singola\n",
    "```"
   ]
  },
  {
   "cell_type": "code",
   "execution_count": 51,
   "metadata": {},
   "outputs": [],
   "source": [
    "# definisco funzione per calcolare distanza tra due punti\n",
    "def calcola_distanza(punto_inizio, punto_fine):\n",
    "    distanza = np.sqrt((punto_inizio[0] - punto_fine[0])**2 + (punto_inizio[1] - punto_fine[1])**2)\n",
    "    np.round(distanza, 2)\n",
    "    return distanza"
   ]
  },
  {
   "cell_type": "code",
   "execution_count": 52,
   "metadata": {},
   "outputs": [],
   "source": [
    "# definisco funzione per trovare le intersezioni tra i caratteri manoscritti di un'immagine img e una retta di punti x e y\n",
    "def find_intersections(img, x, y, soglia):\n",
    "    \n",
    "    # determino centro immagine\n",
    "    c = find_center(img)\n",
    "    \n",
    "    # ottengo i valori dei pixel sulla retta\n",
    "    pixel = get_pixel_values(img, x, y)\n",
    "    \n",
    "    # calcolo lunghezza vettore pixel\n",
    "    l = len(x)\n",
    "    \n",
    "    # crea array vuoto per salvare le coordinate delle intersezioni\n",
    "    coordinate_intersezioni = []\n",
    "    \n",
    "    # crea array vuoto per salvare la distanza tra il centro dell'immagine e le intersezioni\n",
    "    distanze = []\n",
    "    \n",
    "    # analizza primo pixel sulla retta\n",
    "    if pixel[0]>=soglia:\n",
    "        if pixel[1]>=soglia:\n",
    "            coordinate_min = x[0], y[0]\n",
    "        else:\n",
    "            coordinate_singola_intersezione = x[i], y[i]\n",
    "            coordinate_intersezioni.append(coordinate_singola_intersezione)\n",
    "            distanza = calcola_distanza(c,coordinate_singola_intersezione)\n",
    "            distanze.append(distanza)\n",
    "    \n",
    "    for i in range(1, l):\n",
    "        # se l'iesimo pixel è acceso\n",
    "        if pixel[i] >= soglia:\n",
    "            if pixel[i+1] >= soglia:\n",
    "                if pixel[i-1] < soglia:\n",
    "                    coordinate_min = x[i], y[i]\n",
    "            else:\n",
    "                if pixel[i-1] < soglia:\n",
    "                    coordinate_singola_intersezione = x[i], y[i]\n",
    "                    coordinate_intersezioni.append(coordinate_singola_intersezione)\n",
    "                    distanza = calcola_distanza(c,coordinate_singola_intersezione)\n",
    "                    distanze.append(distanza)\n",
    "                else:\n",
    "                    coordinate_max = x[i], y[i]\n",
    "                    \n",
    "                    # calcola media tra coordinate_min e coordinate_max\n",
    "                    coordinate_media = [(coordinate_min[0] + coordinate_max[0])/2, (coordinate_min[1] + coordinate_max[1])/2]\n",
    "                    \n",
    "                    distanza = calcola_distanza(coordinate_media,c)\n",
    "                    distanze.append(distanza)\n",
    "                    \n",
    "                    # approssimo a 0 cifre decimali e salvo in array coordinate intersezioni\n",
    "                    coordinate_media[0] = np.round(coordinate_media[0],0)\n",
    "                    coordinate_media[1] = np.round(coordinate_media[1],0)\n",
    "                    coordinate_intersezioni.append(coordinate_media)\n",
    "                    \n",
    "    \n",
    "    # analizza ultimo pixel che è pixel[l-1]\n",
    "    if pixel[l-1] >= soglia:\n",
    "        if pixel[l-2] >= soglia:\n",
    "            coordinate_max = x[l-1], y[l-1]\n",
    "                    \n",
    "            # calcola media tra coordinate_min e coordinate_max\n",
    "            coordinate_media = [(coordinate_min[0] + coordinate_max[0])/2, (coordinate_min[1] + coordinate_max[1])/2]\n",
    "\n",
    "            distanza = calcola_distanza(coordinate_media,c)\n",
    "            distanze.append(distanza)\n",
    "\n",
    "            # approssimo a 0 cifre decimali e salvo in array coordinate intersezioni\n",
    "            coordinate_media[0] = np.round(coordinate_media[0],0)\n",
    "            coordinate_media[1] = np.round(coordinate_media[1],0)\n",
    "            coordinate_intersezioni.append(coordinate_media)\n",
    "        else:\n",
    "            coordinate_singola_intersezione = x[i], y[i]\n",
    "            coordinate_intersezioni.append(coordinate_singola_intersezione)\n",
    "            distanza = calcola_distanza(c,coordinate_singola_intersezione)\n",
    "            distanze.append(distanza)\n",
    "    \n",
    "    return coordinate_intersezioni, distanze\n",
    "\n",
    "# da invocare come \n",
    "# coordinate_intersezioni, distanze = find_intersections(img, x, y)"
   ]
  },
  {
   "cell_type": "code",
   "execution_count": 179,
   "metadata": {},
   "outputs": [],
   "source": [
    "# definisci funzione che plotta le intersezioni\n",
    "def plot_intersections(coordinate_intersezioni, color):\n",
    "    for i in range(len(coordinate_intersezioni)):\n",
    "        plt.scatter(coordinate_intersezioni[i][0], coordinate_intersezioni[i][1], color = color)\n",
    "\n",
    "# non so se la sintassi corretta sia\n",
    "# plt.scatter(coordinate_intersezioni[i][1], coordinate_intersezioni[i][0], color = color)\n",
    "# oppure\n",
    "# plt.scatter(coordinate_intersezioni[i][0], coordinate_intersezioni[i][1], color = color)"
   ]
  },
  {
   "cell_type": "code",
   "execution_count": 182,
   "metadata": {},
   "outputs": [
    {
     "data": {
      "image/png": "[encoded data removed]",
      "text/plain": [
       "<Figure size 400x400 with 1 Axes>"
      ]
     },
     "metadata": {},
     "output_type": "display_data"
    },
    {
     "name": "stdout",
     "output_type": "stream",
     "text": [
      "Le distanze sono:  [5.830951894845301]\n"
     ]
    },
    {
     "data": {
      "image/png": "[encoded data removed]",
      "text/plain": [
       "<Figure size 400x400 with 1 Axes>"
      ]
     },
     "metadata": {},
     "output_type": "display_data"
    },
    {
     "name": "stdout",
     "output_type": "stream",
     "text": [
      "Le distanze sono:  [0.5830951894845304, 8.16333265278342]\n"
     ]
    },
    {
     "data": {
      "image/png": "[encoded data removed]",
      "text/plain": [
       "<Figure size 400x400 with 1 Axes>"
      ]
     },
     "metadata": {},
     "output_type": "display_data"
    },
    {
     "name": "stdout",
     "output_type": "stream",
     "text": [
      "Le distanze sono:  [1.16619037896906]\n"
     ]
    },
    {
     "data": {
      "image/png": "[encoded data removed]",
      "text/plain": [
       "<Figure size 400x400 with 1 Axes>"
      ]
     },
     "metadata": {},
     "output_type": "display_data"
    },
    {
     "name": "stdout",
     "output_type": "stream",
     "text": [
      "Le distanze sono:  [2.33238075793812]\n"
     ]
    },
    {
     "data": {
      "image/png": "[encoded data removed]",
      "text/plain": [
       "<Figure size 400x400 with 1 Axes>"
      ]
     },
     "metadata": {},
     "output_type": "display_data"
    },
    {
     "name": "stdout",
     "output_type": "stream",
     "text": [
      "Le distanze sono:  [2.33238075793812]\n"
     ]
    },
    {
     "data": {
      "image/png": "[encoded data removed]",
      "text/plain": [
       "<Figure size 400x400 with 1 Axes>"
      ]
     },
     "metadata": {},
     "output_type": "display_data"
    },
    {
     "name": "stdout",
     "output_type": "stream",
     "text": [
      "Le distanze sono:  [4.081666326391711]\n"
     ]
    },
    {
     "data": {
      "image/png": "[encoded data removed]",
      "text/plain": [
       "<Figure size 400x400 with 1 Axes>"
      ]
     },
     "metadata": {},
     "output_type": "display_data"
    },
    {
     "name": "stdout",
     "output_type": "stream",
     "text": [
      "Le distanze sono:  [4.081666326391711]\n"
     ]
    },
    {
     "data": {
      "image/png": "[encoded data removed]",
      "text/plain": [
       "<Figure size 400x400 with 1 Axes>"
      ]
     },
     "metadata": {},
     "output_type": "display_data"
    },
    {
     "name": "stdout",
     "output_type": "stream",
     "text": [
      "Le distanze sono:  [2.33238075793812]\n"
     ]
    },
    {
     "data": {
      "image/png": "[encoded data removed]",
      "text/plain": [
       "<Figure size 400x400 with 1 Axes>"
      ]
     },
     "metadata": {},
     "output_type": "display_data"
    },
    {
     "name": "stdout",
     "output_type": "stream",
     "text": [
      "Le distanze sono:  [2.9154759474226504]\n"
     ]
    }
   ],
   "source": [
    "# quindi basterà fare\n",
    "\n",
    "for i in range(1,10):\n",
    "    img = x_train[i]\n",
    "    \n",
    "    # calcola centro\n",
    "    c = find_center(img)\n",
    "    \n",
    "    x, y = generate_lines_from_center(img, m = 0.6)\n",
    "    coordinate_intersezioni, distanze = find_intersections(img, x, y, soglia = 10)\n",
    "    \n",
    "    # plotta i punti di intersezione sull'immagine insieme alla semiretta (sovrapposta)\n",
    "    plt.figure(figsize=(4,4))\n",
    "    plt.imshow(img, cmap = 'gray')\n",
    "    plt.plot(x, y, color = 'red')\n",
    "    plot_center(c, 'blue')\n",
    "    plot_intersections(coordinate_intersezioni, 'red')\n",
    "    plt.show()\n",
    "\n",
    "    print(\"Le distanze sono: \", distanze)\n"
   ]
  },
  {
   "attachments": {},
   "cell_type": "markdown",
   "metadata": {},
   "source": [
    "bisogna rivedere:\n",
    "- funzione get pixel values sulla retta\n",
    "- find_intersection\n",
    "\n",
    "perchè il coefficiente angolare 1 in realtà è flippato?"
   ]
  },
  {
   "cell_type": "code",
   "execution_count": 178,
   "metadata": {},
   "outputs": [
    {
     "data": {
      "image/png": "[encoded data removed]",
      "text/plain": [
       "<Figure size 400x400 with 1 Axes>"
      ]
     },
     "metadata": {},
     "output_type": "display_data"
    }
   ],
   "source": [
    "# plotto img con assi x e y chiamati 'x' e 'y'\n",
    "plt.figure(figsize=(4,4))\n",
    "plt.imshow(img, cmap = 'gray')\n",
    "plt.axis('on')\n",
    "plt.xlabel('x')\n",
    "plt.ylabel('y')\n",
    "plt.show()"
   ]
  },
  {
   "attachments": {},
   "cell_type": "markdown",
   "metadata": {},
   "source": [
    "ecco perchè! l'asse y è rivolto verso il basso. Cosa implica questa osservazione?"
   ]
  },
  {
   "cell_type": "code",
   "execution_count": 73,
   "metadata": {},
   "outputs": [
    {
     "data": {
      "image/png": "[encoded data removed]",
      "text/plain": [
       "<Figure size 400x400 with 1 Axes>"
      ]
     },
     "metadata": {},
     "output_type": "display_data"
    },
    {
     "name": "stdout",
     "output_type": "stream",
     "text": [
      "Coordinate centro: (14, 14)\n",
      "x: [14 15 16 17 18 19 20 21 22 23 24 25 26 27]\n",
      "y: [14 15 16 17 18 19 20 21 22 23 24 25 26 27] \n",
      "\n",
      "i valori dei pixel sulla retta sono:\n",
      "[251 159   0   0   0   0   0   0   0   0   0   0   0   0] \n",
      "\n",
      "coordinate:\n",
      "[[14.0, 14.0]]\n",
      "\n",
      "distanze:\n",
      "[0.7071067811865476]\n"
     ]
    }
   ],
   "source": [
    "# test su singola immagine\n",
    "img = x_train[3]\n",
    "show_image(img)\n",
    "\n",
    "c = find_center(img)\n",
    "print(\"Coordinate centro:\", c)\n",
    "\n",
    "print(\"x:\",x)\n",
    "print(\"y:\",y,\"\\n\")\n",
    "\n",
    "pixel = get_pixel_values(img, x, y)\n",
    "coordinate, distanze = find_intersections(img,x,y, soglia)\n",
    "\n",
    "print(\"i valori dei pixel sulla retta sono:\")\n",
    "print(pixel,\"\\n\")\n",
    "\n",
    "print(\"coordinate:\")\n",
    "print(coordinate)\n",
    "\n",
    "print(\"\\ndistanze:\")\n",
    "print(distanze)"
   ]
  }
 ],
 "metadata": {
  "kernelspec": {
   "display_name": "tf",
   "language": "python",
   "name": "python3"
  },
  "language_info": {
   "codemirror_mode": {
    "name": "ipython",
    "version": 3
   },
   "file_extension": ".py",
   "mimetype": "text/x-python",
   "name": "python",
   "nbconvert_exporter": "python",
   "pygments_lexer": "ipython3",
   "version": "3.9.16"
  },
  "vscode": {
   "interpreter": {
    "hash": "b64ef7aecfde08d9a4199589fcf2cb4d704f4d403eaafb1c77ac7b920e3d7818"
   }
  }
 },
 "nbformat": 4,
 "nbformat_minor": 2
}
