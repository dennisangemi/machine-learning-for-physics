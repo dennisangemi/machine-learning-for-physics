{
 "cells": [
  {
   "cell_type": "markdown",
   "metadata": {},
   "source": [
    "# CBRN\n",
    "\n",
    "Metodo delle semirette per il riconoscimento di caratteri numerici manoscritti"
   ]
  },
  {
   "cell_type": "code",
   "execution_count": 42,
   "metadata": {},
   "outputs": [],
   "source": [
    "# hide output\n",
    "# %%capture\n",
    "\n",
    "# load libraries\n",
    "import os\n",
    "import pandas as pd\n",
    "import numpy as np\n",
    "import matplotlib.pyplot as plt\n",
    "import cv2\n",
    "import tensorflow.keras as keraster\n",
    "import tensorflow as tf\n",
    "from   keras.datasets import mnist\n",
    "from   tensorflow.keras.models import Sequential\n",
    "from   tensorflow.keras.layers import Dense"
   ]
  },
  {
   "cell_type": "code",
   "execution_count": 43,
   "metadata": {},
   "outputs": [],
   "source": [
    "# carica dati mnist\n",
    "(x_train, y_train), (x_test, y_test) = mnist.load_data()"
   ]
  },
  {
   "cell_type": "code",
   "execution_count": 44,
   "metadata": {},
   "outputs": [],
   "source": [
    "# definisci funzione 'show_image'\n",
    "def show_image(img):\n",
    "    plt.figure(figsize=(4,4))\n",
    "    plt.imshow(img, cmap = 'gray')\n",
    "    plt.axis('off')\n",
    "    plt.show(block = False)"
   ]
  },
  {
   "cell_type": "code",
   "execution_count": 45,
   "metadata": {},
   "outputs": [
    {
     "data": {
      "image/png": "[encoded data removed]",
      "text/plain": [
       "<Figure size 400x400 with 1 Axes>"
      ]
     },
     "metadata": {},
     "output_type": "display_data"
    }
   ],
   "source": [
    "img = x_train[1]\n",
    "show_image(img)"
   ]
  },
  {
   "cell_type": "code",
   "execution_count": 46,
   "metadata": {},
   "outputs": [],
   "source": [
    "# trova il centro dell'immagine\n",
    "def find_center(img):\n",
    "    # trova i pixel con valore maggiore di 0\n",
    "    x, y = np.where(img > 0)\n",
    "    # trova il centro dell'immagine\n",
    "    center = (int(np.mean(x)), int(np.mean(y)))\n",
    "    return center"
   ]
  },
  {
   "cell_type": "code",
   "execution_count": 47,
   "metadata": {},
   "outputs": [
    {
     "name": "stdout",
     "output_type": "stream",
     "text": [
      "Center of the image:  (13, 13)\n"
     ]
    }
   ],
   "source": [
    "img = x_train[1]\n",
    "c = find_center(img)\n",
    "print(\"Center of the image: \", c)"
   ]
  },
  {
   "cell_type": "code",
   "execution_count": 48,
   "metadata": {},
   "outputs": [],
   "source": [
    "# genera asse x che parta dal centro dell'immagine e termini a 28 (lunghezza immagine) a step di 1\n",
    "def generate_x_axis(c):\n",
    "    x = np.arange(c[0], 28, 1)\n",
    "    return x"
   ]
  },
  {
   "cell_type": "code",
   "execution_count": 54,
   "metadata": {},
   "outputs": [
    {
     "name": "stdout",
     "output_type": "stream",
     "text": [
      "x: [13 14 15 16 17 18 19 20 21 22 23 24 25 26 27]\n"
     ]
    },
    {
     "data": {
      "image/png": "[encoded data removed]",
      "text/plain": [
       "<Figure size 800x400 with 2 Axes>"
      ]
     },
     "metadata": {},
     "output_type": "display_data"
    }
   ],
   "source": [
    "# invoco generare_x_axis\n",
    "x = generate_x_axis(c)\n",
    "print(\"x:\", x)\n",
    "\n",
    "# genera punti della funzione y = x\n",
    "y = x\n",
    "\n",
    "# plotto\n",
    "plt.figure(figsize=(8,4))\n",
    "plt.subplot(1,2,1)\n",
    "plt.plot(x, y, color = 'red')\n",
    "# set axis limits to 0, 28\n",
    "plt.xlim(0, 28)\n",
    "plt.ylim(0, 28)\n",
    "plt.subplot(1,2,2)\n",
    "# plotta x e y sull'immagine\n",
    "plt.imshow(img, cmap = 'gray')\n",
    "plt.plot(x, y, color = 'red')\n",
    "# plotta il centro dell'immagine\n",
    "plt.scatter(c[0], c[1], color = 'blue')\n",
    "# plt.axis('off')\n",
    "plt.show(block = False)"
   ]
  },
  {
   "cell_type": "code",
   "execution_count": 55,
   "metadata": {},
   "outputs": [],
   "source": [
    "# crea funzione generate_lines che prende in input l'immagine, e il coefficiente angolare della retta\n",
    "# ne calcola il centro, e restituisce le x e le y della semiretta che parte dal centro e termina a 28\n",
    "def generate_lines_from_center(img, m):\n",
    "    # trova il centro dell'immagine\n",
    "    c = find_center(img)\n",
    "    # genera asse x che parta dal centro dell'immagine e termini a 28 (lunghezza immagine) a step di 1\n",
    "    x = np.arange(c[0], 28, 1)\n",
    "    # genera punti della funzione y = m*x\n",
    "    y = m*x\n",
    "    # approssima y a 0 cifre decimali\n",
    "    y = np.round(y, 0)\n",
    "    # casta y in interi\n",
    "    y = y.astype(int)\n",
    "    return x, y"
   ]
  },
  {
   "cell_type": "code",
   "execution_count": 56,
   "metadata": {},
   "outputs": [],
   "source": [
    "# salvare i valori dei pixel sulla retta y = x in un array dopo aver inizializzato l'array a 0 casta i valori di pixel in interi\n",
    "def get_pixel_values(img, x, y):\n",
    "    values = np.zeros(len(x))\n",
    "    for i in range(len(x)):\n",
    "        values[i] = img[x[i], y[i]]\n",
    "    return values.astype(int)"
   ]
  },
  {
   "cell_type": "code",
   "execution_count": 57,
   "metadata": {},
   "outputs": [
    {
     "name": "stdout",
     "output_type": "stream",
     "text": [
      "x: [13 14 15 16 17 18 19 20 21 22 23 24 25 26 27]\n",
      "y: [13 14 15 16 17 18 19 20 21 22 23 24 25 26 27] \n",
      "\n",
      "I valori dei pixel sulla retta y = x sono:\n",
      "[  0   0   0   0   7 252   0   0   0   0   0   0   0   0   0]\n"
     ]
    }
   ],
   "source": [
    "img = x_train[1]\n",
    "\n",
    "# invoco generate_lines_from_center\n",
    "x, y = generate_lines_from_center(img, 1)\n",
    "\n",
    "# visualizzo vettori\n",
    "print(\"x:\",x)\n",
    "print(\"y:\",y,\"\\n\")\n",
    "\n",
    "\n",
    "pixels = get_pixel_values(img, x, y)\n",
    "\n",
    "print(\"I valori dei pixel sulla retta y = x sono:\")\n",
    "print(pixels)"
   ]
  },
  {
   "cell_type": "markdown",
   "metadata": {},
   "source": [
    "### Ricerca delle intersezioni\n",
    "Dobbiamo scrivere una funzione `find_intersections` che data un'immagine e una retta sia in grado di determinare le coordinate delle intersezioni con il carattere numerico manoscritto e la distanza dal centro.\n",
    "\n",
    "L'idea, in pseudo code, è la seguente\n",
    "```\n",
    "check del primo pixel\n",
    "\n",
    "pixel[0] è il primo pixel\n",
    "    se pixel[0] è acceso\n",
    "        se pixel[1] è acceso\n",
    "            allora coordinate di pixel[0] sono coordinate_min\n",
    "        altrimenti (primo pixel acceso, secondo è spento)\n",
    "            allora coordinate di pixel[0] costituiscono intersezione singola. \n",
    "            calc distanza tra centro e coordinate interesezione singola\n",
    "    altrimenti (pixel[0] spento)\n",
    "        non succede nulla\n",
    "\n",
    "per i che vanno da 1 a len(pixel)-1\n",
    "    se i è acceso\n",
    "        se i+1 è acceso\n",
    "            (inutile) se i-1 è acceso\n",
    "                (inutile) allora non fare nulla\n",
    "            se i-1 è spento\n",
    "                allora coordinate di pixel[i] sono coordinate_min\n",
    "        altrimenti (i acceso, i+1 spento)\n",
    "            se i-1 spento\n",
    "                allora coordinate di pixel[i] sono singola intersezione\n",
    "                calcola distanza senza media\n",
    "            altrimenti(i acceso, i+1 spento, i-1 acceso)\n",
    "                allora coordinate di pixel[i] sono coordinate max\n",
    "                calcola media tra coordinate min e max\n",
    "                calcola distanza tra media\n",
    "                clear variables coordinate_min e coordinate_max\n",
    "\n",
    "check dell'ultimo pixel\n",
    "\n",
    "end = len(pixel)\n",
    "end = end -1\n",
    "\n",
    "se pixel[end] è acceso\n",
    "    se pixel[end-1] è acceso\n",
    "        allora le coordinate di pixel[end] sono coordinate_max\n",
    "        calcola media\n",
    "        calcola distanza tra centro e coordinate medie\n",
    "    altrimenti (pixel fine acceso, pixel precedente spento)\n",
    "        allora le coordinate di pixel[end] sono intersezione singola\n",
    "```"
   ]
  },
  {
   "cell_type": "code",
   "execution_count": 58,
   "metadata": {},
   "outputs": [],
   "source": [
    "# definisco funzione per calcolare distanza tra due punti\n",
    "def calcola_distanza(punto_inizio, punto_fine):\n",
    "    distanza = np.sqrt((punto_inizio[0] - punto_fine[0])**2 + (punto_inizio[1] - punto_fine[1])**2)\n",
    "    return distanza"
   ]
  },
  {
   "cell_type": "code",
   "execution_count": 59,
   "metadata": {},
   "outputs": [],
   "source": [
    "# definisco funzione per trovare le intersezioni tra i caratteri manoscritti di un'immagine img e una retta di punti x e y\n",
    "def find_intersections(img, x, y, soglia):\n",
    "    \n",
    "    # determino centro immagine\n",
    "    c = find_center(img)\n",
    "    \n",
    "    # ottengo i valori dei pixel sulla retta\n",
    "    pixel = get_pixel_values(img, x, y)\n",
    "    \n",
    "    # calcolo lunghezza vettore pixel\n",
    "    l = len(x)\n",
    "    \n",
    "    # crea array vuoto per salvare le coordinate delle intersezioni\n",
    "    coordinate_intersezioni = []\n",
    "    \n",
    "    # crea array vuoto per salvare la distanza tra il centro dell'immagine e le intersezioni\n",
    "    distanze = []\n",
    "    \n",
    "    # analizza primo pixel sulla retta\n",
    "    if pixel[0]>=soglia:\n",
    "        if pixel[1]>=soglia:\n",
    "            coordinate_min = x[0], y[0]\n",
    "        else:\n",
    "            coordinate_singola_intersezione = x[i], y[i]\n",
    "            coordinate_intersezioni.append(coordinate_singola_intersezione)\n",
    "            distanza = calcola_distanza(c,coordinate_singola_intersezione)\n",
    "            distanze.append(distanza)\n",
    "    \n",
    "    for i in range(1, l):\n",
    "        # se l'iesimo pixel è acceso\n",
    "        if pixel[i] >= soglia:\n",
    "            if pixel[i+1] >= soglia:\n",
    "                if pixel[i-1] < soglia:\n",
    "                    coordinate_min = x[i], y[i]\n",
    "            else:\n",
    "                if pixel[i-1] < soglia:\n",
    "                    coordinate_singola_intersezione = x[i], y[i]\n",
    "                    coordinate_intersezioni.append(coordinate_singola_intersezione)\n",
    "                    distanza = calcola_distanza(c,coordinate_singola_intersezione)\n",
    "                    distanze.append(distanza)\n",
    "                else:\n",
    "                    coordinate_max = x[i], y[i]\n",
    "                    \n",
    "                    # calcola media tra coordinate_min e coordinate_max\n",
    "                    coordinate_media = [(coordinate_min[0] + coordinate_max[0])/2, (coordinate_min[1] + coordinate_max[1])/2]\n",
    "                    \n",
    "                    distanza = calcola_distanza(coordinate_media,c)\n",
    "                    distanze.append(distanza)\n",
    "                    \n",
    "                    # approssimo a 0 cifre decimali e salvo in array coordinate intersezioni\n",
    "                    coordinate_media[0] = np.round(coordinate_media[0],0)\n",
    "                    coordinate_media[1] = np.round(coordinate_media[1],0)\n",
    "                    coordinate_intersezioni.append(coordinate_media)\n",
    "                    \n",
    "    \n",
    "    # analizza ultimo pixel che è pixel[l-1]\n",
    "    if pixel[l-1] >= soglia:\n",
    "        if pixel[l-2] >= soglia:\n",
    "            coordinate_max = x[l-1], y[l-1]\n",
    "                    \n",
    "            # calcola media tra coordinate_min e coordinate_max\n",
    "            coordinate_media = [(coordinate_min[0] + coordinate_max[0])/2, (coordinate_min[1] + coordinate_max[1])/2]\n",
    "\n",
    "            distanza = calcola_distanza(coordinate_media,c)\n",
    "            distanze.append(distanza)\n",
    "\n",
    "            # approssimo a 0 cifre decimali e salvo in array coordinate intersezioni\n",
    "            coordinate_media[0] = np.round(coordinate_media[0],0)\n",
    "            coordinate_media[1] = np.round(coordinate_media[1],0)\n",
    "            coordinate_intersezioni.append(coordinate_media)\n",
    "        else:\n",
    "            coordinate_singola_intersezione = x[i], y[i]\n",
    "            coordinate_intersezioni.append(coordinate_singola_intersezione)\n",
    "            distanza = calcola_distanza(c,coordinate_singola_intersezione)\n",
    "            distanze.append(distanza)\n",
    "    \n",
    "    return coordinate_intersezioni, distanze\n",
    "\n",
    "# da invocare come \n",
    "# coordinate_intersezioni, distanze = find_intersections(img, x, y)"
   ]
  },
  {
   "cell_type": "code",
   "execution_count": 60,
   "metadata": {},
   "outputs": [],
   "source": [
    "# definisci funzione che plotta le intersezioni\n",
    "def plot_intersections(coordinate_intersezioni):\n",
    "    for i in range(len(coordinate_intersezioni)):\n",
    "        plt.scatter(coordinate_intersezioni[i][1], coordinate_intersezioni[i][0], color = 'red')"
   ]
  },
  {
   "cell_type": "code",
   "execution_count": 79,
   "metadata": {},
   "outputs": [
    {
     "data": {
      "image/png": "[encoded data removed]",
      "text/plain": [
       "<Figure size 400x400 with 1 Axes>"
      ]
     },
     "metadata": {},
     "output_type": "display_data"
    },
    {
     "name": "stdout",
     "output_type": "stream",
     "text": [
      "Le distanze sono:  [6.363961030678928]\n"
     ]
    },
    {
     "data": {
      "image/png": "[encoded data removed]",
      "text/plain": [
       "<Figure size 400x400 with 1 Axes>"
      ]
     },
     "metadata": {},
     "output_type": "display_data"
    },
    {
     "name": "stdout",
     "output_type": "stream",
     "text": [
      "Le distanze sono:  [2.1213203435596424, 7.0710678118654755]\n"
     ]
    },
    {
     "data": {
      "image/png": "[encoded data removed]",
      "text/plain": [
       "<Figure size 400x400 with 1 Axes>"
      ]
     },
     "metadata": {},
     "output_type": "display_data"
    },
    {
     "name": "stdout",
     "output_type": "stream",
     "text": [
      "Le distanze sono:  [0.7071067811865476]\n"
     ]
    },
    {
     "data": {
      "image/png": "[encoded data removed]",
      "text/plain": [
       "<Figure size 400x400 with 1 Axes>"
      ]
     },
     "metadata": {},
     "output_type": "display_data"
    },
    {
     "name": "stdout",
     "output_type": "stream",
     "text": [
      "Le distanze sono:  [2.23606797749979]\n"
     ]
    }
   ],
   "source": [
    "# quindi basterà fare\n",
    "\n",
    "soglia = 1\n",
    "coefficiente_angolare = 1\n",
    "\n",
    "for i in range(1,5):\n",
    "    img = x_train[i]\n",
    "    \n",
    "    # calcola centro\n",
    "    c = find_center(img)\n",
    "    \n",
    "    x, y = generate_lines_from_center(img, coefficiente_angolare)\n",
    "    coordinate_intersezioni, distanze = find_intersections(img, x, y, soglia)\n",
    "    \n",
    "    # plotta i punti di intersezione sull'immagine insieme alla semiretta (sovrapposta)\n",
    "    plt.figure(figsize=(4,4))\n",
    "    plt.imshow(img, cmap = 'gray')\n",
    "    plt.plot(x, y, color = 'red')\n",
    "    plt.scatter(c[0], c[1], color = 'blue')\n",
    "    plot_intersections(coordinate_intersezioni)\n",
    "    plt.show()\n",
    "\n",
    "    print(\"Le distanze sono: \", distanze)\n"
   ]
  },
  {
   "cell_type": "code",
   "execution_count": 73,
   "metadata": {},
   "outputs": [
    {
     "data": {
      "image/png": "[encoded data removed]",
      "text/plain": [
       "<Figure size 400x400 with 1 Axes>"
      ]
     },
     "metadata": {},
     "output_type": "display_data"
    },
    {
     "name": "stdout",
     "output_type": "stream",
     "text": [
      "Coordinate centro: (14, 14)\n",
      "x: [14 15 16 17 18 19 20 21 22 23 24 25 26 27]\n",
      "y: [14 15 16 17 18 19 20 21 22 23 24 25 26 27] \n",
      "\n",
      "i valori dei pixel sulla retta sono:\n",
      "[251 159   0   0   0   0   0   0   0   0   0   0   0   0] \n",
      "\n",
      "coordinate:\n",
      "[[14.0, 14.0]]\n",
      "\n",
      "distanze:\n",
      "[0.7071067811865476]\n"
     ]
    }
   ],
   "source": [
    "img = x_train[3]\n",
    "show_image(img)\n",
    "\n",
    "c = find_center(img)\n",
    "print(\"Coordinate centro:\", c)\n",
    "\n",
    "print(\"x:\",x)\n",
    "print(\"y:\",y,\"\\n\")\n",
    "\n",
    "pixel = get_pixel_values(img, x, y)\n",
    "coordinate, distanze = find_intersections(img,x,y, soglia)\n",
    "\n",
    "print(\"i valori dei pixel sulla retta sono:\")\n",
    "print(pixel,\"\\n\")\n",
    "\n",
    "print(\"coordinate:\")\n",
    "print(coordinate)\n",
    "\n",
    "print(\"\\ndistanze:\")\n",
    "print(distanze)"
   ]
  }
 ],
 "metadata": {
  "kernelspec": {
   "display_name": "Conda",
   "language": "python",
   "name": "tf"
  },
  "language_info": {
   "codemirror_mode": {
    "name": "ipython",
    "version": 3
   },
   "file_extension": ".py",
   "mimetype": "text/x-python",
   "name": "python",
   "nbconvert_exporter": "python",
   "pygments_lexer": "ipython3",
   "version": "3.9.16"
  },
  "vscode": {
   "interpreter": {
    "hash": "b64ef7aecfde08d9a4199589fcf2cb4d704f4d403eaafb1c77ac7b920e3d7818"
   }
  }
 },
 "nbformat": 4,
 "nbformat_minor": 2
}
