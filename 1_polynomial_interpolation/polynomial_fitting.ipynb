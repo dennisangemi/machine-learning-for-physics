{
 "cells": [
  {
   "cell_type": "markdown",
   "id": "684e633e",
   "metadata": {},
   "source": [
    "# Polynomial interpolation\n",
    "Nel seguito di questo notebook verrà presentato un approccio alla base del \n",
    "ML: fitting polinomiale. Nello specifico verranno generati dei punti casualmente \n",
    "distribuiti attorno alla funzione seno e si otterà il polinomio interpolante \n",
    "(overfitting) che attraversa tutti i punti (di learning). In seguito si rappresenteranno \n",
    "polinomi aventi gradi inferiori a $n-1$ (dove $n$ rappresenta il numero di punti \n",
    "precedentemente generati) e si calcolerà lo scarto quadratico medio o root mean \n",
    "square error $E_{RMS}$ per ogni grado."
   ]
  },
  {
   "cell_type": "code",
   "execution_count": 1,
   "id": "899997dd",
   "metadata": {},
   "outputs": [],
   "source": [
    "graphics_toolkit(\"notebook\")"
   ]
  },
  {
   "cell_type": "code",
   "execution_count": 4,
   "id": "f2e057d6",
   "metadata": {},
   "outputs": [
    {
     "data": {
      "text/html": [
       "<table><tr><th><i>x<i></th><th>1</th><th>2</th><th>3</th><th>4</th><th>5</th><th>6</th><th>7</th><th>8</th><th>9</th><th>10</th><th>11</th><th>12</th><th>13</th><th>14</th><th>15</th><th>16</th><th>17</th><th>18</th><th>19</th><th>20</th><th>21</th><th>22</th><th>23</th><th>24</th><th>25</th><th>26</th><th>27</th><th>28</th><th>29</th><th>30</th><th>31</th><th>32</th><th>33</th><th>34</th><th>35</th><th>36</th><th>37</th><th>38</th><th>39</th><th>40</th><th>41</th><th>42</th><th>43</th><th>44</th><th>45</th><th>46</th><th>47</th><th>48</th><th>49</th><th>50</th><th>51</th><th>52</th><th>53</th><th>54</th><th>55</th><th>56</th><th>57</th><th>58</th><th>59</th><th>60</th><th>61</th><th>62</th><th>63</th><th>64</th><th>65</th><th>66</th><th>67</th><th>68</th><th>69</th><th>70</th><th>71</th><th>72</th><th>73</th><th>74</th><th>75</th><th>76</th><th>77</th><th>78</th><th>79</th><th>80</th><th>81</th><th>82</th><th>83</th><th>84</th><th>85</th><th>86</th><th>87</th><th>88</th><th>89</th><th>90</th><th>91</th><th>92</th><th>93</th><th>94</th><th>95</th><th>96</th><th>97</th><th>98</th><th>99</th><th>100</th></tr><tr><th>1</th><td>0</td><td>0.010101</td><td>0.020202</td><td>0.030303</td><td>0.040404</td><td>0.0505051</td><td>0.0606061</td><td>0.0707071</td><td>0.0808081</td><td>0.0909091</td><td>0.10101</td><td>0.111111</td><td>0.121212</td><td>0.131313</td><td>0.141414</td><td>0.151515</td><td>0.161616</td><td>0.171717</td><td>0.181818</td><td>0.191919</td><td>0.20202</td><td>0.212121</td><td>0.222222</td><td>0.232323</td><td>0.242424</td><td>0.252525</td><td>0.262626</td><td>0.272727</td><td>0.282828</td><td>0.292929</td><td>0.30303</td><td>0.313131</td><td>0.323232</td><td>0.333333</td><td>0.343434</td><td>0.353535</td><td>0.363636</td><td>0.373737</td><td>0.383838</td><td>0.393939</td><td>0.40404</td><td>0.414141</td><td>0.424242</td><td>0.434343</td><td>0.444444</td><td>0.454545</td><td>0.464646</td><td>0.474747</td><td>0.484848</td><td>0.494949</td><td>0.505051</td><td>0.515152</td><td>0.525253</td><td>0.535354</td><td>0.545455</td><td>0.555556</td><td>0.565657</td><td>0.575758</td><td>0.585859</td><td>0.59596</td><td>0.606061</td><td>0.616162</td><td>0.626263</td><td>0.636364</td><td>0.646465</td><td>0.656566</td><td>0.666667</td><td>0.676768</td><td>0.686869</td><td>0.69697</td><td>0.707071</td><td>0.717172</td><td>0.727273</td><td>0.737374</td><td>0.747475</td><td>0.757576</td><td>0.767677</td><td>0.777778</td><td>0.787879</td><td>0.79798</td><td>0.808081</td><td>0.818182</td><td>0.828283</td><td>0.838384</td><td>0.848485</td><td>0.858586</td><td>0.868687</td><td>0.878788</td><td>0.888889</td><td>0.89899</td><td>0.909091</td><td>0.919192</td><td>0.929293</td><td>0.939394</td><td>0.949495</td><td>0.959596</td><td>0.969697</td><td>0.979798</td><td>0.989899</td><td>1</td></tr></table>"
      ],
      "text/plain": [
       "x =  Columns 1 through 8:\n",
       "\n",
       "        0   0.0101   0.0202   0.0303   0.0404   0.0505   0.0606   0.0707\n",
       "\n",
       " Columns 9 through 16:\n",
       "\n",
       "   0.0808   0.0909   0.1010   0.1111   0.1212   0.1313   0.1414   0.1515\n",
       "\n",
       " Columns 17 through 24:\n",
       "\n",
       "   0.1616   0.1717   0.1818   0.1919   0.2020   0.2121   0.2222   0.2323\n",
       "\n",
       " Columns 25 through 32:\n",
       "\n",
       "   0.2424   0.2525   0.2626   0.2727   0.2828   0.2929   0.3030   0.3131\n",
       "\n",
       " Columns 33 through 40:\n",
       "\n",
       "   0.3232   0.3333   0.3434   0.3535   0.3636   0.3737   0.3838   0.3939\n",
       "\n",
       " Columns 41 through 48:\n",
       "\n",
       "   0.4040   0.4141   0.4242   0.4343   0.4444   0.4545   0.4646   0.4747\n",
       "\n",
       " Columns 49 through 56:\n",
       "\n",
       "   0.4848   0.4949   0.5051   0.5152   0.5253   0.5354   0.5455   0.5556\n",
       "\n",
       " Columns 57 through 64:\n",
       "\n",
       "   0.5657   0.5758   0.5859   0.5960   0.6061   0.6162   0.6263   0.6364\n",
       "\n",
       " Columns 65 through 72:\n",
       "\n",
       "   0.6465   0.6566   0.6667   0.6768   0.6869   0.6970   0.7071   0.7172\n",
       "\n",
       " Columns 73 through 80:\n",
       "\n",
       "   0.7273   0.7374   0.7475   0.7576   0.7677   0.7778   0.7879   0.7980\n",
       "\n",
       " Columns 81 through 88:\n",
       "\n",
       "   0.8081   0.8182   0.8283   0.8384   0.8485   0.8586   0.8687   0.8788\n",
       "\n",
       " Columns 89 through 96:\n",
       "\n",
       "   0.8889   0.8990   0.9091   0.9192   0.9293   0.9394   0.9495   0.9596\n",
       "\n",
       " Columns 97 through 100:\n",
       "\n",
       "   0.9697   0.9798   0.9899   1.0000\n"
      ]
     },
     "metadata": {},
     "output_type": "display_data"
    },
    {
     "data": {
      "text/html": [
       "<table><tr><th><i>y<i></th><th>1</th><th>2</th><th>3</th><th>4</th><th>5</th><th>6</th><th>7</th><th>8</th><th>9</th><th>10</th><th>11</th><th>12</th><th>13</th><th>14</th><th>15</th><th>16</th><th>17</th><th>18</th><th>19</th><th>20</th><th>21</th><th>22</th><th>23</th><th>24</th><th>25</th><th>26</th><th>27</th><th>28</th><th>29</th><th>30</th><th>31</th><th>32</th><th>33</th><th>34</th><th>35</th><th>36</th><th>37</th><th>38</th><th>39</th><th>40</th><th>41</th><th>42</th><th>43</th><th>44</th><th>45</th><th>46</th><th>47</th><th>48</th><th>49</th><th>50</th><th>51</th><th>52</th><th>53</th><th>54</th><th>55</th><th>56</th><th>57</th><th>58</th><th>59</th><th>60</th><th>61</th><th>62</th><th>63</th><th>64</th><th>65</th><th>66</th><th>67</th><th>68</th><th>69</th><th>70</th><th>71</th><th>72</th><th>73</th><th>74</th><th>75</th><th>76</th><th>77</th><th>78</th><th>79</th><th>80</th><th>81</th><th>82</th><th>83</th><th>84</th><th>85</th><th>86</th><th>87</th><th>88</th><th>89</th><th>90</th><th>91</th><th>92</th><th>93</th><th>94</th><th>95</th><th>96</th><th>97</th><th>98</th><th>99</th><th>100</th></tr><tr><th>1</th><td>0</td><td>0.0634239</td><td>0.126592</td><td>0.189251</td><td>0.251148</td><td>0.312033</td><td>0.371662</td><td>0.429795</td><td>0.486197</td><td>0.540641</td><td>0.592908</td><td>0.642788</td><td>0.690079</td><td>0.734592</td><td>0.776146</td><td>0.814576</td><td>0.849725</td><td>0.881453</td><td>0.909632</td><td>0.934148</td><td>0.954902</td><td>0.971812</td><td>0.984808</td><td>0.993838</td><td>0.998867</td><td>0.999874</td><td>0.996855</td><td>0.989821</td><td>0.978802</td><td>0.963842</td><td>0.945001</td><td>0.922354</td><td>0.895994</td><td>0.866025</td><td>0.83257</td><td>0.795762</td><td>0.75575</td><td>0.712694</td><td>0.666769</td><td>0.618159</td><td>0.56706</td><td>0.513677</td><td>0.458227</td><td>0.400931</td><td>0.34202</td><td>0.281733</td><td>0.220311</td><td>0.158001</td><td>0.095056</td><td>0.0317279</td><td>-0.0317279</td><td>-0.095056</td><td>-0.158001</td><td>-0.220311</td><td>-0.281733</td><td>-0.34202</td><td>-0.400931</td><td>-0.458227</td><td>-0.513677</td><td>-0.56706</td><td>-0.618159</td><td>-0.666769</td><td>-0.712694</td><td>-0.75575</td><td>-0.795762</td><td>-0.83257</td><td>-0.866025</td><td>-0.895994</td><td>-0.922354</td><td>-0.945001</td><td>-0.963842</td><td>-0.978802</td><td>-0.989821</td><td>-0.996855</td><td>-0.999874</td><td>-0.998867</td><td>-0.993838</td><td>-0.984808</td><td>-0.971812</td><td>-0.954902</td><td>-0.934148</td><td>-0.909632</td><td>-0.881453</td><td>-0.849725</td><td>-0.814576</td><td>-0.776146</td><td>-0.734592</td><td>-0.690079</td><td>-0.642788</td><td>-0.592908</td><td>-0.540641</td><td>-0.486197</td><td>-0.429795</td><td>-0.371662</td><td>-0.312033</td><td>-0.251148</td><td>-0.189251</td><td>-0.126592</td><td>-0.0634239</td><td>-2.44929e-16</td></tr></table>"
      ],
      "text/plain": [
       "y =  Columns 1 through 8:\n",
       "\n",
       "        0   0.0634   0.1266   0.1893   0.2511   0.3120   0.3717   0.4298\n",
       "\n",
       " Columns 9 through 16:\n",
       "\n",
       "   0.4862   0.5406   0.5929   0.6428   0.6901   0.7346   0.7761   0.8146\n",
       "\n",
       " Columns 17 through 24:\n",
       "\n",
       "   0.8497   0.8815   0.9096   0.9341   0.9549   0.9718   0.9848   0.9938\n",
       "\n",
       " Columns 25 through 32:\n",
       "\n",
       "   0.9989   0.9999   0.9969   0.9898   0.9788   0.9638   0.9450   0.9224\n",
       "\n",
       " Columns 33 through 40:\n",
       "\n",
       "   0.8960   0.8660   0.8326   0.7958   0.7557   0.7127   0.6668   0.6182\n",
       "\n",
       " Columns 41 through 48:\n",
       "\n",
       "   0.5671   0.5137   0.4582   0.4009   0.3420   0.2817   0.2203   0.1580\n",
       "\n",
       " Columns 49 through 56:\n",
       "\n",
       "   0.0951   0.0317  -0.0317  -0.0951  -0.1580  -0.2203  -0.2817  -0.3420\n",
       "\n",
       " Columns 57 through 64:\n",
       "\n",
       "  -0.4009  -0.4582  -0.5137  -0.5671  -0.6182  -0.6668  -0.7127  -0.7557\n",
       "\n",
       " Columns 65 through 72:\n",
       "\n",
       "  -0.7958  -0.8326  -0.8660  -0.8960  -0.9224  -0.9450  -0.9638  -0.9788\n",
       "\n",
       " Columns 73 through 80:\n",
       "\n",
       "  -0.9898  -0.9969  -0.9999  -0.9989  -0.9938  -0.9848  -0.9718  -0.9549\n",
       "\n",
       " Columns 81 through 88:\n",
       "\n",
       "  -0.9341  -0.9096  -0.8815  -0.8497  -0.8146  -0.7761  -0.7346  -0.6901\n",
       "\n",
       " Columns 89 through 96:\n",
       "\n",
       "  -0.6428  -0.5929  -0.5406  -0.4862  -0.4298  -0.3717  -0.3120  -0.2511\n",
       "\n",
       " Columns 97 through 100:\n",
       "\n",
       "  -0.1893  -0.1266  -0.0634  -0.0000\n"
      ]
     },
     "metadata": {},
     "output_type": "display_data"
    }
   ],
   "source": [
    "sen = @(x) sin(2*pi*x);\n",
    "x = linspace(0,1,100)\n",
    "y = sen(x)"
   ]
  },
  {
   "cell_type": "code",
   "execution_count": null,
   "id": "33d36ee9",
   "metadata": {},
   "outputs": [],
   "source": []
  },
  {
   "cell_type": "code",
   "execution_count": null,
   "id": "eb779106",
   "metadata": {},
   "outputs": [
    {
     "data": {},
     "metadata": {},
     "output_type": "display_data"
    },
    {
     "name": "stderr",
     "output_type": "stream",
     "text": [
      "fatal: caught signal Segmentation fault -- stopping myself..."
     ]
    }
   ],
   "source": [
    "sombrero"
   ]
  },
  {
   "cell_type": "code",
   "execution_count": null,
   "id": "1e9a9fd4",
   "metadata": {},
   "outputs": [
    {
     "data": {},
     "metadata": {},
     "output_type": "display_data"
    }
   ],
   "source": [
    "plot(x,y)"
   ]
  },
  {
   "cell_type": "code",
   "execution_count": null,
   "id": "77c3a445",
   "metadata": {},
   "outputs": [
    {
     "data": {
      "text/html": [
       "<table><tr><th><i>x<i></th><th>1</th><th>2</th><th>3</th><th>4</th><th>5</th><th>6</th><th>7</th><th>8</th><th>9</th><th>10</th><th>11</th><th>12</th><th>13</th><th>14</th><th>15</th><th>16</th><th>17</th><th>18</th><th>19</th><th>20</th><th>21</th><th>22</th><th>23</th><th>24</th><th>25</th><th>26</th><th>27</th><th>28</th><th>29</th><th>30</th><th>31</th><th>32</th><th>33</th><th>34</th><th>35</th><th>36</th><th>37</th><th>38</th><th>39</th><th>40</th><th>41</th><th>42</th><th>43</th><th>44</th><th>45</th><th>46</th><th>47</th><th>48</th><th>49</th><th>50</th><th>51</th><th>52</th><th>53</th><th>54</th><th>55</th><th>56</th><th>57</th><th>58</th><th>59</th><th>60</th><th>61</th><th>62</th><th>63</th><th>64</th><th>65</th><th>66</th><th>67</th><th>68</th><th>69</th><th>70</th><th>71</th><th>72</th><th>73</th><th>74</th><th>75</th><th>76</th><th>77</th><th>78</th><th>79</th><th>80</th><th>81</th><th>82</th><th>83</th><th>84</th><th>85</th><th>86</th><th>87</th><th>88</th><th>89</th><th>90</th><th>91</th><th>92</th><th>93</th><th>94</th><th>95</th><th>96</th><th>97</th><th>98</th><th>99</th><th>100</th></tr><tr><th>1</th><td>0</td><td>0.010101</td><td>0.020202</td><td>0.030303</td><td>0.040404</td><td>0.0505051</td><td>0.0606061</td><td>0.0707071</td><td>0.0808081</td><td>0.0909091</td><td>0.10101</td><td>0.111111</td><td>0.121212</td><td>0.131313</td><td>0.141414</td><td>0.151515</td><td>0.161616</td><td>0.171717</td><td>0.181818</td><td>0.191919</td><td>0.20202</td><td>0.212121</td><td>0.222222</td><td>0.232323</td><td>0.242424</td><td>0.252525</td><td>0.262626</td><td>0.272727</td><td>0.282828</td><td>0.292929</td><td>0.30303</td><td>0.313131</td><td>0.323232</td><td>0.333333</td><td>0.343434</td><td>0.353535</td><td>0.363636</td><td>0.373737</td><td>0.383838</td><td>0.393939</td><td>0.40404</td><td>0.414141</td><td>0.424242</td><td>0.434343</td><td>0.444444</td><td>0.454545</td><td>0.464646</td><td>0.474747</td><td>0.484848</td><td>0.494949</td><td>0.505051</td><td>0.515152</td><td>0.525253</td><td>0.535354</td><td>0.545455</td><td>0.555556</td><td>0.565657</td><td>0.575758</td><td>0.585859</td><td>0.59596</td><td>0.606061</td><td>0.616162</td><td>0.626263</td><td>0.636364</td><td>0.646465</td><td>0.656566</td><td>0.666667</td><td>0.676768</td><td>0.686869</td><td>0.69697</td><td>0.707071</td><td>0.717172</td><td>0.727273</td><td>0.737374</td><td>0.747475</td><td>0.757576</td><td>0.767677</td><td>0.777778</td><td>0.787879</td><td>0.79798</td><td>0.808081</td><td>0.818182</td><td>0.828283</td><td>0.838384</td><td>0.848485</td><td>0.858586</td><td>0.868687</td><td>0.878788</td><td>0.888889</td><td>0.89899</td><td>0.909091</td><td>0.919192</td><td>0.929293</td><td>0.939394</td><td>0.949495</td><td>0.959596</td><td>0.969697</td><td>0.979798</td><td>0.989899</td><td>1</td></tr></table>"
      ],
      "text/plain": [
       "x =  Columns 1 through 8:\n",
       "\n",
       "        0   0.0101   0.0202   0.0303   0.0404   0.0505   0.0606   0.0707\n",
       "\n",
       " Columns 9 through 16:\n",
       "\n",
       "   0.0808   0.0909   0.1010   0.1111   0.1212   0.1313   0.1414   0.1515\n",
       "\n",
       " Columns 17 through 24:\n",
       "\n",
       "   0.1616   0.1717   0.1818   0.1919   0.2020   0.2121   0.2222   0.2323\n",
       "\n",
       " Columns 25 through 32:\n",
       "\n",
       "   0.2424   0.2525   0.2626   0.2727   0.2828   0.2929   0.3030   0.3131\n",
       "\n",
       " Columns 33 through 40:\n",
       "\n",
       "   0.3232   0.3333   0.3434   0.3535   0.3636   0.3737   0.3838   0.3939\n",
       "\n",
       " Columns 41 through 48:\n",
       "\n",
       "   0.4040   0.4141   0.4242   0.4343   0.4444   0.4545   0.4646   0.4747\n",
       "\n",
       " Columns 49 through 56:\n",
       "\n",
       "   0.4848   0.4949   0.5051   0.5152   0.5253   0.5354   0.5455   0.5556\n",
       "\n",
       " Columns 57 through 64:\n",
       "\n",
       "   0.5657   0.5758   0.5859   0.5960   0.6061   0.6162   0.6263   0.6364\n",
       "\n",
       " Columns 65 through 72:\n",
       "\n",
       "   0.6465   0.6566   0.6667   0.6768   0.6869   0.6970   0.7071   0.7172\n",
       "\n",
       " Columns 73 through 80:\n",
       "\n",
       "   0.7273   0.7374   0.7475   0.7576   0.7677   0.7778   0.7879   0.7980\n",
       "\n",
       " Columns 81 through 88:\n",
       "\n",
       "   0.8081   0.8182   0.8283   0.8384   0.8485   0.8586   0.8687   0.8788\n",
       "\n",
       " Columns 89 through 96:\n",
       "\n",
       "   0.8889   0.8990   0.9091   0.9192   0.9293   0.9394   0.9495   0.9596\n",
       "\n",
       " Columns 97 through 100:\n",
       "\n",
       "   0.9697   0.9798   0.9899   1.0000\n"
      ]
     },
     "metadata": {},
     "output_type": "display_data"
    },
    {
     "data": {
      "text/html": [
       "<table><tr><th><i>y<i></th><th>1</th><th>2</th><th>3</th><th>4</th><th>5</th><th>6</th><th>7</th><th>8</th><th>9</th><th>10</th><th>11</th><th>12</th><th>13</th><th>14</th><th>15</th><th>16</th><th>17</th><th>18</th><th>19</th><th>20</th><th>21</th><th>22</th><th>23</th><th>24</th><th>25</th><th>26</th><th>27</th><th>28</th><th>29</th><th>30</th><th>31</th><th>32</th><th>33</th><th>34</th><th>35</th><th>36</th><th>37</th><th>38</th><th>39</th><th>40</th><th>41</th><th>42</th><th>43</th><th>44</th><th>45</th><th>46</th><th>47</th><th>48</th><th>49</th><th>50</th><th>51</th><th>52</th><th>53</th><th>54</th><th>55</th><th>56</th><th>57</th><th>58</th><th>59</th><th>60</th><th>61</th><th>62</th><th>63</th><th>64</th><th>65</th><th>66</th><th>67</th><th>68</th><th>69</th><th>70</th><th>71</th><th>72</th><th>73</th><th>74</th><th>75</th><th>76</th><th>77</th><th>78</th><th>79</th><th>80</th><th>81</th><th>82</th><th>83</th><th>84</th><th>85</th><th>86</th><th>87</th><th>88</th><th>89</th><th>90</th><th>91</th><th>92</th><th>93</th><th>94</th><th>95</th><th>96</th><th>97</th><th>98</th><th>99</th><th>100</th></tr><tr><th>1</th><td>0</td><td>0.0634239</td><td>0.126592</td><td>0.189251</td><td>0.251148</td><td>0.312033</td><td>0.371662</td><td>0.429795</td><td>0.486197</td><td>0.540641</td><td>0.592908</td><td>0.642788</td><td>0.690079</td><td>0.734592</td><td>0.776146</td><td>0.814576</td><td>0.849725</td><td>0.881453</td><td>0.909632</td><td>0.934148</td><td>0.954902</td><td>0.971812</td><td>0.984808</td><td>0.993838</td><td>0.998867</td><td>0.999874</td><td>0.996855</td><td>0.989821</td><td>0.978802</td><td>0.963842</td><td>0.945001</td><td>0.922354</td><td>0.895994</td><td>0.866025</td><td>0.83257</td><td>0.795762</td><td>0.75575</td><td>0.712694</td><td>0.666769</td><td>0.618159</td><td>0.56706</td><td>0.513677</td><td>0.458227</td><td>0.400931</td><td>0.34202</td><td>0.281733</td><td>0.220311</td><td>0.158001</td><td>0.095056</td><td>0.0317279</td><td>-0.0317279</td><td>-0.095056</td><td>-0.158001</td><td>-0.220311</td><td>-0.281733</td><td>-0.34202</td><td>-0.400931</td><td>-0.458227</td><td>-0.513677</td><td>-0.56706</td><td>-0.618159</td><td>-0.666769</td><td>-0.712694</td><td>-0.75575</td><td>-0.795762</td><td>-0.83257</td><td>-0.866025</td><td>-0.895994</td><td>-0.922354</td><td>-0.945001</td><td>-0.963842</td><td>-0.978802</td><td>-0.989821</td><td>-0.996855</td><td>-0.999874</td><td>-0.998867</td><td>-0.993838</td><td>-0.984808</td><td>-0.971812</td><td>-0.954902</td><td>-0.934148</td><td>-0.909632</td><td>-0.881453</td><td>-0.849725</td><td>-0.814576</td><td>-0.776146</td><td>-0.734592</td><td>-0.690079</td><td>-0.642788</td><td>-0.592908</td><td>-0.540641</td><td>-0.486197</td><td>-0.429795</td><td>-0.371662</td><td>-0.312033</td><td>-0.251148</td><td>-0.189251</td><td>-0.126592</td><td>-0.0634239</td><td>-2.44929e-16</td></tr></table>"
      ],
      "text/plain": [
       "y =  Columns 1 through 8:\n",
       "\n",
       "        0   0.0634   0.1266   0.1893   0.2511   0.3120   0.3717   0.4298\n",
       "\n",
       " Columns 9 through 16:\n",
       "\n",
       "   0.4862   0.5406   0.5929   0.6428   0.6901   0.7346   0.7761   0.8146\n",
       "\n",
       " Columns 17 through 24:\n",
       "\n",
       "   0.8497   0.8815   0.9096   0.9341   0.9549   0.9718   0.9848   0.9938\n",
       "\n",
       " Columns 25 through 32:\n",
       "\n",
       "   0.9989   0.9999   0.9969   0.9898   0.9788   0.9638   0.9450   0.9224\n",
       "\n",
       " Columns 33 through 40:\n",
       "\n",
       "   0.8960   0.8660   0.8326   0.7958   0.7557   0.7127   0.6668   0.6182\n",
       "\n",
       " Columns 41 through 48:\n",
       "\n",
       "   0.5671   0.5137   0.4582   0.4009   0.3420   0.2817   0.2203   0.1580\n",
       "\n",
       " Columns 49 through 56:\n",
       "\n",
       "   0.0951   0.0317  -0.0317  -0.0951  -0.1580  -0.2203  -0.2817  -0.3420\n",
       "\n",
       " Columns 57 through 64:\n",
       "\n",
       "  -0.4009  -0.4582  -0.5137  -0.5671  -0.6182  -0.6668  -0.7127  -0.7557\n",
       "\n",
       " Columns 65 through 72:\n",
       "\n",
       "  -0.7958  -0.8326  -0.8660  -0.8960  -0.9224  -0.9450  -0.9638  -0.9788\n",
       "\n",
       " Columns 73 through 80:\n",
       "\n",
       "  -0.9898  -0.9969  -0.9999  -0.9989  -0.9938  -0.9848  -0.9718  -0.9549\n",
       "\n",
       " Columns 81 through 88:\n",
       "\n",
       "  -0.9341  -0.9096  -0.8815  -0.8497  -0.8146  -0.7761  -0.7346  -0.6901\n",
       "\n",
       " Columns 89 through 96:\n",
       "\n",
       "  -0.6428  -0.5929  -0.5406  -0.4862  -0.4298  -0.3717  -0.3120  -0.2511\n",
       "\n",
       " Columns 97 through 100:\n",
       "\n",
       "  -0.1893  -0.1266  -0.0634  -0.0000\n"
      ]
     },
     "metadata": {},
     "output_type": "display_data"
    },
    {
     "data": {},
     "metadata": {},
     "output_type": "display_data"
    }
   ],
   "source": [
    "sen = @(x) sin(2*pi*x);\n",
    "x = linspace(0,1,100)\n",
    "y = sen(x)\n",
    "\n",
    "plot(x,y)\n",
    "xlabel(\"x\")\n",
    "ylabel(\"y\")\n",
    "legend(\"y = sin(2\\pi x)\")"
   ]
  },
  {
   "cell_type": "code",
   "execution_count": 1,
   "id": "57513da4",
   "metadata": {},
   "outputs": [],
   "source": [
    "% cleaning enviroment\n",
    "clc\n",
    "clear"
   ]
  },
  {
   "cell_type": "markdown",
   "id": "b836715a",
   "metadata": {},
   "source": [
    "Rappresento la funzione $y = sin(2\\pi x)$ con $0 \\leq x\\leq 1$"
   ]
  },
  {
   "cell_type": "code",
   "execution_count": null,
   "id": "773e6e5b",
   "metadata": {},
   "outputs": [
    {
     "data": {},
     "metadata": {},
     "output_type": "display_data"
    },
    {
     "name": "stderr",
     "output_type": "stream",
     "text": [
      "fatal: caught signal Segmentation fault -- stopping myself..."
     ]
    }
   ],
   "source": [
    "% funzione seno\n",
    "% sen = @(x) sin(2*pi*x);\n",
    "\n",
    "% genero vettori\n",
    "x = linspace(0,1,100);\n",
    "y = sen(x);\n",
    "\n",
    "% plotto funzione seno\n",
    "figure;\n",
    "plot(x,y)\n",
    "xlabel(\"x\")\n",
    "ylabel(\"y\")\n",
    "legend(\"y = sin(2\\pi x)\")"
   ]
  },
  {
   "cell_type": "code",
   "execution_count": null,
   "id": "d31fecd8",
   "metadata": {},
   "outputs": [],
   "source": [
    "% Genero set di learning avente |n_lrn| punti randomicamente distribuiti attorno \n",
    "% alla funzione seno\n",
    "\n",
    "% genero set di learning\n",
    "n_lrn = 10;\n",
    "x_lrn = linspace(0,1,n_lrn);\n",
    "eps = 0.15;\n",
    "y_lrn = sin(2*pi*x_lrn);\n",
    "y_lrn = y_lrn + (-eps + (2.*eps).*rand(n_lrn,1))';\n",
    "\n",
    "figure\n",
    "plot(x,y)\n",
    "hold on\n",
    "plot(x_lrn,y_lrn,\"o\")\n",
    "legend(\"sin(2\\pix)\",\"data\")\n",
    "xlabel(\"x\")\n",
    "ylabel(\"y\")\n",
    "hold off"
   ]
  },
  {
   "cell_type": "markdown",
   "id": "de815083",
   "metadata": {},
   "source": [
    "Il *polinomio interpolante* è quel polinomio la cui curva passa attraverso \n",
    "tutti i punti sperimentali. Se il polinomio ha forma generale $y=a_1 + a_2 x \n",
    "+ a_3 x^3 + ... + a_n x^{n-1}$ dove \n",
    " \n",
    "* $n$ è il numero di punti da fittare;\n",
    "* $a_1$, $a_2$, ..., $a_n$ sono gli $n$ coefficienti del polinomio;\n",
    " \n",
    "Posto $\\bar{x} = (x_1, x_2, ..., x_n)$, affinchè il polinomio attraversi tutti \n",
    "i punti del vettore $\\bar{x}$ deve verificare le seguenti condizioni:\n",
    " \n",
    "* $y_1=a_1 + a_2 x_1 + a_3 x_1^3 + ... + a_n x_1^{n-1}$     (condizione passaggio \n",
    "per il punto $x_1$)\n",
    "* $y_2=a_1 + a_2 x_2 + a_3 x_2^3 + ... + a_n x_2^{n-1}$     (condizione passaggio \n",
    "per il punto $x_2$)\n",
    "* ...\n",
    "* $y_n=a_1 + a_2 x_n + a_3 x_n^3 + ... + a_n x_n^{n-1}$     (condizione passaggio \n",
    "per il punto $x_n$)\n",
    " \n",
    "che rappresenta un sistema di $n$ equazioni in $n$ incognite. Il nostro obiettivo \n",
    "consiste nel risolvere il sistema per determinare gli $n$ coefficienti $a_1$, \n",
    "$a_2$, ..., $a_n$ e quindi il polinomio interpolante.\n",
    "\n",
    "Sfruttando il formalismo matriciale è possibile rappresentare il sistema di \n",
    "$n$ equazioni come di seguito\n",
    "\n",
    "$$\\pmatrix{y_1 \\cr y_2 \\cr ... \\cr y_n} = \\pmatrix{1 & x_1 & x_1^2 & ... & \n",
    "x_1^{n-1} \\cr 1 & x_2 & x_2^2 & ... & x_2^{n-1} \\cr ... & ... & ... & ... & \n",
    "... \\cr 1 & x_n & x_n^2 & ... & x_n^{n-1}} \\cdot \\pmatrix{a_1 \\cr a_2 \\cr ... \n",
    "\\cr a_n}$$\n",
    "\n",
    "La matrice $\\pmatrix{1 & x_1 & x_1^2 & ... & x_1^{n-1} \\cr 1 & x_2 & x_2^2 \n",
    "& ... & x_2^{n-1} \\cr ... & ... & ... & ... & ... \\cr 1 & x_n & x_n^2 & ... \n",
    "& x_n^{n-1}}$ prende il nome \"matrice di Vandermonde\" e si genera a partire \n",
    "da un singolo vettore"
   ]
  },
  {
   "cell_type": "code",
   "execution_count": null,
   "id": "9b21121f",
   "metadata": {},
   "outputs": [],
   "source": [
    "% genero matrice di Vandermonde\n",
    "V = fliplr(vander(x_lrn))\n",
    "%% \n",
    "% Risolvo il sistema $y = \\alpha V$ dove $\\alpha$ sono i coefficienti del polinomio \n",
    "% cercato: $y = \\alpha_1 + \\alpha_2 x_1 + \\alpha_3 x_2^2+...$\n",
    "% \n",
    "% Alla luce della forma matriciale, è possibile determinare i coefficienti $\\alpha$ \n",
    "% eseguendo il prodotto righe per colonna tra l'inversa della matrice di Vandermonde \n",
    "% e il vettore colonna y\n",
    "\n",
    "% determino i coefficienti\n",
    "% a = pinv(V)*(y_lrn')\n",
    "a = V\\y_lrn'\n",
    "\n",
    "% ottengo il polinomio funzione degli scalari x e m (grado)\n",
    "poly = @(x,m) (x.^(0:m))*(a(1:m+1));\n",
    "\n",
    "% over-fitting\n",
    "z = zeros(1,100);\n",
    "for i=1:100\n",
    "    z(i) = poly(x(i),n_lrn-1);\n",
    "end\n",
    "%%\n",
    "figure;\n",
    "plot(x,z,\"r\")\n",
    "hold on\n",
    "plot(x_lrn,y_lrn,'ob')\n",
    "plot(x,y,\"g\")\n",
    "hold off\n",
    "legend(\"polynomial fit\", \"data\", \"sin(2\\pix)\")\n",
    "xlabel(\"x\")\n",
    "ylabel(\"y\")\n",
    "ylim([-1.5 1.5])\n",
    "xlim([0 1])"
   ]
  },
  {
   "cell_type": "code",
   "execution_count": null,
   "id": "e7041177",
   "metadata": {},
   "outputs": [],
   "source": [
    "% plotting at different M (polynomial order)\n",
    "\n",
    "% plot M = 0\n",
    "figure;\n",
    "plot(x,repelem(a(1),length(x)),\"r\")\n",
    "hold on\n",
    "plot(x_lrn,y_lrn,'ob')\n",
    "plot(x,y,\"g\")\n",
    "hold off\n",
    "legend(\"polynomial fit\", \"data\", \"sin(2\\pix)\")\n",
    "xlabel(\"x\")\n",
    "ylabel(\"y\")\n",
    "ylim([-1.5 1.5])\n",
    "xlim([0 1])\n",
    "title(\"M=0\")\n",
    "\n",
    "% plot M = 1\n",
    "figure;\n",
    "plot(x,(a(1)+a(2).*x),\"r\")\n",
    "hold on\n",
    "plot(x_lrn,y_lrn,'ob')\n",
    "plot(x,y,\"g\")\n",
    "hold off\n",
    "legend(\"polynomial fit\", \"data\", \"sin(2\\pix)\")\n",
    "xlabel(\"x\")\n",
    "ylabel(\"y\")\n",
    "ylim([-1.5 1.5])\n",
    "xlim([0 1])\n",
    "title(\"M=1\")\n",
    "\n",
    "% plot M = 3\n",
    "figure;\n",
    "plot(x,(a(1) + (a(2).*x) + a(3).*x.^2 + a(4).*x.^3),\"r\")\n",
    "hold on\n",
    "plot(x_lrn,y_lrn,'ob')\n",
    "plot(x,y,\"g\")\n",
    "hold off\n",
    "legend(\"polynomial fit\", \"data\", \"sin(2\\pix)\")\n",
    "xlabel(\"x\")\n",
    "ylabel(\"y\")\n",
    "ylim([-1.5 1.5])\n",
    "xlim([0 1])\n",
    "title(\"M=3\")"
   ]
  },
  {
   "cell_type": "code",
   "execution_count": null,
   "id": "68fbf3fe",
   "metadata": {},
   "outputs": [],
   "source": [
    "% learning error\n",
    "\n",
    "% initializing vectors\n",
    "learning_error = zeros(1,n_lrn);\n",
    "y_fit = learning_error;\n",
    "\n",
    "for j = 1:n_lrn\n",
    "\n",
    "    % estimate y points\n",
    "    for i = 1:n_lrn\n",
    "        y_fit(i) = poly(x_lrn(i),j-1);\n",
    "    end\n",
    "\n",
    "    % calculating learning error\n",
    "    learning_error(j) = sqrt(sum((y_fit-y_lrn).^2))/n_lrn;\n",
    "end\n",
    "\n",
    "% plotting learning error\n",
    "plot(0:n_lrn-1,learning_error,\"-o\")\n",
    "xlabel(\"M (grado del polinomio interpolante)\")\n",
    "ylabel(\"Scarto quadratico medio\")\n",
    "legend(\"Training\")"
   ]
  }
 ],
 "metadata": {
  "kernelspec": {
   "display_name": "Octave (xoctave)",
   "language": "Octave",
   "name": "xoctave"
  },
  "language_info": {
   "codemirror_mode": "octave",
   "file_extension": ".m",
   "mimetype": "text/x-octave",
   "name": "Octave",
   "nbconvert_exporter": "",
   "pygments_lexer": "octave",
   "version": "7.3.0"
  }
 },
 "nbformat": 4,
 "nbformat_minor": 5
}
